{
 "cells": [
  {
   "cell_type": "code",
   "execution_count": 1,
   "id": "7667b50a-a6d2-43a2-bc48-07ab7464a84b",
   "metadata": {},
   "outputs": [
    {
     "name": "stdout",
     "output_type": "stream",
     "text": [
      "Car model : Toyota Corolla\n",
      "Car model : 2020\n"
     ]
    }
   ],
   "source": [
    "#Create a class Car with attributes  model, and year. Add a method display_info() to print the car details.\n",
    "class Car :\n",
    "    def __init__(self , model , year):\n",
    "        self.model = model\n",
    "        self.year= year\n",
    "    \n",
    "    def  display_info(self):\n",
    "        print(f\"Car model : {self.model}\")\n",
    "        print(f\"Car model : {self.year}\")\n",
    "\n",
    "car1 = Car(\"Toyota Corolla\", 2020)\n",
    "car1.display_info()"
   ]
  },
  {
   "cell_type": "code",
   "execution_count": 6,
   "id": "21b72070-7d73-47b2-a9ac-bd2df6169ba5",
   "metadata": {},
   "outputs": [
    {
     "data": {
      "text/plain": [
       "(50.24, 25.12)"
      ]
     },
     "execution_count": 6,
     "metadata": {},
     "output_type": "execute_result"
    }
   ],
   "source": [
    "# Create a class Circle with radius as input. Add methods to calculate area and circumference.\n",
    "class Radius:\n",
    "    def __init__(self , radius):\n",
    "        self.radius = radius\n",
    "\n",
    "    def calculate(self):\n",
    "       aera = (3.14  * (self.radius**2))\n",
    "       circumference = 2 * 3.14 * self.radius\n",
    "       return aera , circumference\n",
    "\n",
    "r1 = Radius(4)\n",
    "r1.calculate()"
   ]
  },
  {
   "cell_type": "code",
   "execution_count": 9,
   "id": "5bfb32b1-4c14-49b5-854a-b91eb1a5d4a1",
   "metadata": {},
   "outputs": [
    {
     "name": "stdout",
     "output_type": "stream",
     "text": [
      "yes, marks is greater than 40\n"
     ]
    }
   ],
   "source": [
    "# Define a class Student with name, age, and marks. Add a method to check if marks are above 40\n",
    "\n",
    "class Student:\n",
    "    def __init__(self , name , age , marks):\n",
    "        self.name = name\n",
    "        self.age = age\n",
    "        self.marks = marks\n",
    "    def check(self):\n",
    "        if self.marks > 40:\n",
    "            print(\"yes, marks is greater than 40\")\n",
    "\n",
    "        else :\n",
    "            print(\" marks is less than 40\")\n",
    "            \n",
    "\n",
    "s1 = Student(\"aqsa\" , 23 , 80)\n",
    "s1.check()"
   ]
  },
  {
   "cell_type": "code",
   "execution_count": null,
   "id": "766191a7-2074-41e1-a1cf-1b72facb9d60",
   "metadata": {},
   "outputs": [],
   "source": [
    "# Write a class BankAccount with deposit and withdraw methods. Keep balance private."
   ]
  },
  {
   "cell_type": "code",
   "execution_count": 33,
   "id": "3e316485-b1a3-46fc-9d4a-d62e9cf14510",
   "metadata": {},
   "outputs": [
    {
     "name": "stdout",
     "output_type": "stream",
     "text": [
      "12000\n",
      "Insufficient balance!\n",
      "0\n"
     ]
    }
   ],
   "source": [
    "class Bank:\n",
    "    def __init__(self , balance):\n",
    "        self.__balance = balance\n",
    "\n",
    "    def deposit(self , amount):\n",
    "        self.amount = amount\n",
    "        self.__balance += self.amount \n",
    "\n",
    "    def withdraw (self , amount):\n",
    "        self.amount = amount\n",
    "        if self.amount > self.__balance  :\n",
    "            print(\"Insufficient balance!\")\n",
    "        else :\n",
    "            self.__balance -=self.amount\n",
    "         \n",
    "\n",
    "    def get_balance(self):\n",
    "        return self.__balance\n",
    "\n",
    "b1 = Bank(10000)\n",
    "b1.deposit(3000)\n",
    "b1.withdraw(1000)\n",
    "print(b1.get_balance())\n",
    "\n",
    "b2 = Bank(0)\n",
    "b2.withdraw(1000)\n",
    "print(b2.get_balance())"
   ]
  },
  {
   "cell_type": "code",
   "execution_count": 36,
   "id": "c2f05bae-2256-405a-9e50-b08e61e633b1",
   "metadata": {},
   "outputs": [
    {
     "name": "stdout",
     "output_type": "stream",
     "text": [
      "aqsa\n"
     ]
    }
   ],
   "source": [
    "# Create a class Person and use _init_ to set attributes. Create an object and access the attributes.\n",
    "class Student:\n",
    "    def __init__(self , name , age , marks):\n",
    "        self.name = name\n",
    "        self.age = age\n",
    "        self.marks = marks\n",
    "\n",
    "s1 = Student(\"aqsa\" , 23 , 80)\n",
    "print(s1.name)"
   ]
  },
  {
   "cell_type": "code",
   "execution_count": 39,
   "id": "dc41c61a-7485-43e5-9d23-686110119643",
   "metadata": {},
   "outputs": [
    {
     "name": "stdout",
     "output_type": "stream",
     "text": [
      "5000\n",
      "62000\n"
     ]
    }
   ],
   "source": [
    "\"\"\" Create a base class Employee with a method get_salary(). Create a derived \n",
    "class Manager with overridden get_salary() adding bonus.  \"\"\"\n",
    "class Employee:\n",
    "    def __init__(self , salary):\n",
    "        self.salary = salary\n",
    "        \n",
    "    def get_salary(self ):\n",
    "        return self.salary\n",
    "         \n",
    "class Manager(Employee):\n",
    "    \n",
    "    def __init__(self , salary , bonus):\n",
    "        super().__init__(salary)\n",
    "        self.bonus = bonus\n",
    "\n",
    "    def get_salary(self ):\n",
    "        return self.salary + self.bonus\n",
    "e1 = Employee(5000)\n",
    "print(e1.get_salary())\n",
    "m1 = Manager(60000 , 2000)\n",
    "print(m1.get_salary())\n",
    "    "
   ]
  },
  {
   "cell_type": "code",
   "execution_count": 47,
   "id": "0cae7543-5f9a-4c85-98bd-1f1f4234c3a3",
   "metadata": {},
   "outputs": [
    {
     "name": "stdout",
     "output_type": "stream",
     "text": [
      "The Alchemist\n",
      "Paulo Coelho\n",
      "updated title :  1984\n",
      "updated title :  George Orwell\n"
     ]
    }
   ],
   "source": [
    "# Make a class Book with private attributes _title and _author. Use getter and setter methods.\n",
    "class Book :\n",
    "    def __init__(self , title , author):\n",
    "        self.__title = title\n",
    "        self.__author = author\n",
    "        \n",
    "          # Getter for title\n",
    "    def get_title(self):\n",
    "        return self.__title \n",
    "        \n",
    "       # Setter for title\n",
    "    def set_title(self , title):\n",
    "        self.__title = title\n",
    "\n",
    "         # Getter for author\n",
    "    def get_author(self):\n",
    "        return self.__author \n",
    "        \n",
    "       # Setter for author\n",
    "    def set_author(self , author):\n",
    "        self.__author = author\n",
    "\n",
    "book1 = Book(\"The Alchemist\", \"Paulo Coelho\")\n",
    "print(book1.get_title())\n",
    "print(book1.get_author())\n",
    "book1.set_title(\"1984\")\n",
    "print(\"updated title : \" , book1.get_title())\n",
    "book1.set_author(\"George Orwell\")\n",
    "print(\"updated title : \" , book1.get_author())\n",
    "\n",
    "\n",
    "        \n",
    " \n"
   ]
  },
  {
   "cell_type": "code",
   "execution_count": 52,
   "id": "b7d3ba69-4d14-4c99-a83e-9907a16f2b49",
   "metadata": {},
   "outputs": [
    {
     "name": "stdout",
     "output_type": "stream",
     "text": [
      "4\n",
      "50.24\n"
     ]
    }
   ],
   "source": [
    "# Use the @property decorator to make a read-only attribute in a class.\n",
    "class Circle:\n",
    "    def __init__(self , radius):\n",
    "        self.__radius = radius\n",
    "    @ property\n",
    "    def radius(self):\n",
    "        return self.__radius\n",
    "\n",
    "    @property\n",
    "    def aera(self ):\n",
    "        return (3.14  * (self.__radius**2))\n",
    "        \n",
    "\n",
    "r1 = Circle(4)\n",
    "print(r1.radius)\n",
    "print(r1.aera)"
   ]
  },
  {
   "cell_type": "code",
   "execution_count": 54,
   "id": "b45b3a65-6ea7-44a0-a53f-35d742ae5427",
   "metadata": {},
   "outputs": [
    {
     "name": "stdout",
     "output_type": "stream",
     "text": [
      "this is rectangle class\n",
      "this is triangle class\n",
      "Area of Rectangle: 50\n",
      "Area of Triangle: 12.0\n"
     ]
    }
   ],
   "source": [
    "# Create a class Shape and two child classes Rectangle and Triangle. Implement a method area() in both.\n",
    "class Shape:\n",
    "    def __init__(self):\n",
    "        print(\"this is shape class\")\n",
    "\n",
    "\n",
    "    def aera():\n",
    "        pass\n",
    "\n",
    "class Rectangle(Shape):\n",
    "    def __init__(self , length , width):\n",
    "        self.length = length\n",
    "        self.width = width\n",
    "        print(\"this is rectangle class\")\n",
    "\n",
    "    def aera(self):\n",
    "        return self.length * self.width\n",
    "        \n",
    "\n",
    "class Triangle(Shape):\n",
    "    def __init__(self , base , height):\n",
    "        self.base = base\n",
    "        self.height = height\n",
    "        print(\"this is triangle class\")\n",
    "        \n",
    "    def aera(self):\n",
    "        return 0.5 * self.base * self.height\n",
    "\n",
    "rect = Rectangle(10, 5)\n",
    "tri = Triangle(6, 4)\n",
    "\n",
    "print(\"Area of Rectangle:\" , rect.aera())\n",
    "print(\"Area of Triangle:\", tri.aera())"
   ]
  },
  {
   "cell_type": "code",
   "execution_count": 65,
   "id": "00018c4d-a48f-4c28-9b3c-100a9716c7d6",
   "metadata": {},
   "outputs": [
    {
     "name": "stdout",
     "output_type": "stream",
     "text": [
      "lenovo\n",
      "lenovo\n"
     ]
    }
   ],
   "source": [
    "# Create a class Laptop and ensure that brand cannot be changed after object creation (read-only)\n",
    "class Laptop:\n",
    "    def __init__(self , brand):\n",
    "        self.__brand = brand\n",
    "\n",
    "    @property\n",
    "    def gett(self):\n",
    "        return self.__brand\n",
    "\n",
    "l1 = Laptop(\"lenovo\")\n",
    "print(l1.gett)\n",
    "l1.brand = \"apple\"\n",
    "print(l1.gett)\n",
    "\n",
    "\n",
    "    "
   ]
  },
  {
   "cell_type": "code",
   "execution_count": 4,
   "id": "ee0e348e-f77a-40ad-aed9-9c02639629da",
   "metadata": {},
   "outputs": [
    {
     "name": "stdout",
     "output_type": "stream",
     "text": [
      "37.4\n"
     ]
    }
   ],
   "source": [
    "# Write a class Temperature that uses a class method to convert Celsius to Fahrenheit.\n",
    "class Temperature:\n",
    "    def __init__(self , celsius):\n",
    "        self.celsius = celsius\n",
    "\n",
    "    def convert(self):\n",
    "       return (self.celsius * 9/5) + 32\n",
    "\n",
    "t1 =Temperature(3)\n",
    "print(t1.convert())\n"
   ]
  },
  {
   "cell_type": "code",
   "execution_count": 19,
   "id": "061ad53b-ce22-4815-a365-3830a7fdf5de",
   "metadata": {},
   "outputs": [
    {
     "name": "stdout",
     "output_type": "stream",
     "text": [
      " Book 'Python Basics' added to the library.\n",
      " Book 'Data Structures' added to the library.\n",
      " Book 'AI for Beginners' added to the library.\n",
      "\n",
      "\n",
      "Alice borrowed 'Python Basics'.\n",
      "Bob borrowed 'Data Structures'.\n",
      "Sorry, 'Unknown Book' is not available.\n",
      "\n",
      "\n",
      "Alice returned 'Python Basics'.\n",
      "Bob did not borrow 'Wrong Book' or book doesn't exist.\n",
      "\n",
      "\n",
      "Available books: ['AI for Beginners', 'Python Basics']\n",
      "Issued books: {'Data Structures': 'Bob'}\n",
      "Total books issued: 2\n"
     ]
    }
   ],
   "source": [
    "\"\"\" 16. Create a class LibrarySystem:\n",
    "users can borrow and return books.\n",
    "Track available and issued books.\n",
    "Use a class variable to store total books issued. \"\"\"\n",
    "\n",
    "class LibrarySystem:\n",
    "    total_issued_books = 0\n",
    "    def __init__(self ):\n",
    "        self.available_book = []\n",
    "        self.issued_book = {}\n",
    "    \n",
    "    def add_book(self , book_name):\n",
    "        self.available_book.append(book_name)\n",
    "        print(f\" Book '{book_name}' added to the library.\")\n",
    "\n",
    "    def borrow_book(self , book_name , user):\n",
    "        if book_name in self.available_book :\n",
    "            self.available_book.remove(book_name)\n",
    "            self.issued_book[book_name] = user\n",
    "            LibrarySystem.total_issued_books += 1\n",
    "            print(f\"{user} borrowed '{book_name}'.\")\n",
    "\n",
    "        else :\n",
    "            print(f\"Sorry, '{book_name}' is not available.\")\n",
    "\n",
    "    def return_book(self , book_name , user):\n",
    "        if self.issued_book.get(book_name) == user :\n",
    "            self.available_book.append(book_name)\n",
    "            del self.issued_book[book_name]\n",
    "            print(f\"{user} returned '{book_name}'.\")\n",
    "\n",
    "        else :\n",
    "            print(f\"{user} did not borrow '{book_name}' or book doesn't exist.\")\n",
    "\n",
    "    def show_status(self):\n",
    "         print(\"Available books:\", self.available_book)\n",
    "         print(\"Issued books:\", self.issued_book)\n",
    "         print(\"Total books issued:\", LibrarySystem.total_issued_books)\n",
    "            \n",
    "        \n",
    "library = LibrarySystem()\n",
    "\n",
    "library.add_book(\"Python Basics\")\n",
    "library.add_book(\"Data Structures\")\n",
    "library.add_book(\"AI for Beginners\")\n",
    "print(\"\\n\")\n",
    "library.borrow_book(\"Python Basics\" , \"Alice\" )\n",
    "library.borrow_book(\"Data Structures\" , \"Bob\", )\n",
    "library.borrow_book( \"Unknown Book\" , \"Charlie\",)  # Not available\n",
    "print(\"\\n\")\n",
    "library.return_book( \"Python Basics\", \"Alice\")\n",
    "library.return_book( \"Wrong Book\" , \"Bob\")  # Not borrowed\n",
    "print(\"\\n\")\n",
    "library.show_status()\n",
    "    "
   ]
  }
 ],
 "metadata": {
  "kernelspec": {
   "display_name": "Python [conda env:base] *",
   "language": "python",
   "name": "conda-base-py"
  },
  "language_info": {
   "codemirror_mode": {
    "name": "ipython",
    "version": 3
   },
   "file_extension": ".py",
   "mimetype": "text/x-python",
   "name": "python",
   "nbconvert_exporter": "python",
   "pygments_lexer": "ipython3",
   "version": "3.12.7"
  }
 },
 "nbformat": 4,
 "nbformat_minor": 5
}
