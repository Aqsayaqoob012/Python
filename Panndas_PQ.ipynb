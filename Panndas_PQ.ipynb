{
 "cells": [
  {
   "cell_type": "markdown",
   "id": "7432a093-536e-492b-89ac-2b869ca8aa6f",
   "metadata": {},
   "source": [
    "## Data Inspection (head(), tail(), info(), describe(), shape)"
   ]
  },
  {
   "cell_type": "markdown",
   "id": "685fbeb6-75d0-4a62-bb24-b628611ed822",
   "metadata": {},
   "source": [
    "##### 1. Write a line of code to display the first 3 rows of a DataFrame df."
   ]
  },
  {
   "cell_type": "code",
   "execution_count": 1,
   "id": "d93a7d6e-6f31-47a3-acb8-6239d8e4f54b",
   "metadata": {},
   "outputs": [
    {
     "name": "stdout",
     "output_type": "stream",
     "text": [
      "    Name  Age  Salary Department      City\n",
      "0  Alice   25   50000         HR  New York\n",
      "1    Bob   32   60000         IT   Chicago\n"
     ]
    }
   ],
   "source": [
    "import pandas as pd\n",
    "import numpy as np\n",
    "\n",
    "\n",
    "df = pd.DataFrame({\n",
    "    'Name': ['Alice', 'Bob', 'Charlie'],\n",
    "    'Age': [25, 32, 45],\n",
    "    'Salary': [50000, 60000, 70000],\n",
    "    'Department': ['HR', 'IT', 'Finance'],\n",
    "    'City': ['New York', 'Chicago', 'San Francisco']\n",
    "})\n",
    "print(df.head(2))"
   ]
  },
  {
   "cell_type": "markdown",
   "id": "d0ccdeca-5272-448b-8dcd-4bc030ed7832",
   "metadata": {},
   "source": [
    "##### 2. Show the last 2 rows of df."
   ]
  },
  {
   "cell_type": "code",
   "execution_count": 2,
   "id": "9594fa47-b405-4c42-92a6-d78c57ed1e32",
   "metadata": {},
   "outputs": [
    {
     "name": "stdout",
     "output_type": "stream",
     "text": [
      "      Name  Age  Salary Department           City\n",
      "1      Bob   32   60000         IT        Chicago\n",
      "2  Charlie   45   70000    Finance  San Francisco\n"
     ]
    }
   ],
   "source": [
    "print(df.tail(2))"
   ]
  },
  {
   "cell_type": "markdown",
   "id": "1c857527-86fe-4539-b3ba-c25d68a99b99",
   "metadata": {},
   "source": [
    "##### 3.Use .info() to print summary information of a DataFrame named employees."
   ]
  },
  {
   "cell_type": "code",
   "execution_count": 3,
   "id": "9c45a8a8-fabc-4ebd-a8e6-0153a1fbc432",
   "metadata": {},
   "outputs": [
    {
     "name": "stdout",
     "output_type": "stream",
     "text": [
      "<class 'pandas.core.frame.DataFrame'>\n",
      "RangeIndex: 3 entries, 0 to 2\n",
      "Data columns (total 5 columns):\n",
      " #   Column      Non-Null Count  Dtype \n",
      "---  ------      --------------  ----- \n",
      " 0   Name        3 non-null      object\n",
      " 1   Age         3 non-null      int64 \n",
      " 2   Salary      3 non-null      int64 \n",
      " 3   Department  3 non-null      object\n",
      " 4   City        3 non-null      object\n",
      "dtypes: int64(2), object(3)\n",
      "memory usage: 252.0+ bytes\n",
      "None\n"
     ]
    }
   ],
   "source": [
    "print(df.info())"
   ]
  },
  {
   "cell_type": "markdown",
   "id": "dfbb7f88-bc67-465e-9aec-f1215ed7ae19",
   "metadata": {},
   "source": [
    "##### 4.Get the shape of a DataFrame sales_data.\n"
   ]
  },
  {
   "cell_type": "code",
   "execution_count": 7,
   "id": "87c97b09-e43f-493e-8f7e-e0abd341316e",
   "metadata": {},
   "outputs": [
    {
     "name": "stdout",
     "output_type": "stream",
     "text": [
      "(3, 5)\n"
     ]
    }
   ],
   "source": [
    "print(df.shape)"
   ]
  },
  {
   "cell_type": "markdown",
   "id": "accf33da-aa61-4968-924c-cbf98aef5c20",
   "metadata": {},
   "source": [
    "##### 5. Print descriptive statistics of df including all columns (numeric + object)."
   ]
  },
  {
   "cell_type": "code",
   "execution_count": 8,
   "id": "3ce38aa4-a451-485f-8587-83b34d43cc02",
   "metadata": {},
   "outputs": [
    {
     "name": "stdout",
     "output_type": "stream",
     "text": [
      "             Age   Salary\n",
      "count   3.000000      3.0\n",
      "mean   34.000000  60000.0\n",
      "std    10.148892  10000.0\n",
      "min    25.000000  50000.0\n",
      "25%    28.500000  55000.0\n",
      "50%    32.000000  60000.0\n",
      "75%    38.500000  65000.0\n",
      "max    45.000000  70000.0\n"
     ]
    }
   ],
   "source": [
    "print(df.describe())"
   ]
  },
  {
   "cell_type": "markdown",
   "id": "b0f5dc1d-4c68-4002-b3b1-d592fc7079e0",
   "metadata": {},
   "source": [
    "## Column and Row Access"
   ]
  },
  {
   "cell_type": "markdown",
   "id": "44559407-c0e1-490c-84e8-d3d9dcff4c28",
   "metadata": {},
   "source": [
    "##### 6. Access the column 'Salary' from DataFrame df."
   ]
  },
  {
   "cell_type": "code",
   "execution_count": 9,
   "id": "8c58a94e-6a02-4319-82c9-a8b2cf945238",
   "metadata": {},
   "outputs": [
    {
     "name": "stdout",
     "output_type": "stream",
     "text": [
      "0    50000\n",
      "1    60000\n",
      "2    70000\n",
      "Name: Salary, dtype: int64\n"
     ]
    }
   ],
   "source": [
    "print(df['Salary'])"
   ]
  },
  {
   "cell_type": "markdown",
   "id": "feaa9a11-33d9-4be2-9951-92de150cd639",
   "metadata": {},
   "source": [
    "##### 7. Display only the columns 'Name' and 'Department' from df."
   ]
  },
  {
   "cell_type": "code",
   "execution_count": 12,
   "id": "7ffe446e-de96-480c-87f1-a7060f02b85f",
   "metadata": {},
   "outputs": [
    {
     "name": "stdout",
     "output_type": "stream",
     "text": [
      "      Name Department\n",
      "0    Alice         HR\n",
      "1      Bob         IT\n",
      "2  Charlie    Finance\n"
     ]
    }
   ],
   "source": [
    "print(df[['Name' , 'Department']])"
   ]
  },
  {
   "cell_type": "markdown",
   "id": "6cb57842-0cab-44b7-a9a4-7d78a49b2fcb",
   "metadata": {},
   "source": [
    "##### 8.  Retrieve the row where Age is greater than 40."
   ]
  },
  {
   "cell_type": "code",
   "execution_count": 14,
   "id": "b528226b-8a60-436c-bbd1-4da9f1f36d31",
   "metadata": {},
   "outputs": [
    {
     "name": "stdout",
     "output_type": "stream",
     "text": [
      "      Name  Age  Salary Department           City\n",
      "2  Charlie   45   70000    Finance  San Francisco\n"
     ]
    }
   ],
   "source": [
    "print(df[(df['Age'] > 40)])"
   ]
  },
  {
   "cell_type": "markdown",
   "id": "8f0a8a7b-e626-4f5c-afc5-51d2ada36f46",
   "metadata": {},
   "source": [
    "##### 9.  Display rows where City is 'New York' or 'Chicago'."
   ]
  },
  {
   "cell_type": "code",
   "execution_count": 20,
   "id": "b605c0e5-69c4-4aef-9a19-4322a7b0d3da",
   "metadata": {},
   "outputs": [
    {
     "name": "stdout",
     "output_type": "stream",
     "text": [
      "    Name  Age  Salary Department      City\n",
      "0  Alice   25   50000         HR  New York\n",
      "1    Bob   32   60000         IT   Chicago\n"
     ]
    }
   ],
   "source": [
    "print(df[(df['City'] == 'New York') | (df['City'] == 'Chicago')])"
   ]
  },
  {
   "cell_type": "markdown",
   "id": "ea27a355-c079-420a-958e-a11c70000c2c",
   "metadata": {},
   "source": [
    "##### 10.Filter all rows where Age > 30 and Salary > 50000."
   ]
  },
  {
   "cell_type": "code",
   "execution_count": 24,
   "id": "e8ddebca-1d2a-4914-9de5-1d17e91efa5d",
   "metadata": {},
   "outputs": [
    {
     "name": "stdout",
     "output_type": "stream",
     "text": [
      "      Name  Age  Salary Department           City\n",
      "1      Bob   32   60000         IT        Chicago\n",
      "2  Charlie   45   70000    Finance  San Francisco\n"
     ]
    }
   ],
   "source": [
    "print(df[(df['Age'] > 30 ) & (df['Salary'] > 50000 )])"
   ]
  },
  {
   "cell_type": "markdown",
   "id": "3b548848-cdc8-4017-aa8d-07ecfef1f919",
   "metadata": {},
   "source": [
    "## Adding and Updating Data\n"
   ]
  },
  {
   "cell_type": "markdown",
   "id": "b85993e5-5672-4525-8999-f8d3c9c2fd6c",
   "metadata": {},
   "source": [
    "##### 11. Add a column 'Bonus' to df with values [1000, 2000, 3000]."
   ]
  },
  {
   "cell_type": "code",
   "execution_count": 29,
   "id": "30aaa6a6-7c98-4981-b068-8104d2775f3f",
   "metadata": {},
   "outputs": [
    {
     "name": "stdout",
     "output_type": "stream",
     "text": [
      "      Name  Age  Salary  Bonus Department           City\n",
      "0    Alice   25   50000   1000         HR       New York\n",
      "1      Bob   32   60000   2000         IT        Chicago\n",
      "2  Charlie   45   70000  30000    Finance  San Francisco\n"
     ]
    }
   ],
   "source": [
    " df.insert(3 , 'Bonus' , [1000 , 2000 , 30000])\n",
    "print(df)"
   ]
  },
  {
   "cell_type": "markdown",
   "id": "9f29c38d-172b-4d12-99c4-1ffe0ac9f96b",
   "metadata": {},
   "source": [
    "##### 12. Insert a column 'City' at the second column position."
   ]
  },
  {
   "cell_type": "code",
   "execution_count": 36,
   "id": "a6b218da-9866-45d1-b6a4-8f9598cf939b",
   "metadata": {},
   "outputs": [
    {
     "name": "stdout",
     "output_type": "stream",
     "text": [
      "      Name           City  Age  Salary  Bonus Department\n",
      "0    Alice       New York   25   50000   1000         HR\n",
      "1      Bob        Chicago   32   60000   2000         IT\n",
      "2  Charlie  San Francisco   45   70000  30000    Finance\n"
     ]
    }
   ],
   "source": [
    " df =df.drop('City' , axis = 1)\n",
    "\n",
    "df.insert(1 , 'City' , ['New York', 'Chicago', 'San Francisco'])\n",
    "print(df)"
   ]
  },
  {
   "cell_type": "markdown",
   "id": "c2c7e936-5e1a-4ac9-81be-12b7855b9e1f",
   "metadata": {},
   "source": [
    "##### 13. Update the 'Age' of the employee at index 2 to 45"
   ]
  },
  {
   "cell_type": "code",
   "execution_count": 38,
   "id": "c832f6aa-8e35-449a-bf81-abda668f69e7",
   "metadata": {},
   "outputs": [
    {
     "name": "stdout",
     "output_type": "stream",
     "text": [
      "      Name           City  Age  Salary  Bonus Department\n",
      "0    Alice       New York   25   50000   1000         HR\n",
      "1      Bob        Chicago   45   60000   2000         IT\n",
      "2  Charlie  San Francisco   45   70000  30000    Finance\n"
     ]
    }
   ],
   "source": [
    "df.loc[1 , 'Age'] = 45\n",
    "print(df)"
   ]
  },
  {
   "cell_type": "markdown",
   "id": "02afb05c-b3d7-4cb0-a9c0-de593b8d115c",
   "metadata": {},
   "source": [
    "##### 14. Change both 'Age' and 'Salary' for row 0 to 28 and 65000 respectively."
   ]
  },
  {
   "cell_type": "code",
   "execution_count": 40,
   "id": "77be078d-e2e8-4ca7-9b8d-ad6e02868103",
   "metadata": {},
   "outputs": [
    {
     "name": "stdout",
     "output_type": "stream",
     "text": [
      "      Name           City  Age  Salary  Bonus Department\n",
      "0    Alice       New York   28   65000   1000         HR\n",
      "1      Bob        Chicago   45   60000   2000         IT\n",
      "2  Charlie  San Francisco   45   70000  30000    Finance\n"
     ]
    }
   ],
   "source": [
    "df.loc[0 , ['Age' , 'Salary']] = [28 , 65000]\n",
    "print(df)"
   ]
  },
  {
   "cell_type": "markdown",
   "id": "eebb89ff-43e3-422b-8b87-c278ae8f23b5",
   "metadata": {},
   "source": [
    "##### 15. Multiply 'Salary' by 1.1 for employees with Age > 30."
   ]
  },
  {
   "cell_type": "code",
   "execution_count": 41,
   "id": "8f401f0c-b45b-4809-888e-e0d2a9e6b1aa",
   "metadata": {},
   "outputs": [
    {
     "name": "stdout",
     "output_type": "stream",
     "text": [
      "      Name           City  Age  Salary  Bonus Department\n",
      "0    Alice       New York   28   65000   1000         HR\n",
      "1      Bob        Chicago   45   66000   2000         IT\n",
      "2  Charlie  San Francisco   45   77000  30000    Finance\n"
     ]
    }
   ],
   "source": [
    "df.loc[df['Age'] > 30 , 'Salary']  *=1.1\n",
    "print(df)"
   ]
  },
  {
   "cell_type": "markdown",
   "id": "a09d5578-c428-4df4-9f45-2a1914e65681",
   "metadata": {},
   "source": [
    "##  Removing Data"
   ]
  },
  {
   "cell_type": "markdown",
   "id": "23de514e-94a3-47f3-871e-520743bfcfd8",
   "metadata": {},
   "source": [
    "##### 16. Drop the column 'City' from DataFrame df"
   ]
  },
  {
   "cell_type": "code",
   "execution_count": 44,
   "id": "17ae3634-34bf-435c-9900-e230ee492aa9",
   "metadata": {},
   "outputs": [
    {
     "name": "stdout",
     "output_type": "stream",
     "text": [
      "      Name  Age  Salary  Bonus Department\n",
      "0    Alice   28   65000   1000         HR\n",
      "1      Bob   45   66000   2000         IT\n",
      "2  Charlie   45   77000  30000    Finance\n"
     ]
    }
   ],
   "source": [
    "df = df.drop('City' , axis = 1)\n",
    "print(df)"
   ]
  },
  {
   "cell_type": "markdown",
   "id": "6fb00a23-85fb-4d4c-afb3-d4a269494f6c",
   "metadata": {},
   "source": [
    "##### 17. Drop columns 'Age' and 'Salary' from df."
   ]
  },
  {
   "cell_type": "code",
   "execution_count": 45,
   "id": "43e29c86-5cd6-4786-a8c9-be0f2e1aa3be",
   "metadata": {},
   "outputs": [
    {
     "name": "stdout",
     "output_type": "stream",
     "text": [
      "      Name  Bonus Department\n",
      "0    Alice   1000         HR\n",
      "1      Bob   2000         IT\n",
      "2  Charlie  30000    Finance\n"
     ]
    }
   ],
   "source": [
    "df = df.drop(['Age' ,'Salary'] , axis = 1)\n",
    "print(df)"
   ]
  },
  {
   "cell_type": "markdown",
   "id": "ad24e55d-1f42-4c2f-b701-cf9725887986",
   "metadata": {},
   "source": [
    "##### 18. Drop rows where any column has a missing value."
   ]
  },
  {
   "cell_type": "code",
   "execution_count": 46,
   "id": "8913ffd6-bda0-4e78-811f-e45b5fcac0e9",
   "metadata": {},
   "outputs": [
    {
     "name": "stdout",
     "output_type": "stream",
     "text": [
      "    Name   Age   Salary Department      City\n",
      "0  Alice  25.0  50000.0         HR  New York\n"
     ]
    }
   ],
   "source": [
    "df = pd.DataFrame({\n",
    "    'Name': ['Alice', 'Bob', np.nan, 'David'],\n",
    "    'Age': [25, np.nan, 45, 30],\n",
    "    'Salary': [50000, 60000, np.nan, 80000],\n",
    "    'Department': ['HR', np.nan, 'Finance', 'IT'],\n",
    "    'City': ['New York', 'Chicago', 'San Francisco', np.nan]\n",
    "})\n",
    "df = df.dropna(axis = 0)\n",
    "print(df)"
   ]
  },
  {
   "cell_type": "markdown",
   "id": "e8d518a1-375f-44da-857d-d412d4cd19cc",
   "metadata": {},
   "source": [
    "##### 19. Drop columns that contain at least one missing value"
   ]
  },
  {
   "cell_type": "code",
   "execution_count": 48,
   "id": "e069af5b-13ae-4bb8-b41b-1992207c0141",
   "metadata": {},
   "outputs": [
    {
     "name": "stdout",
     "output_type": "stream",
     "text": [
      "    Name\n",
      "0  Alice\n",
      "1    Bob\n",
      "2   AAAA\n",
      "3  David\n"
     ]
    }
   ],
   "source": [
    "df = pd.DataFrame({\n",
    "    'Name': ['Alice', 'Bob', 'AAAA', 'David'],\n",
    "    'Age': [25, np.nan, 45, 30],\n",
    "    'Salary': [50000, 60000, np.nan, 80000],\n",
    "    'Department': ['HR', np.nan, 'Finance', 'IT'],\n",
    "    'City': ['New York', 'Chicago', 'San Francisco', np.nan]\n",
    "})\n",
    "df = df.dropna(axis = 1)\n",
    "print(df)"
   ]
  },
  {
   "cell_type": "markdown",
   "id": "c51084e9-3f72-40b6-b078-a5029015ed14",
   "metadata": {},
   "source": [
    "##### 20 . Use inplace=True to drop column 'City' permanently."
   ]
  },
  {
   "cell_type": "code",
   "execution_count": 49,
   "id": "27f41508-b5b9-46da-81ad-c54ba1f863b6",
   "metadata": {},
   "outputs": [
    {
     "name": "stdout",
     "output_type": "stream",
     "text": [
      "None\n"
     ]
    }
   ],
   "source": [
    "df = pd.DataFrame({\n",
    "    'Name': ['Alice', 'Bob', 'Charlie'],\n",
    "    'Age': [25, 32, 45],\n",
    "    'Salary': [50000, 60000, 70000],\n",
    "    'Department': ['HR', 'IT', 'Finance'],\n",
    "    'City': ['New York', 'Chicago', 'San Francisco']\n",
    "})\n",
    "df = df.drop('City' , axis = 1 , inplace = True)\n",
    "print(df)"
   ]
  },
  {
   "cell_type": "markdown",
   "id": "1208a9e8-b52d-4205-876b-d3adc7f3edc7",
   "metadata": {},
   "source": [
    "## Handling Missing Values"
   ]
  },
  {
   "cell_type": "markdown",
   "id": "952f288b-4eb5-4501-a216-29e978a1704d",
   "metadata": {},
   "source": [
    "##### 21. Write code to find missing values in a DataFrame df."
   ]
  },
  {
   "cell_type": "code",
   "execution_count": 59,
   "id": "c8978721-0b3c-46b3-a44d-8eed00500e7f",
   "metadata": {},
   "outputs": [
    {
     "name": "stdout",
     "output_type": "stream",
     "text": [
      "    Name    Age  Score\n",
      "0  False  False  False\n",
      "1  False   True   True\n",
      "2   True  False  False\n"
     ]
    }
   ],
   "source": [
    "df_missing = pd.DataFrame({\n",
    "    'Name': ['Alice', 'Bob', np.nan],\n",
    "    'Age': [25, np.nan, 45],\n",
    "    'Score': [85, np.nan, 95]\n",
    "})\n",
    "print(df_missing.isnull())"
   ]
  },
  {
   "cell_type": "markdown",
   "id": "cfb50ca1-37c6-4edb-a1b4-e2316236e774",
   "metadata": {},
   "source": [
    "##### 22.Count missing values in each column."
   ]
  },
  {
   "cell_type": "code",
   "execution_count": 54,
   "id": "1054928b-66a9-41e5-b2a2-4c3e1ca07a71",
   "metadata": {},
   "outputs": [
    {
     "name": "stdout",
     "output_type": "stream",
     "text": [
      "Name     1\n",
      "Age      1\n",
      "Score    1\n",
      "dtype: int64\n"
     ]
    }
   ],
   "source": [
    "print(df_missing.isnull().sum())"
   ]
  },
  {
   "cell_type": "markdown",
   "id": "0912da81-abf2-4d90-8662-39b9dcea084f",
   "metadata": {},
   "source": [
    "##### 23.Replace all missing values with 'Unknown'."
   ]
  },
  {
   "cell_type": "code",
   "execution_count": 58,
   "id": "48048a38-941d-41c8-bc13-5fb13d1d9cf8",
   "metadata": {},
   "outputs": [
    {
     "name": "stdout",
     "output_type": "stream",
     "text": [
      "      Name      Age    Score\n",
      "0    Alice     25.0     85.0\n",
      "1      Bob  unknown  unknown\n",
      "2  unknown     45.0     95.0\n"
     ]
    }
   ],
   "source": [
    "df = df_missing.fillna('unknown')\n",
    "print(df)"
   ]
  },
  {
   "cell_type": "markdown",
   "id": "07eb3e39-c0f3-4079-a4de-a5d620736c99",
   "metadata": {},
   "source": [
    "##### 24.Fill missing values in column 'Age' with the mean of that column."
   ]
  },
  {
   "cell_type": "code",
   "execution_count": 76,
   "id": "22485f1c-f430-49b6-8a23-538599c68f47",
   "metadata": {},
   "outputs": [
    {
     "name": "stdout",
     "output_type": "stream",
     "text": [
      "    Name   Age  Score\n",
      "0  Alice  25.0   85.0\n",
      "1    Bob  35.0    NaN\n",
      "2    NaN  45.0   95.0\n"
     ]
    },
    {
     "name": "stderr",
     "output_type": "stream",
     "text": [
      "C:\\Users\\GOODLUCK\\AppData\\Local\\Temp\\ipykernel_3424\\3858116251.py:7: FutureWarning: A value is trying to be set on a copy of a DataFrame or Series through chained assignment using an inplace method.\n",
      "The behavior will change in pandas 3.0. This inplace method will never work because the intermediate object on which we are setting values always behaves as a copy.\n",
      "\n",
      "For example, when doing 'df[col].method(value, inplace=True)', try using 'df.method({col: value}, inplace=True)' or df[col] = df[col].method(value) instead, to perform the operation inplace on the original object.\n",
      "\n",
      "\n",
      "  df['Age'].fillna(mean , inplace = True)\n"
     ]
    }
   ],
   "source": [
    "df = pd.DataFrame({\n",
    "    'Name': ['Alice', 'Bob', np.nan],\n",
    "    'Age': [25, np.nan, 45],\n",
    "    'Score': [85, np.nan, 95]\n",
    "})\n",
    "mean= df['Age'].mean()\n",
    "df['Age'].fillna(mean , inplace = True)\n",
    "print(df)"
   ]
  },
  {
   "cell_type": "markdown",
   "id": "664c9dc5-aa3b-4fb7-bbbf-e17274186001",
   "metadata": {},
   "source": [
    "##### 25.Interpolate missing values in column 'Score' using linear method."
   ]
  },
  {
   "cell_type": "code",
   "execution_count": null,
   "id": "f264b002-8637-4e7e-8e31-32e4809d4a78",
   "metadata": {},
   "outputs": [],
   "source": []
  },
  {
   "cell_type": "markdown",
   "id": "21245359-a1c1-4f05-a479-e3e8084ce9cc",
   "metadata": {},
   "source": [
    "## Sorting and Aggregation"
   ]
  },
  {
   "cell_type": "markdown",
   "id": "0410dd57-10fa-43b6-b36d-95a969eb95ac",
   "metadata": {},
   "source": [
    "##### 26. Sort DataFrame df by 'Salary' in descending order.  "
   ]
  },
  {
   "cell_type": "code",
   "execution_count": 77,
   "id": "bcd5cc0f-a4ab-48b7-bf8a-24b2c44b05f7",
   "metadata": {},
   "outputs": [
    {
     "name": "stdout",
     "output_type": "stream",
     "text": [
      "      Name  Age  Salary  Sales\n",
      "0    Alice   25   50000    250\n",
      "1      Bob   32   60000    400\n",
      "4      Eva   35   62000    420\n",
      "3    David   28   65000    300\n",
      "2  Charlie   45   70000    350\n"
     ]
    }
   ],
   "source": [
    "df = pd.DataFrame({\n",
    "    'Name': ['Alice', 'Bob', 'Charlie', 'David', 'Eva'],\n",
    "    'Age': [25, 32, 45, 28, 35],\n",
    "    'Salary': [50000, 60000, 70000, 65000, 62000],\n",
    "    'Sales': [250, 400, 350, 300, 420]\n",
    "})\n",
    "sort = df.sort_values(by='Salary')\n",
    "print(sort)"
   ]
  },
  {
   "cell_type": "markdown",
   "id": "70fff59e-49db-433b-bbf9-074f3b41aaf4",
   "metadata": {},
   "source": [
    "##### 27. Sort df by 'Age' (ascending) and 'Salary' (descending)."
   ]
  },
  {
   "cell_type": "code",
   "execution_count": 90,
   "id": "99814c41-4d1a-4a0c-9686-16ff30e842e3",
   "metadata": {},
   "outputs": [
    {
     "name": "stdout",
     "output_type": "stream",
     "text": [
      "      Name  Age  Salary  Sales\n",
      "0    Alice   25   50000    250\n",
      "3    David   28   65000    300\n",
      "1      Bob   32   60000    400\n",
      "4      Eva   35   62000    420\n",
      "2  Charlie   45   70000    350\n",
      "int64\n"
     ]
    }
   ],
   "source": [
    "print(df.sort_values(by=['Age' , 'Salary'] , ascending = [True,False]))"
   ]
  },
  {
   "cell_type": "markdown",
   "id": "90c0d925-4782-4793-95ca-e718048d1b88",
   "metadata": {},
   "source": [
    "##### 28. Calculate the sum of 'Points' in DataFrame stats."
   ]
  },
  {
   "cell_type": "code",
   "execution_count": 91,
   "id": "7760013e-4e6f-4e97-bf79-df72afd56661",
   "metadata": {},
   "outputs": [
    {
     "name": "stdout",
     "output_type": "stream",
     "text": [
      "150\n"
     ]
    }
   ],
   "source": [
    "data = {\n",
    "    'Points': [10, 20, 30, 40, 50],\n",
    "    'Sales': [250.5, 300.0, 400.75, 150.25, 500.0],\n",
    "    'Age': [25, 32, 40, 28, 35],\n",
    "    'Salary': [50000, 60000, 80000, 55000, 70000]\n",
    "}\n",
    "\n",
    "df = pd.DataFrame(data) \n",
    "summ = df['Points'].sum()\n",
    "print(summ)"
   ]
  },
  {
   "cell_type": "markdown",
   "id": "8524677b-aee1-4baa-b9ae-1e0f94ec4ecf",
   "metadata": {},
   "source": [
    "##### 29. Find the standard deviation of 'Sales' in DataFrame df."
   ]
  },
  {
   "cell_type": "code",
   "execution_count": 92,
   "id": "2e70e746-5a0c-4f90-a566-a812583d2591",
   "metadata": {},
   "outputs": [
    {
     "name": "stdout",
     "output_type": "stream",
     "text": [
      "135.060565118024\n"
     ]
    }
   ],
   "source": [
    "std = df['Sales'].std()\n",
    "print(std)"
   ]
  },
  {
   "cell_type": "markdown",
   "id": "672dd762-becb-4562-a6f8-3083ffff7f3e",
   "metadata": {},
   "source": [
    "##### 30. Use .agg() to get mean and max of both 'Age' and 'Salary'."
   ]
  },
  {
   "cell_type": "code",
   "execution_count": 94,
   "id": "bbb7b48b-5922-47ec-bf15-a2fdb921ed6c",
   "metadata": {},
   "outputs": [
    {
     "name": "stdout",
     "output_type": "stream",
     "text": [
      "       Age   Salary\n",
      "mean  32.0  63000.0\n",
      "max   40.0  80000.0\n"
     ]
    }
   ],
   "source": [
    "print(df.agg({'Age' : ['mean' , 'max'] , 'Salary' : ['mean' , 'max']  }))"
   ]
  },
  {
   "cell_type": "markdown",
   "id": "9cf15c1e-4aac-4d70-80e5-a4f6832caf49",
   "metadata": {},
   "source": [
    "## Grouping"
   ]
  },
  {
   "cell_type": "markdown",
   "id": "766952bb-654c-4f79-9e5c-c44bbee9b0d7",
   "metadata": {},
   "source": [
    "##### 31. Group df by 'Department' and calculate average 'Salary'."
   ]
  },
  {
   "cell_type": "code",
   "execution_count": 5,
   "id": "3971e347-4fbc-4bd3-865e-f44eba6e5ee1",
   "metadata": {},
   "outputs": [
    {
     "name": "stdout",
     "output_type": "stream",
     "text": [
      "Department\n",
      "HR       61000.000000\n",
      "IT       71666.666667\n",
      "Sales    52333.333333\n",
      "Name: Salary, dtype: float64\n"
     ]
    }
   ],
   "source": [
    "import pandas as pd\n",
    "data = {\n",
    "    'Department': ['Sales', 'HR', 'IT', 'Sales', 'HR', 'IT', 'Sales', 'IT', 'HR'],\n",
    "    'Salary': [50000, 60000, 70000, 55000, 62000, 72000, 52000, 73000, 61000],\n",
    "    'City': ['New York', 'Los Angeles', 'New York', 'Chicago', 'Los Angeles', 'Chicago', 'New York', 'Chicago', 'Los Angeles'],\n",
    "    'Gender': ['Male', 'Female', 'Male', 'Female', 'Male', 'Female', 'Female', 'Male', 'Female'],\n",
    "    'Age': [25, 30, 35, 28, 45, 40, 26, 38, 29],\n",
    "    'Sales': [12000, 8000, 11000, 9500, 10500, 9800, 15000, 10200, 8700],\n",
    "    'Score': [85, 90, 78, 92, 88, 76, 80, 95, 89],\n",
    "    'Class': ['A', 'A', 'B', 'A', 'B', 'C', 'C', 'C', 'A']\n",
    "}\n",
    "\n",
    "df= pd.DataFrame(data)\n",
    "grouped = df.groupby('Department')['Salary'].mean()\n",
    "print(grouped)"
   ]
  },
  {
   "cell_type": "markdown",
   "id": "0fef58b4-aa99-456b-8134-81832b52600f",
   "metadata": {},
   "source": [
    "##### 32. Group by 'City' and count how many records per city"
   ]
  },
  {
   "cell_type": "code",
   "execution_count": 6,
   "id": "4a135423-e4f9-48e1-bdf4-28531bebc092",
   "metadata": {},
   "outputs": [
    {
     "name": "stdout",
     "output_type": "stream",
     "text": [
      "City\n",
      "Chicago        3\n",
      "Los Angeles    3\n",
      "New York       3\n",
      "dtype: int64\n"
     ]
    }
   ],
   "source": [
    "grouped = df.groupby('City').size()\n",
    "print(grouped)"
   ]
  },
  {
   "cell_type": "markdown",
   "id": "5fe68d4e-d6b1-4f34-83a8-e7a5af5a51a8",
   "metadata": {},
   "source": [
    "##### 33. Group by 'Gender' and get max 'Age' and min 'Salary'"
   ]
  },
  {
   "cell_type": "code",
   "execution_count": 7,
   "id": "0e0bba85-2955-4738-89ce-14a5ce5704e8",
   "metadata": {},
   "outputs": [
    {
     "name": "stdout",
     "output_type": "stream",
     "text": [
      "        Age  Salary\n",
      "Gender             \n",
      "Female   40   52000\n",
      "Male     45   50000\n"
     ]
    }
   ],
   "source": [
    "grouped = df.groupby('Gender').agg({'Age' : 'max' , 'Salary' : 'min'})\n",
    "print(grouped)"
   ]
  },
  {
   "cell_type": "markdown",
   "id": "9debf012-8d1a-4174-a321-e7787c22012f",
   "metadata": {},
   "source": [
    "##### 34. Filter groups in df.groupby('City') where average 'Sales' > 10000."
   ]
  },
  {
   "cell_type": "code",
   "execution_count": 10,
   "id": "23686cbf-2765-46bc-b849-f87088f03920",
   "metadata": {},
   "outputs": [
    {
     "name": "stdout",
     "output_type": "stream",
     "text": [
      "City\n",
      "Chicago        True\n",
      "Los Angeles    True\n",
      "New York       True\n",
      "Name: Salary, dtype: bool\n"
     ]
    }
   ],
   "source": [
    "grouped = df.groupby('City')['Salary'].mean()\n",
    "print(grouped > 10000)"
   ]
  },
  {
   "cell_type": "markdown",
   "id": "25294dba-4822-4e65-ab2c-2cc99efc6977",
   "metadata": {},
   "source": [
    "##### 35. Use transform() to normalize 'Score' column within each 'Class'"
   ]
  },
  {
   "cell_type": "code",
   "execution_count": null,
   "id": "b0aa321c-365c-46ac-8230-91b459d279b8",
   "metadata": {},
   "outputs": [],
   "source": []
  },
  {
   "cell_type": "markdown",
   "id": "5e48f24e-3390-450a-9823-d4443aeb1ba9",
   "metadata": {},
   "source": [
    "## MultiIndex & Grouping by Index"
   ]
  },
  {
   "cell_type": "markdown",
   "id": "9daa47a3-e2d2-4458-86b6-35a0a03ee0a8",
   "metadata": {},
   "source": [
    "##### 36. Convert df with columns 'Team' and 'Year' into a MultiIndex."
   ]
  },
  {
   "cell_type": "code",
   "execution_count": 15,
   "id": "c0a5e357-cf17-433d-9897-04783c7a63ac",
   "metadata": {},
   "outputs": [],
   "source": [
    "arrays = [\n",
    "    ['TeamA', 'TeamA', 'TeamB', 'TeamB'],\n",
    "    [2021, 2022, 2021, 2022]\n",
    "]\n",
    "index = pd.MultiIndex.from_arrays(arrays, names=('Team', 'Year'))\n",
    "\n",
    "df_multi = pd.DataFrame({\n",
    "    'Points': [85, 88, 90, 92]\n",
    "}, index=index)"
   ]
  },
  {
   "cell_type": "markdown",
   "id": "4d63b33a-c2ca-46ef-8bec-f49bf12a488d",
   "metadata": {},
   "source": [
    "##### 37.Group by the first level ('Team') of the MultiIndex and get sum of 'Points'."
   ]
  },
  {
   "cell_type": "code",
   "execution_count": null,
   "id": "4fc5520a-207e-4663-9260-cde036e6cfd3",
   "metadata": {},
   "outputs": [],
   "source": []
  },
  {
   "cell_type": "markdown",
   "id": "ca008d3b-7df6-4da4-9455-9661d81a4e5b",
   "metadata": {},
   "source": [
    "##### 38. Use reset_index() to flatten a MultiIndex DataFrame."
   ]
  },
  {
   "cell_type": "code",
   "execution_count": null,
   "id": "72da1f61-f2d1-460f-804c-b8d065184a6e",
   "metadata": {},
   "outputs": [],
   "source": []
  },
  {
   "cell_type": "markdown",
   "id": "bb7a0427-b0a8-46df-b218-1f56f0b43df8",
   "metadata": {},
   "source": [
    "##  Joins"
   ]
  },
  {
   "cell_type": "markdown",
   "id": "4e9a5bfc-ce68-47f3-a3ce-0a4259e1dbaf",
   "metadata": {},
   "source": [
    "##### 39. Join df1 and df2 using an inner join on the index"
   ]
  },
  {
   "cell_type": "code",
   "execution_count": 19,
   "id": "7a01eeed-bc1d-46c0-8776-67bc88d871eb",
   "metadata": {},
   "outputs": [
    {
     "name": "stdout",
     "output_type": "stream",
     "text": [
      "   ID_df1     Name  Score  ID_df2 Grade\n",
      "1       1    Alice     85       2     B\n",
      "2       2      Bob     90       3     A\n",
      "3       3  Charlie     95       4     C\n"
     ]
    }
   ],
   "source": [
    "df1 = pd.DataFrame({\n",
    "    'ID': [1, 2, 3 , 4],\n",
    "    'Name': ['Alice', 'Bob', 'Charlie' , 'John'],\n",
    "    'Score': [85, 90, 95 ,67]\n",
    "}, index = [1,2,3,4] )\n",
    "\n",
    "df2 = pd.DataFrame({\n",
    "    'ID': [2, 3, 4],\n",
    "    'Grade': ['B', 'A', 'C']\n",
    "}, index = [1,2,3])\n",
    "inner_join = df1.join(df2 , how = 'inner' ,  lsuffix='_df1', rsuffix='_df2')\n",
    "print(inner_join)"
   ]
  },
  {
   "cell_type": "markdown",
   "id": "6a1b6bf4-4326-446c-869a-98c37ad7a1dc",
   "metadata": {},
   "source": [
    "##### 40.Perform a left join between df1 and df2 on index"
   ]
  },
  {
   "cell_type": "code",
   "execution_count": 21,
   "id": "416633ca-5a31-4368-a97b-66669209f06b",
   "metadata": {},
   "outputs": [
    {
     "name": "stdout",
     "output_type": "stream",
     "text": [
      "   IDdf1     Name  Score  IDdf2 Grade\n",
      "1      1    Alice     85    2.0     B\n",
      "2      2      Bob     90    3.0     A\n",
      "3      3  Charlie     95    4.0     C\n",
      "4      4     John     67    NaN   NaN\n"
     ]
    }
   ],
   "source": [
    "left_join = df1.join(df2 , how = 'left' , lsuffix = 'df1' , rsuffix = 'df2')\n",
    "print(left_join)"
   ]
  },
  {
   "cell_type": "markdown",
   "id": "721408d9-2387-401e-96a7-ad27740149e8",
   "metadata": {},
   "source": [
    "##### 41.Write code to join two DataFrames df1 and df2 using how='outer'."
   ]
  },
  {
   "cell_type": "code",
   "execution_count": 22,
   "id": "7cac09d4-3b66-4823-9f56-16803eb0c18a",
   "metadata": {},
   "outputs": [
    {
     "name": "stdout",
     "output_type": "stream",
     "text": [
      "   IDdf1     Name  Score  IDdf2 Grade\n",
      "1      1    Alice     85    2.0     B\n",
      "2      2      Bob     90    3.0     A\n",
      "3      3  Charlie     95    4.0     C\n",
      "4      4     John     67    NaN   NaN\n"
     ]
    }
   ],
   "source": [
    "outer_join = df1.join(df2 , how = 'outer' , lsuffix = 'df1' , rsuffix = 'df2')\n",
    "print(outer_join)"
   ]
  },
  {
   "cell_type": "markdown",
   "id": "0e8384ff-0107-4fa8-bcd2-d858ab684e70",
   "metadata": {},
   "source": [
    "##### 42. Show how to join on a column instead of the index using merge()"
   ]
  },
  {
   "cell_type": "code",
   "execution_count": 24,
   "id": "4a063846-d276-45b7-a96a-caaca92f277a",
   "metadata": {},
   "outputs": [
    {
     "name": "stdout",
     "output_type": "stream",
     "text": [
      "   ID     Name  Score Grade\n",
      "0   1    Alice     85   NaN\n",
      "1   2      Bob     90     B\n",
      "2   3  Charlie     95     A\n",
      "3   4     John     67     C\n"
     ]
    }
   ],
   "source": [
    "merge = pd.merge(df1 , df2 , on='ID' , how ='left')\n",
    "print(merge)"
   ]
  },
  {
   "cell_type": "markdown",
   "id": "6815462e-a0d0-420e-b7f6-634615e7df5d",
   "metadata": {},
   "source": [
    "##  Concatenation"
   ]
  },
  {
   "cell_type": "markdown",
   "id": "1ac232c6-64d1-4947-8b1c-78ad58ac87b7",
   "metadata": {},
   "source": [
    "##### 43. Concatenate two DataFrames vertically (along rows)."
   ]
  },
  {
   "cell_type": "code",
   "execution_count": 26,
   "id": "d9e7e561-72c4-4ace-a73a-e43484d91580",
   "metadata": {},
   "outputs": [
    {
     "name": "stdout",
     "output_type": "stream",
     "text": [
      "   ID     Name  Score Grade\n",
      "1   1    Alice   85.0   NaN\n",
      "2   2      Bob   90.0   NaN\n",
      "3   3  Charlie   95.0   NaN\n",
      "4   4     John   67.0   NaN\n",
      "1   2      NaN    NaN     B\n",
      "2   3      NaN    NaN     A\n",
      "3   4      NaN    NaN     C\n"
     ]
    }
   ],
   "source": [
    "df_concat1 = pd.DataFrame({\n",
    "    'A': ['A0', 'A1', 'A2'],\n",
    "    'B': ['B0', 'B1', 'B2']\n",
    "}, index=[0, 1, 2])\n",
    "\n",
    "df_concat2 = pd.DataFrame({\n",
    "    'A': ['A3', 'A4', 'A5'],\n",
    "    'B': ['B3', 'B4', 'B5']\n",
    "}, index=[3, 4, 5])\n",
    "vertically = pd.concat([df1 , df2] , axis =0)\n",
    "print(vertically)"
   ]
  },
  {
   "cell_type": "markdown",
   "id": "6f1bb7be-c9bd-4d33-9143-777755501a9b",
   "metadata": {},
   "source": [
    "##### 44. Concatenate df1 and df2 horizontally (along columns)"
   ]
  },
  {
   "cell_type": "code",
   "execution_count": 28,
   "id": "0daebb02-0cb8-4372-942e-4508183a92e8",
   "metadata": {},
   "outputs": [
    {
     "name": "stdout",
     "output_type": "stream",
     "text": [
      "   ID     Name  Score   ID Grade\n",
      "1   1    Alice     85  2.0     B\n",
      "2   2      Bob     90  3.0     A\n",
      "3   3  Charlie     95  4.0     C\n",
      "4   4     John     67  NaN   NaN\n"
     ]
    }
   ],
   "source": [
    "horizontally= pd.concat([df1 , df2] , axis =1)\n",
    "print(horizontally)"
   ]
  },
  {
   "cell_type": "markdown",
   "id": "20294ec5-4214-4eec-b6be-136e6aa1a0d6",
   "metadata": {},
   "source": [
    "##### 45. Concatenate with keys=['df1', 'df2'] and access 'df1' rows."
   ]
  },
  {
   "cell_type": "code",
   "execution_count": 33,
   "id": "cf1aa7af-e2e0-4367-9cbb-7ee85caf0be3",
   "metadata": {},
   "outputs": [
    {
     "name": "stdout",
     "output_type": "stream",
     "text": [
      "       ID     Name  Score Grade\n",
      "df1 1   1    Alice   85.0   NaN\n",
      "    2   2      Bob   90.0   NaN\n",
      "    3   3  Charlie   95.0   NaN\n",
      "    4   4     John   67.0   NaN\n",
      "df2 1   2      NaN    NaN     B\n",
      "    2   3      NaN    NaN     A\n",
      "    3   4      NaN    NaN     C\n",
      "   ID     Name  Score Grade\n",
      "1   1    Alice   85.0   NaN\n",
      "2   2      Bob   90.0   NaN\n",
      "3   3  Charlie   95.0   NaN\n",
      "4   4     John   67.0   NaN\n"
     ]
    }
   ],
   "source": [
    "concatenate = pd.concat([df1 , df2], axis = 0 , keys = ['df1' , 'df2'])\n",
    "print(concatenate)\n",
    "print(conatenate.loc['df1'])"
   ]
  },
  {
   "cell_type": "markdown",
   "id": "732bc3d7-63a6-434d-8a1d-10f5f7bd463f",
   "metadata": {},
   "source": [
    "##### 46.After vertical concat, reset the index and drop the old index"
   ]
  },
  {
   "cell_type": "code",
   "execution_count": 29,
   "id": "d0b012bc-b369-445b-9da3-12c61e4e9796",
   "metadata": {},
   "outputs": [
    {
     "name": "stdout",
     "output_type": "stream",
     "text": [
      "   ID     Name  Score Grade\n",
      "0   1    Alice   85.0   NaN\n",
      "1   2      Bob   90.0   NaN\n",
      "2   3  Charlie   95.0   NaN\n",
      "3   4     John   67.0   NaN\n",
      "4   2      NaN    NaN     B\n",
      "5   3      NaN    NaN     A\n",
      "6   4      NaN    NaN     C\n"
     ]
    }
   ],
   "source": [
    "vertically = pd.concat([df1 , df2] , axis =0).reset_index(drop=True)\n",
    "print(vertically)"
   ]
  }
 ],
 "metadata": {
  "kernelspec": {
   "display_name": "Python [conda env:base] *",
   "language": "python",
   "name": "conda-base-py"
  },
  "language_info": {
   "codemirror_mode": {
    "name": "ipython",
    "version": 3
   },
   "file_extension": ".py",
   "mimetype": "text/x-python",
   "name": "python",
   "nbconvert_exporter": "python",
   "pygments_lexer": "ipython3",
   "version": "3.12.7"
  }
 },
 "nbformat": 4,
 "nbformat_minor": 5
}
