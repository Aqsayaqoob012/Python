{
 "cells": [
  {
   "cell_type": "markdown",
   "id": "a1408fb7-6589-4d0a-8e25-07537d587362",
   "metadata": {},
   "source": [
    "### Section 1: Creating Arrays"
   ]
  },
  {
   "cell_type": "markdown",
   "id": "b0303ead-64fd-449d-88a7-4c1740da6f5c",
   "metadata": {},
   "source": [
    "##### Q1. Create a 1D NumPy array from the list [10, 20, 30, 40] and print it."
   ]
  },
  {
   "cell_type": "code",
   "execution_count": 1,
   "id": "8530487c-c8d4-4195-8a57-8f6c87bfa2bf",
   "metadata": {},
   "outputs": [
    {
     "name": "stdout",
     "output_type": "stream",
     "text": [
      "[10 20 30 40]\n"
     ]
    }
   ],
   "source": [
    "import numpy as np\n",
    "arr = np.array([10, 20, 30, 40])\n",
    "print(arr)"
   ]
  },
  {
   "cell_type": "markdown",
   "id": "1111405d-17cb-4b97-89c0-1fda01adc7e2",
   "metadata": {},
   "source": [
    "##### Q2. What is the output of np.array([[1, 2], [3, 4]])?"
   ]
  },
  {
   "cell_type": "code",
   "execution_count": 2,
   "id": "10bd02b7-ce64-43fb-bee4-5b7c3e21f535",
   "metadata": {},
   "outputs": [
    {
     "name": "stdout",
     "output_type": "stream",
     "text": [
      "[[1 2]\n",
      " [3 4]]\n"
     ]
    }
   ],
   "source": [
    "arr = np.array([[1, 2], [3, 4]])\n",
    "print(arr)"
   ]
  },
  {
   "cell_type": "markdown",
   "id": "625c6677-8ff2-4354-b2d7-bb3c0ea1d4dc",
   "metadata": {},
   "source": [
    "##### Q3. Write a line of code to create a 3x2 array filled with the number 9"
   ]
  },
  {
   "cell_type": "code",
   "execution_count": 4,
   "id": "356319f6-cb54-461c-9f64-6b24cfc54000",
   "metadata": {},
   "outputs": [
    {
     "name": "stdout",
     "output_type": "stream",
     "text": [
      "[[9 9]\n",
      " [9 9]\n",
      " [9 9]]\n"
     ]
    }
   ],
   "source": [
    "arr = np.full((3 ,2) , 9)\n",
    "print(arr)"
   ]
  },
  {
   "cell_type": "markdown",
   "id": "c681a994-f557-4c13-8ba6-aec29382e7e4",
   "metadata": {},
   "source": [
    "##### Q4. Use NumPy to create a 2x3 array filled with 1s"
   ]
  },
  {
   "cell_type": "code",
   "execution_count": 10,
   "id": "3bf18d63-b84c-4152-8326-557ae246f1f3",
   "metadata": {},
   "outputs": [
    {
     "name": "stdout",
     "output_type": "stream",
     "text": [
      "[[1 1 1]\n",
      " [1 1 1]]\n"
     ]
    }
   ],
   "source": [
    "arr = np.ones((2 , 3)).astype(int)\n",
    "print(arr)"
   ]
  },
  {
   "cell_type": "markdown",
   "id": "510abb49-0978-4092-987d-940f3bdb27d0",
   "metadata": {},
   "source": [
    "##### Q5. Create a NumPy array using np.arange() that starts at 5, ends before 20, and has a step of 3"
   ]
  },
  {
   "cell_type": "code",
   "execution_count": 11,
   "id": "68a35e24-b6db-46bd-ae89-9fbb0ed8003d",
   "metadata": {},
   "outputs": [
    {
     "name": "stdout",
     "output_type": "stream",
     "text": [
      "[ 5  8 11 14 17]\n"
     ]
    }
   ],
   "source": [
    "arr = np.arange(5 , 20 , 3)\n",
    "print(arr)"
   ]
  },
  {
   "cell_type": "markdown",
   "id": "02374ad4-1d4b-4cd9-9bc8-ed9950efbddb",
   "metadata": {},
   "source": [
    "##### Q6. Write the code to create a 4x4 identity matrix."
   ]
  },
  {
   "cell_type": "code",
   "execution_count": 13,
   "id": "f5a1486c-5ce7-4194-9cd1-07318a8d6af1",
   "metadata": {},
   "outputs": [
    {
     "name": "stdout",
     "output_type": "stream",
     "text": [
      "[[1 0 0 0]\n",
      " [0 1 0 0]\n",
      " [0 0 1 0]\n",
      " [0 0 0 1]]\n"
     ]
    }
   ],
   "source": [
    "arr = np.eye(4,4).astype(int)\n",
    "print(arr)"
   ]
  },
  {
   "cell_type": "markdown",
   "id": "68a3213a-8a56-4a17-b905-1258c77d59dd",
   "metadata": {},
   "source": [
    "## Section 2: Array Attributes"
   ]
  },
  {
   "cell_type": "markdown",
   "id": "265a33aa-8264-4908-9a19-36751d804681",
   "metadata": {},
   "source": [
    "##### Q7. Given arr = np.array([1, 2, 3, 4]), what is arr.shape and arr.ndim?"
   ]
  },
  {
   "cell_type": "code",
   "execution_count": 22,
   "id": "69f9385e-5840-4e97-8201-745103e0fc60",
   "metadata": {},
   "outputs": [
    {
     "name": "stdout",
     "output_type": "stream",
     "text": [
      "[1 2 3 4]\n",
      "shape : (4,) , dimension : 1\n"
     ]
    }
   ],
   "source": [
    "arr = np.array([1, 2, 3, 4])\n",
    "print(arr)\n",
    "print(f\"shape : {arr.shape} , dimension : {arr.ndim}\")"
   ]
  },
  {
   "cell_type": "markdown",
   "id": "b11642be-8d89-43c9-b12b-95af17c152c4",
   "metadata": {},
   "source": [
    "##### Q8. Convert the array arr = np.array([10, 20]) to float type using NumPy"
   ]
  },
  {
   "cell_type": "code",
   "execution_count": 23,
   "id": "5ef484ca-4357-45a5-88bc-9f4113176836",
   "metadata": {},
   "outputs": [
    {
     "name": "stdout",
     "output_type": "stream",
     "text": [
      "[10. 20.]\n"
     ]
    }
   ],
   "source": [
    "arr = np.array([10, 20]).astype(float)\n",
    "print(arr)"
   ]
  },
  {
   "cell_type": "markdown",
   "id": "16fdd6e5-b6fe-44e0-b728-42506688b034",
   "metadata": {},
   "source": [
    "## Section 3: Indexing & Slicing"
   ]
  },
  {
   "cell_type": "markdown",
   "id": "80c36c09-e4be-4978-bb9b-2370fad82bb8",
   "metadata": {},
   "source": [
    "##### Q9. Given mat = np.array([[10, 20, 30], [40, 50, 60]]), what is mat[1, 2]?"
   ]
  },
  {
   "cell_type": "code",
   "execution_count": 24,
   "id": "6a9f29b6-162b-453c-9b56-5241421ee56e",
   "metadata": {},
   "outputs": [
    {
     "name": "stdout",
     "output_type": "stream",
     "text": [
      "60\n"
     ]
    }
   ],
   "source": [
    "mat = np.array([[10, 20, 30], [40, 50, 60]])\n",
    "# what is mat[1, 2] => 1 row , 2 column\n",
    "print(mat[1 , 2])"
   ]
  },
  {
   "cell_type": "markdown",
   "id": "9106d5de-2a4d-4036-9e71-f02474b74ec9",
   "metadata": {},
   "source": [
    "##### Q10. Extract all rows and the second column using slicing."
   ]
  },
  {
   "cell_type": "code",
   "execution_count": 29,
   "id": "cddd6739-15d6-4560-92e8-0e7c74167698",
   "metadata": {},
   "outputs": [
    {
     "name": "stdout",
     "output_type": "stream",
     "text": [
      "[20 50]\n"
     ]
    }
   ],
   "source": [
    "arr = np.array([[10, 20, 30], [40, 50, 60]])\n",
    "print(arr[:,1])"
   ]
  },
  {
   "cell_type": "markdown",
   "id": "20c9fbcf-b647-4aca-96f6-7f2b502cf6ea",
   "metadata": {},
   "source": [
    "##### Q11. From arr = np.array([5, 10, 15, 20, 25]), extract elements greater than 15 using boolean masking."
   ]
  },
  {
   "cell_type": "code",
   "execution_count": 32,
   "id": "827fab3e-6204-459e-8b47-2887514689d4",
   "metadata": {},
   "outputs": [
    {
     "name": "stdout",
     "output_type": "stream",
     "text": [
      "[False False False  True  True]\n",
      "[20 25]\n"
     ]
    }
   ],
   "source": [
    "arr = np.array([5, 10, 15, 20, 25])\n",
    "print(arr > 15)\n",
    "print(arr[arr > 15])"
   ]
  },
  {
   "cell_type": "markdown",
   "id": "9cbc0862-c316-403a-b10a-81256ce3dbd4",
   "metadata": {},
   "source": [
    "##### Q12. Use fancy indexing to extract the 1st, 3rd, and 5th elements."
   ]
  },
  {
   "cell_type": "code",
   "execution_count": 34,
   "id": "c1dcebe2-41dc-4844-940b-7748f711554b",
   "metadata": {},
   "outputs": [
    {
     "name": "stdout",
     "output_type": "stream",
     "text": [
      "[ 5 15 25]\n"
     ]
    }
   ],
   "source": [
    "arr = np.array([5, 10, 15, 20, 25])\n",
    "print(arr[[0,2,4]])"
   ]
  },
  {
   "cell_type": "markdown",
   "id": "2f092160-eb2c-4b16-97b8-77be012414da",
   "metadata": {},
   "source": [
    "## Section 4: Aggregate Functions"
   ]
  },
  {
   "cell_type": "markdown",
   "id": "14e20cc3-6bd6-4f39-af7a-3efbe5dd4c85",
   "metadata": {},
   "source": [
    "##### Q13. Calculate the mean, median, and sum of arr = np.array([1, 3, 5, 7])"
   ]
  },
  {
   "cell_type": "code",
   "execution_count": 42,
   "id": "56a3679a-2d7f-4506-832c-4afd409b190e",
   "metadata": {},
   "outputs": [
    {
     "name": "stdout",
     "output_type": "stream",
     "text": [
      "\n",
      " Mean : 4.0  \n",
      " Median : 4.0 \n",
      " Sum : 16 \n"
     ]
    }
   ],
   "source": [
    "arr = np.array([1, 3, 5, 7])\n",
    "print(f\"\\n Mean : {np.mean(arr)}  \\n Median : {np.median(arr)} \\n Sum : {np.sum(arr)} \")"
   ]
  },
  {
   "cell_type": "markdown",
   "id": "cdb53b01-f8ff-404c-8933-e8904e63b2ed",
   "metadata": {},
   "source": [
    "##### Q14. What does np.argmax(np.array([1, 3, 7, 2])) return?"
   ]
  },
  {
   "cell_type": "code",
   "execution_count": 44,
   "id": "aafb2ae9-81bd-4f58-bd9a-db6899129273",
   "metadata": {},
   "outputs": [
    {
     "name": "stdout",
     "output_type": "stream",
     "text": [
      "3\n"
     ]
    }
   ],
   "source": [
    "arr = np.array([1, 3, 5, 7])\n",
    "print(np.argmax(arr)) # return index of maximum element"
   ]
  },
  {
   "cell_type": "markdown",
   "id": "0aa00b62-36dd-42b9-9a8e-357bf8764bd4",
   "metadata": {},
   "source": [
    "## Section 5: Element-wise Operations"
   ]
  },
  {
   "cell_type": "markdown",
   "id": "35948870-13e6-4acb-b9e6-9d5b592c04fa",
   "metadata": {},
   "source": [
    "##### Q15. Given a = np.array([1, 2, 3]) and b = np.array([4, 5, 6]), what is the result of a * b?"
   ]
  },
  {
   "cell_type": "code",
   "execution_count": 35,
   "id": "c85337a6-8256-4f70-abc8-4d4dbe4962aa",
   "metadata": {},
   "outputs": [
    {
     "name": "stdout",
     "output_type": "stream",
     "text": [
      "[ 4 10 18]\n"
     ]
    }
   ],
   "source": [
    "a = np.array([1, 2, 3])\n",
    "b = np.array([4, 5, 6])\n",
    "print(a*b)"
   ]
  },
  {
   "cell_type": "markdown",
   "id": "3767d49a-32c5-4d63-bc8d-8cf5c02f9abc",
   "metadata": {},
   "source": [
    "##### Q16. What happens if you do a + 10?"
   ]
  },
  {
   "cell_type": "code",
   "execution_count": 36,
   "id": "d19597be-a1ea-45f2-9e24-0178e2ab9ce1",
   "metadata": {},
   "outputs": [
    {
     "name": "stdout",
     "output_type": "stream",
     "text": [
      "[11 12 13]\n"
     ]
    }
   ],
   "source": [
    "a = np.array([1, 2, 3])\n",
    "print(a + 10)"
   ]
  },
  {
   "cell_type": "markdown",
   "id": "40a788c0-b1f5-454d-833c-c90b4cd40da0",
   "metadata": {},
   "source": [
    "## Section 6: Reshaping & Flattening"
   ]
  },
  {
   "cell_type": "markdown",
   "id": "3f6ee54b-ac51-4fe9-9dbc-1c823b04391f",
   "metadata": {},
   "source": [
    "##### Q17. Reshape np.array([[1, 2, 3], [4, 5, 6]]) into a 3x2 array"
   ]
  },
  {
   "cell_type": "code",
   "execution_count": 45,
   "id": "7237971c-5665-4b0b-8596-aa82c5c65d9d",
   "metadata": {},
   "outputs": [
    {
     "name": "stdout",
     "output_type": "stream",
     "text": [
      "[[1 2]\n",
      " [3 4]\n",
      " [5 6]]\n"
     ]
    }
   ],
   "source": [
    "arr = np.array([[1, 2, 3], [4, 5, 6]]).reshape(3 ,2)\n",
    "print(arr)\n"
   ]
  },
  {
   "cell_type": "markdown",
   "id": "72094963-a0a3-4d0d-8c7b-a20c94a2ff9a",
   "metadata": {},
   "source": [
    "##### Q18. Flatten np.array([[1, 2], [3, 4]]) using flatten() and ravel(). How are they different?"
   ]
  },
  {
   "cell_type": "code",
   "execution_count": 49,
   "id": "f705fa49-21a4-44b4-812e-8e2f300981d5",
   "metadata": {},
   "outputs": [
    {
     "name": "stdout",
     "output_type": "stream",
     "text": [
      "[1 2 3 4] [1 2 3 4]\n"
     ]
    }
   ],
   "source": [
    "arr = np.array([[1, 2], [3, 4]])\n",
    " #flatten   changes effect original\n",
    " # ravel   changes do not effect original\n",
    "print(arr.flatten() ,arr.ravel())"
   ]
  },
  {
   "cell_type": "markdown",
   "id": "955a7b57-4a4d-4bff-949c-b5b67f7e4430",
   "metadata": {},
   "source": [
    "## Section 7: Random Numbers"
   ]
  },
  {
   "cell_type": "markdown",
   "id": "0e86406b-b9fb-480f-b433-d92879363e40",
   "metadata": {},
   "source": [
    "##### Q19. Generate 5 random integers between 10 and 20 using NumPy."
   ]
  },
  {
   "cell_type": "code",
   "execution_count": 51,
   "id": "80d85d34-3a6b-4714-a9c8-5ca3a470e423",
   "metadata": {},
   "outputs": [
    {
     "name": "stdout",
     "output_type": "stream",
     "text": [
      "[20 14 10 13 10]\n"
     ]
    }
   ],
   "source": [
    "arr = np.random.randint(10 , 21 , size = 5)\n",
    "print(arr)"
   ]
  },
  {
   "cell_type": "markdown",
   "id": "3ac700bd-e721-471c-a072-fe9b71fed5d8",
   "metadata": {},
   "source": [
    "##### Q20. Generate a 1D array of 4 random floats between 0 and 1."
   ]
  },
  {
   "cell_type": "code",
   "execution_count": 59,
   "id": "807c3075-94f6-4210-8ca3-1a6ed538e201",
   "metadata": {},
   "outputs": [
    {
     "name": "stdout",
     "output_type": "stream",
     "text": [
      "[0.49928599 0.04979709 0.65471204 0.3830283 ]\n"
     ]
    }
   ],
   "source": [
    "arr = np.random.rand(4)\n",
    "print(arr)"
   ]
  },
  {
   "cell_type": "markdown",
   "id": "8d2ab1b9-4a2f-41ed-b74a-bdb362262ebc",
   "metadata": {},
   "source": [
    "## Section 8: Stacking & Splitting"
   ]
  },
  {
   "cell_type": "markdown",
   "id": "7c5e98d9-4871-4b26-a692-2c679a2cac25",
   "metadata": {},
   "source": [
    "##### Q21. Stack a = [1, 2] and b = [3, 4] vertically using np.vstack."
   ]
  },
  {
   "cell_type": "code",
   "execution_count": 63,
   "id": "3d214386-9afb-4f82-ad84-16d26410a319",
   "metadata": {},
   "outputs": [
    {
     "name": "stdout",
     "output_type": "stream",
     "text": [
      "[[1 2]\n",
      " [3 4]]\n"
     ]
    }
   ],
   "source": [
    "a = [1, 2] \n",
    "b = [3, 4] \n",
    "print(np.vstack((a , b))) # axis = 0\n"
   ]
  },
  {
   "cell_type": "markdown",
   "id": "e34aa7cb-775a-45ec-ac30-3e146223a11f",
   "metadata": {},
   "source": [
    "##### Horizontally split this array: a = np.array([[1, 2, 3, 4], [5, 6, 7, 8]]) into two equal parts."
   ]
  },
  {
   "cell_type": "code",
   "execution_count": 70,
   "id": "8fde4da2-6cbc-401d-973e-88f8bc2b577a",
   "metadata": {},
   "outputs": [
    {
     "name": "stdout",
     "output_type": "stream",
     "text": [
      "[array([[1, 2],\n",
      "       [5, 6]]), array([[3, 4],\n",
      "       [7, 8]])]\n"
     ]
    }
   ],
   "source": [
    " a = np.array([[1, 2, 3, 4], [5, 6, 7, 8]])\n",
    "print(np.split(a , 2 , axis = 1)) "
   ]
  },
  {
   "cell_type": "markdown",
   "id": "1fce8974-e28e-421c-bf5e-b99d99ea3e00",
   "metadata": {},
   "source": [
    " ## Section 9: Delete, Insert, Append, Concatenate"
   ]
  },
  {
   "cell_type": "markdown",
   "id": "8cc0dc82-0817-4fc3-b7d0-8f8e42cf6724",
   "metadata": {},
   "source": [
    "##### Q23. Delete the second row from the following array a = np.array([[1, 2], [3, 4], [5, 6]])"
   ]
  },
  {
   "cell_type": "code",
   "execution_count": 71,
   "id": "334883f0-4bae-4ef0-98dd-a6289bba8387",
   "metadata": {},
   "outputs": [
    {
     "name": "stdout",
     "output_type": "stream",
     "text": [
      "[[1 2]\n",
      " [5 6]]\n"
     ]
    }
   ],
   "source": [
    "a = np.array([[1, 2], [3, 4], [5, 6]])\n",
    "print(np.delete(a , 1 , axis = 0))"
   ]
  },
  {
   "cell_type": "markdown",
   "id": "60082d66-daf1-4065-b4c8-2e1cf10f3003",
   "metadata": {},
   "source": [
    "#####  Q24. Insert a row [9, 9] at index 1 in the above array."
   ]
  },
  {
   "cell_type": "code",
   "execution_count": 75,
   "id": "3adf283c-f906-4314-a836-86ee2479775e",
   "metadata": {},
   "outputs": [
    {
     "name": "stdout",
     "output_type": "stream",
     "text": [
      "[[1 2]\n",
      " [9 9]\n",
      " [3 4]\n",
      " [5 6]]\n"
     ]
    }
   ],
   "source": [
    "a = np.array([[1, 2], [3, 4], [5, 6]])\n",
    "print(np.insert(a, 1 ,  [9,9] , axis = 0))"
   ]
  },
  {
   "cell_type": "markdown",
   "id": "990bb6cd-c6b5-49cd-92ce-7b2c0b282e4e",
   "metadata": {},
   "source": [
    "##### Q25. Append [7, 8] as a new row to:a = np.array([[1, 2], [3, 4]])"
   ]
  },
  {
   "cell_type": "code",
   "execution_count": 84,
   "id": "67925028-48a6-42c9-89d6-2762e35a6922",
   "metadata": {},
   "outputs": [
    {
     "name": "stdout",
     "output_type": "stream",
     "text": [
      "[[1 2]\n",
      " [3 4]\n",
      " [7 8]]\n"
     ]
    }
   ],
   "source": [
    "a = np.array([[1, 2], [3, 4]])\n",
    "b = np.array([[7,8]])\n",
    "result = np.append(a, b , axis = 0)\n",
    "print(result)"
   ]
  },
  {
   "cell_type": "markdown",
   "id": "d9b68748-a3eb-4aca-bb2b-409acf544c23",
   "metadata": {},
   "source": [
    "##### Q26. Concatenate two arrays [1, 2, 3] and [4, 5, 6] into one."
   ]
  },
  {
   "cell_type": "code",
   "execution_count": 87,
   "id": "37c52623-48ca-4532-bc90-af69554cecd7",
   "metadata": {},
   "outputs": [
    {
     "name": "stdout",
     "output_type": "stream",
     "text": [
      "[1 2 3 4 5 6]\n"
     ]
    }
   ],
   "source": [
    "a = np.array([1, 2, 3])\n",
    "b = np.array([4,5,6])\n",
    "result = np.concatenate((a , b ))\n",
    "print(result)"
   ]
  },
  {
   "cell_type": "markdown",
   "id": "aaa71653-d7a7-47cf-80e5-3e9bc5061f49",
   "metadata": {},
   "source": [
    "## Section 10: Broadcasting & Vectorization"
   ]
  },
  {
   "cell_type": "markdown",
   "id": "696718fd-7799-4acd-aa3d-a460584291d3",
   "metadata": {},
   "source": [
    "##### Q27. Add the array [1, 2, 3] to each row of the 2D array: b = np.array([[10], [20], [30]])"
   ]
  },
  {
   "cell_type": "code",
   "execution_count": 88,
   "id": "223c63ba-379b-4149-9a8d-eaf8193ab263",
   "metadata": {},
   "outputs": [
    {
     "name": "stdout",
     "output_type": "stream",
     "text": [
      "[[11 12 13]\n",
      " [21 22 23]\n",
      " [31 32 33]]\n"
     ]
    }
   ],
   "source": [
    "a = np.array([1, 2, 3])\n",
    "b = np.array([[10], [20], [30]])\n",
    "print(a +  b)"
   ]
  },
  {
   "cell_type": "markdown",
   "id": "b5ca88d9-de31-4380-8999-49e03ab88fdd",
   "metadata": {},
   "source": [
    "##### Q28. Multiply each element of [1, 2, 3, 4, 5] by 2 without using a loop.\n"
   ]
  },
  {
   "cell_type": "code",
   "execution_count": 89,
   "id": "9ce758da-4d48-4304-be7c-d4e16d941348",
   "metadata": {},
   "outputs": [
    {
     "name": "stdout",
     "output_type": "stream",
     "text": [
      "[ 2  4  6  8 10]\n"
     ]
    }
   ],
   "source": [
    "a = np.array([1, 2, 3 , 4,5])\n",
    "print(a*2)"
   ]
  },
  {
   "cell_type": "markdown",
   "id": "7a9b7e6d-0bb0-4df0-85c1-9798d2c7d381",
   "metadata": {},
   "source": [
    "## Section 11: Handling Missing Values"
   ]
  },
  {
   "cell_type": "markdown",
   "id": "3e173b55-47ac-4e93-951b-7040c31e0e5e",
   "metadata": {},
   "source": [
    "##### Q29. Check for NaNs in: np.array([1, np.nan, 2])"
   ]
  },
  {
   "cell_type": "code",
   "execution_count": 91,
   "id": "f1cb71a8-5da6-4232-a92a-8b548fc28626",
   "metadata": {},
   "outputs": [
    {
     "name": "stdout",
     "output_type": "stream",
     "text": [
      "[False  True False]\n"
     ]
    }
   ],
   "source": [
    "a = np.array([1, np.nan, 2])\n",
    "print(np.isnan(a))"
   ]
  },
  {
   "cell_type": "markdown",
   "id": "3ffeb572-8940-4b66-a612-662d00686b48",
   "metadata": {},
   "source": [
    "##### Q30. Replace NaNs and infinite values in: np.array([np.nan, np.inf, -np.inf])"
   ]
  },
  {
   "cell_type": "code",
   "execution_count": 97,
   "id": "ca89a865-aa5d-4d9b-897b-73697d101482",
   "metadata": {},
   "outputs": [
    {
     "name": "stdout",
     "output_type": "stream",
     "text": [
      "[   0. 1000. 2000.]\n"
     ]
    }
   ],
   "source": [
    "a = np.array([np.nan, np.inf, -np.inf])\n",
    "replace = np.nan_to_num(a , nan = 0 , posinf = 1000 , neginf = 2000)\n",
    "print(replace)"
   ]
  }
 ],
 "metadata": {
  "kernelspec": {
   "display_name": "Python [conda env:base] *",
   "language": "python",
   "name": "conda-base-py"
  },
  "language_info": {
   "codemirror_mode": {
    "name": "ipython",
    "version": 3
   },
   "file_extension": ".py",
   "mimetype": "text/x-python",
   "name": "python",
   "nbconvert_exporter": "python",
   "pygments_lexer": "ipython3",
   "version": "3.12.7"
  }
 },
 "nbformat": 4,
 "nbformat_minor": 5
}
