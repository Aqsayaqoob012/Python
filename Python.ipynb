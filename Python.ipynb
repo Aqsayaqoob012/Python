{
 "cells": [
  {
   "cell_type": "markdown",
   "id": "07fbdb8e-6a20-4eeb-9926-3f6eed810636",
   "metadata": {},
   "source": [
    "## **First program**\n",
    "\n"
   ]
  },
  {
   "cell_type": "code",
   "execution_count": 1,
   "id": "9eba208c-a2be-4a01-aaef-2d987f6a4627",
   "metadata": {},
   "outputs": [
    {
     "name": "stdout",
     "output_type": "stream",
     "text": [
      "hello world\n"
     ]
    }
   ],
   "source": [
    "print(\"hello world\")"
   ]
  },
  {
   "cell_type": "code",
   "execution_count": 14,
   "id": "2279f3e3-06e7-4026-b224-dfecd3c3e237",
   "metadata": {},
   "outputs": [
    {
     "data": {
      "text/plain": [
       "\u001b[1;31mSignature:\u001b[0m \u001b[0mpow\u001b[0m\u001b[1;33m(\u001b[0m\u001b[0mbase\u001b[0m\u001b[1;33m,\u001b[0m \u001b[0mexp\u001b[0m\u001b[1;33m,\u001b[0m \u001b[0mmod\u001b[0m\u001b[1;33m=\u001b[0m\u001b[1;32mNone\u001b[0m\u001b[1;33m)\u001b[0m\u001b[1;33m\u001b[0m\u001b[1;33m\u001b[0m\u001b[0m\n",
       "\u001b[1;31mDocstring:\u001b[0m\n",
       "Equivalent to base**exp with 2 arguments or base**exp % mod with 3 arguments\n",
       "\n",
       "Some types, such as ints, are able to use a more efficient algorithm when\n",
       "invoked using the three argument form.\n",
       "\u001b[1;31mType:\u001b[0m      builtin_function_or_method"
      ]
     },
     "metadata": {},
     "output_type": "display_data"
    }
   ],
   "source": [
    "\"\"\"  ? => basic info  and ?? => with source code if possible\n",
    "\"\"\"\n",
    "pow??\n"
   ]
  },
  {
   "cell_type": "markdown",
   "id": "431ffa0a-ba7f-4b5c-b117-6de7a577d4a7",
   "metadata": {},
   "source": [
    "## **varaibles**"
   ]
  },
  {
   "cell_type": "code",
   "execution_count": 3,
   "id": "b9e6dc22-b037-4c02-a03b-ae013171a262",
   "metadata": {},
   "outputs": [],
   "source": [
    "x=3"
   ]
  },
  {
   "cell_type": "markdown",
   "id": "1945df1a-1adf-4122-83e4-d28c628f9aec",
   "metadata": {},
   "source": [
    "**to see variable  list , type and data (type \"%whos%)**"
   ]
  },
  {
   "cell_type": "code",
   "execution_count": 4,
   "id": "df8b2a4c-006b-4040-983c-a1da5d8b76f4",
   "metadata": {},
   "outputs": [
    {
     "name": "stdout",
     "output_type": "stream",
     "text": [
      "Variable               Type        Data/Info\n",
      "--------------------------------------------\n",
      "dataframe_columns      function    <function dataframe_colum<...>ns at 0x000001BE400C6840>\n",
      "dataframe_hash         function    <function dataframe_hash at 0x000001BE3DA8D9E0>\n",
      "dtypes_str             function    <function dtypes_str at 0x000001BE400C6980>\n",
      "get_dataframes         function    <function get_dataframes at 0x000001BE3FFCFEC0>\n",
      "getpass                module      <module 'getpass' from 'C<...>conda3\\\\Lib\\\\getpass.py'>\n",
      "hashlib                module      <module 'hashlib' from 'C<...>conda3\\\\Lib\\\\hashlib.py'>\n",
      "import_pandas_safely   function    <function import_pandas_s<...>ly at 0x000001BE400C6F20>\n",
      "is_data_frame          function    <function is_data_frame at 0x000001BE400C5B20>\n",
      "json                   module      <module 'json' from 'C:\\\\<...>\\Lib\\\\json\\\\__init__.py'>\n",
      "x                      int         3\n"
     ]
    }
   ],
   "source": [
    "%whos"
   ]
  },
  {
   "cell_type": "code",
   "execution_count": 5,
   "id": "0fcbce64-6665-4918-9f3c-752e70bfdab3",
   "metadata": {},
   "outputs": [
    {
     "name": "stdout",
     "output_type": "stream",
     "text": [
      "<class 'int'>\n"
     ]
    }
   ],
   "source": [
    "print(type(x))"
   ]
  },
  {
   "cell_type": "code",
   "execution_count": 6,
   "id": "34ccd2a5-d340-4b72-a1d3-3519767051c4",
   "metadata": {},
   "outputs": [],
   "source": [
    "abcd =333.33"
   ]
  },
  {
   "cell_type": "code",
   "execution_count": 7,
   "id": "602d2284-bfee-4b3b-83bc-0a92f7d2f23b",
   "metadata": {},
   "outputs": [
    {
     "name": "stdout",
     "output_type": "stream",
     "text": [
      "<class 'float'>\n"
     ]
    }
   ],
   "source": [
    "print(type(abcd))"
   ]
  },
  {
   "cell_type": "code",
   "execution_count": 8,
   "id": "8913fff2-b2d9-4d04-8047-7487488e2949",
   "metadata": {},
   "outputs": [
    {
     "name": "stdout",
     "output_type": "stream",
     "text": [
      "Variable               Type        Data/Info\n",
      "--------------------------------------------\n",
      "abcd                   float       333.33\n",
      "dataframe_columns      function    <function dataframe_colum<...>ns at 0x000001BE400C6840>\n",
      "dataframe_hash         function    <function dataframe_hash at 0x000001BE3DA8D9E0>\n",
      "dtypes_str             function    <function dtypes_str at 0x000001BE400C6980>\n",
      "get_dataframes         function    <function get_dataframes at 0x000001BE3FFCFEC0>\n",
      "getpass                module      <module 'getpass' from 'C<...>conda3\\\\Lib\\\\getpass.py'>\n",
      "hashlib                module      <module 'hashlib' from 'C<...>conda3\\\\Lib\\\\hashlib.py'>\n",
      "import_pandas_safely   function    <function import_pandas_s<...>ly at 0x000001BE400C6F20>\n",
      "is_data_frame          function    <function is_data_frame at 0x000001BE400C5B20>\n",
      "json                   module      <module 'json' from 'C:\\\\<...>\\Lib\\\\json\\\\__init__.py'>\n",
      "x                      int         3\n"
     ]
    }
   ],
   "source": [
    "%whos"
   ]
  },
  {
   "cell_type": "code",
   "execution_count": 9,
   "id": "679886db-71d9-4a7a-8ddf-ad8bc0fd4e4a",
   "metadata": {},
   "outputs": [],
   "source": [
    "del abcd"
   ]
  },
  {
   "cell_type": "code",
   "execution_count": 10,
   "id": "a1da2968-027e-4033-af10-8dd1a86383de",
   "metadata": {},
   "outputs": [
    {
     "name": "stdout",
     "output_type": "stream",
     "text": [
      "Variable               Type        Data/Info\n",
      "--------------------------------------------\n",
      "dataframe_columns      function    <function dataframe_colum<...>ns at 0x000001BE400C6840>\n",
      "dataframe_hash         function    <function dataframe_hash at 0x000001BE3DA8D9E0>\n",
      "dtypes_str             function    <function dtypes_str at 0x000001BE400C6980>\n",
      "get_dataframes         function    <function get_dataframes at 0x000001BE3FFCFEC0>\n",
      "getpass                module      <module 'getpass' from 'C<...>conda3\\\\Lib\\\\getpass.py'>\n",
      "hashlib                module      <module 'hashlib' from 'C<...>conda3\\\\Lib\\\\hashlib.py'>\n",
      "import_pandas_safely   function    <function import_pandas_s<...>ly at 0x000001BE400C6F20>\n",
      "is_data_frame          function    <function is_data_frame at 0x000001BE400C5B20>\n",
      "json                   module      <module 'json' from 'C:\\\\<...>\\Lib\\\\json\\\\__init__.py'>\n",
      "x                      int         3\n"
     ]
    }
   ],
   "source": [
    "%whos"
   ]
  },
  {
   "cell_type": "code",
   "execution_count": 11,
   "id": "456366f9-7f72-40da-af7b-ae1dd20b0342",
   "metadata": {},
   "outputs": [
    {
     "ename": "NameError",
     "evalue": "name 'abcd' is not defined",
     "output_type": "error",
     "traceback": [
      "\u001b[1;31m---------------------------------------------------------------------------\u001b[0m",
      "\u001b[1;31mNameError\u001b[0m                                 Traceback (most recent call last)",
      "Cell \u001b[1;32mIn[11], line 1\u001b[0m\n\u001b[1;32m----> 1\u001b[0m \u001b[38;5;28mprint\u001b[39m(abcd)\n",
      "\u001b[1;31mNameError\u001b[0m: name 'abcd' is not defined"
     ]
    }
   ],
   "source": [
    "print(abcd)"
   ]
  },
  {
   "cell_type": "code",
   "execution_count": 48,
   "id": "cc54a4a9-d558-4e5e-9b2a-6ce9c570a89b",
   "metadata": {},
   "outputs": [],
   "source": [
    "a=2\n",
    "b=2.3\n",
    "c=2j\n",
    "d=\"aqsa\"\n",
    "e=[1,2,3]\n",
    "f=(7,8,9)\n",
    "g={\"bio\":70 , \"chem\":90}\n",
    "h=True"
   ]
  },
  {
   "cell_type": "code",
   "execution_count": 49,
   "id": "f63843bd-6aa5-487b-a17f-fbc695597292",
   "metadata": {},
   "outputs": [
    {
     "name": "stdout",
     "output_type": "stream",
     "text": [
      "<class 'int'>\n",
      "<class 'float'>\n",
      "<class 'complex'>\n",
      "<class 'str'>\n",
      "<class 'list'>\n",
      "<class 'tuple'>\n",
      "<class 'dict'>\n",
      "<class 'bool'>\n"
     ]
    }
   ],
   "source": [
    "print(type(a))\n",
    "print(type(b))\n",
    "print(type(c))\n",
    "print(type(d))\n",
    "print(type(e))\n",
    "print(type(f))\n",
    "print(type(g))\n",
    "print(type(h))"
   ]
  },
  {
   "cell_type": "code",
   "execution_count": 50,
   "id": "6dbf825d-f101-497b-9fc0-501599260360",
   "metadata": {},
   "outputs": [
    {
     "name": "stdout",
     "output_type": "stream",
     "text": [
      "Variable               Type        Data/Info\n",
      "--------------------------------------------\n",
      "CheckArgs              function    <function CheckArgs at 0x000001BE40F39BC0>\n",
      "Y                      str         HELLO\n",
      "a                      int         2\n",
      "b                      float       2.3\n",
      "c                      complex     2j\n",
      "d                      str         aqsa\n",
      "dataframe_columns      function    <function dataframe_colum<...>ns at 0x000001BE418840E0>\n",
      "dataframe_hash         function    <function dataframe_hash at 0x000001BE41885B20>\n",
      "dtypes_str             function    <function dtypes_str at 0x000001BE418854E0>\n",
      "e                      list        n=3\n",
      "f                      tuple       n=3\n",
      "function               function    <function function at 0x000001BE400C54E0>\n",
      "g                      dict        n=2\n",
      "get_dataframes         function    <function get_dataframes at 0x000001BE41886160>\n",
      "getpass                module      <module 'getpass' from 'C<...>conda3\\\\Lib\\\\getpass.py'>\n",
      "h                      bool        True\n",
      "hashlib                module      <module 'hashlib' from 'C<...>conda3\\\\Lib\\\\hashlib.py'>\n",
      "import_pandas_safely   function    <function import_pandas_s<...>ly at 0x000001BE41884EA0>\n",
      "is_data_frame          function    <function is_data_frame at 0x000001BE41886200>\n",
      "json                   module      <module 'json' from 'C:\\\\<...>\\Lib\\\\json\\\\__init__.py'>\n",
      "myadd                  function    <function myadd at 0x000001BE41885940>\n",
      "r                      function    <function r at 0x000001BE41885580>\n",
      "x                      int         5\n",
      "y                      int         7\n",
      "z                      str         something\n"
     ]
    }
   ],
   "source": [
    "%whos"
   ]
  },
  {
   "cell_type": "code",
   "execution_count": 51,
   "id": "9a1feab8-9638-4fd3-8f45-7afdda013a82",
   "metadata": {},
   "outputs": [
    {
     "name": "stdout",
     "output_type": "stream",
     "text": [
      "7 <class 'int'>\n",
      "4.3 <class 'float'>\n",
      "(2+2j) <class 'complex'>\n",
      "(2.3+2j) <class 'complex'>\n",
      "aqsaaqsa <class 'str'>\n",
      "[1, 2, 3, 1, 2, 3] <class 'list'>\n",
      "(7, 8, 9, 7, 8, 9) <class 'tuple'>\n"
     ]
    }
   ],
   "source": [
    "sumOfAandX=a+x\n",
    "sumOfAandB=a+b\n",
    "sumOfAandC=a+c\n",
    "sumOfBandC=b+c\n",
    "sumOfDandD=d+d\n",
    "sumOfEandE=e+e\n",
    "sumOfFandF=f+f\n",
    "\n",
    "print(sumOfAandX , type(sumOfAandX))\n",
    "print(sumOfAandB , type(sumOfAandB))\n",
    "print(sumOfAandC , type(sumOfAandC))\n",
    "print(sumOfBandC , type(sumOfBandC))\n",
    "print(sumOfDandD , type(sumOfDandD))\n",
    "print(sumOfEandE , type(sumOfEandE))\n",
    "print(sumOfFandF , type(sumOfFandF))\n"
   ]
  },
  {
   "cell_type": "code",
   "execution_count": 52,
   "id": "a9054154-dcb6-4ad4-961c-2ec146386d5d",
   "metadata": {},
   "outputs": [
    {
     "name": "stdout",
     "output_type": "stream",
     "text": [
      "33\n"
     ]
    }
   ],
   "source": [
    "m=\"3\"\n",
    "n=\"3\"\n",
    "print(m+n)"
   ]
  },
  {
   "cell_type": "code",
   "execution_count": 53,
   "id": "33125cbd-0b0a-429b-be84-4dec32fe04b5",
   "metadata": {},
   "outputs": [
    {
     "name": "stdout",
     "output_type": "stream",
     "text": [
      "3AQSA\n"
     ]
    }
   ],
   "source": [
    "o=\"3\"\n",
    "p=\"AQSA\"\n",
    "print(o+p)"
   ]
  },
  {
   "cell_type": "code",
   "execution_count": 54,
   "id": "a8a7c9e2-c703-4f72-b785-2542d26fe940",
   "metadata": {},
   "outputs": [
    {
     "ename": "TypeError",
     "evalue": "unsupported operand type(s) for +: 'int' and 'str'",
     "output_type": "error",
     "traceback": [
      "\u001b[1;31m---------------------------------------------------------------------------\u001b[0m",
      "\u001b[1;31mTypeError\u001b[0m                                 Traceback (most recent call last)",
      "Cell \u001b[1;32mIn[54], line 3\u001b[0m\n\u001b[0;32m      1\u001b[0m o\u001b[38;5;241m=\u001b[39m\u001b[38;5;241m3\u001b[39m\n\u001b[0;32m      2\u001b[0m p\u001b[38;5;241m=\u001b[39m\u001b[38;5;124m\"\u001b[39m\u001b[38;5;124mAQSA\u001b[39m\u001b[38;5;124m\"\u001b[39m\n\u001b[1;32m----> 3\u001b[0m \u001b[38;5;28mprint\u001b[39m(o\u001b[38;5;241m+\u001b[39mp)\n",
      "\u001b[1;31mTypeError\u001b[0m: unsupported operand type(s) for +: 'int' and 'str'"
     ]
    }
   ],
   "source": [
    "o=3\n",
    "p=\"AQSA\"\n",
    "print(o+p)"
   ]
  },
  {
   "cell_type": "markdown",
   "id": "a016eac4-496d-4956-adaa-b3d9e2fca70a",
   "metadata": {},
   "source": [
    "**// returns integer and / returns decimal**\n"
   ]
  },
  {
   "cell_type": "code",
   "execution_count": 55,
   "id": "8b03ff7b-13b5-4a1d-9a5f-e68c3e39d882",
   "metadata": {},
   "outputs": [
    {
     "name": "stdout",
     "output_type": "stream",
     "text": [
      "a = 2 \n",
      "x= 5\n"
     ]
    }
   ],
   "source": [
    "print( \"a =\", a ,\"\\nx=\" , x)"
   ]
  },
  {
   "cell_type": "code",
   "execution_count": 56,
   "id": "d493f949-6d1a-44e2-9416-438d05b93cdb",
   "metadata": {},
   "outputs": [
    {
     "name": "stdout",
     "output_type": "stream",
     "text": [
      "0 \n",
      " 0.4\n"
     ]
    }
   ],
   "source": [
    "print(a//x ,\"\\n\", a/x)"
   ]
  },
  {
   "cell_type": "code",
   "execution_count": 57,
   "id": "4a506c46-d812-4374-9f9b-f2212829a4c7",
   "metadata": {},
   "outputs": [
    {
     "name": "stdout",
     "output_type": "stream",
     "text": [
      "True\n"
     ]
    }
   ],
   "source": [
    "print(h)\n"
   ]
  },
  {
   "cell_type": "code",
   "execution_count": 58,
   "id": "a494b3e2-61ee-4482-8e3e-6ec5abc1eb6d",
   "metadata": {},
   "outputs": [
    {
     "data": {
      "text/plain": [
       "False"
      ]
     },
     "execution_count": 58,
     "metadata": {},
     "output_type": "execute_result"
    }
   ],
   "source": [
    "not(h)"
   ]
  },
  {
   "cell_type": "markdown",
   "id": "3cdc919c-0551-44ac-9e01-c3b349503fc4",
   "metadata": {},
   "source": [
    "# **Built-In Function**"
   ]
  },
  {
   "cell_type": "code",
   "execution_count": 59,
   "id": "593a8764-abb6-4c17-96ea-dd18c1ef6681",
   "metadata": {},
   "outputs": [
    {
     "name": "stdout",
     "output_type": "stream",
     "text": [
      "5\n",
      "4\n"
     ]
    }
   ],
   "source": [
    "print(round(4.556))\n",
    "print(round(4.33))      \n",
    "      "
   ]
  },
  {
   "cell_type": "code",
   "execution_count": 60,
   "id": "edad2432-0373-40a7-aebc-fe780106ddb4",
   "metadata": {},
   "outputs": [
    {
     "name": "stdout",
     "output_type": "stream",
     "text": [
      "<class 'tuple'>\n",
      "(5, 2)\n",
      "5 \n",
      " 2\n"
     ]
    }
   ],
   "source": [
    "\"\"\" divmod  => division + reminder dono data ha \"\"\"\n",
    "\n",
    "B=divmod(27 , 5)\n",
    "print(type(B))\n",
    "print(B)\n",
    "print(B[0] ,\"\\n\" ,B[1])"
   ]
  },
  {
   "cell_type": "code",
   "execution_count": 61,
   "id": "0081849f-a990-419b-8858-76296bb375a9",
   "metadata": {},
   "outputs": [
    {
     "name": "stdin",
     "output_type": "stream",
     "text": [
      "enter your name : aqsa\n"
     ]
    },
    {
     "name": "stdout",
     "output_type": "stream",
     "text": [
      "lenght: 4\n"
     ]
    }
   ],
   "source": [
    "\"\"\" length \"\"\"\n",
    "name = input(\"enter your name :\")\n",
    "print(\"lenght:\" , len(name))\n"
   ]
  },
  {
   "cell_type": "code",
   "execution_count": 62,
   "id": "22212a74-be6f-4ada-885e-9db0b6eb1323",
   "metadata": {},
   "outputs": [
    {
     "name": "stdout",
     "output_type": "stream",
     "text": [
      "3.44 \n",
      " 3\n"
     ]
    }
   ],
   "source": [
    "\"\"\" convert into integer\"\"\"\n",
    "\n",
    "A=3.44\n",
    "print(A, \"\\n\", int(A))"
   ]
  },
  {
   "cell_type": "code",
   "execution_count": 63,
   "id": "2cb1e7f1-321f-40cf-bafb-da66389b1f83",
   "metadata": {},
   "outputs": [
    {
     "name": "stdout",
     "output_type": "stream",
     "text": [
      "3 \n",
      " 3.0\n"
     ]
    }
   ],
   "source": [
    "\"\"\" convert into float\"\"\"\n",
    "A=3\n",
    "print(A, \"\\n\", float(A))"
   ]
  },
  {
   "cell_type": "code",
   "execution_count": 64,
   "id": "d6cffaee-60de-41aa-b0e6-f34b8e61c0b9",
   "metadata": {},
   "outputs": [
    {
     "name": "stdout",
     "output_type": "stream",
     "text": [
      "<class 'str'> 3 \n",
      " 3 <class 'str'>\n"
     ]
    }
   ],
   "source": [
    "\"\"\" convert into String\"\"\"\n",
    "\n",
    "A=3\n",
    "A=str(A)\n",
    "print( type(A) , A, \"\\n\", A , type(A))"
   ]
  },
  {
   "cell_type": "code",
   "execution_count": 65,
   "id": "93dd188d-b729-4266-aaaf-6c51fab5fc04",
   "metadata": {},
   "outputs": [
    {
     "name": "stdout",
     "output_type": "stream",
     "text": [
      "['A', 'Q', 'S', 'A'] \n",
      " [1, 2, 3] \n",
      " ['a', 'b'] \n",
      " [0, 1, 2, 3, 4]\n"
     ]
    }
   ],
   "source": [
    "\"\"\" convert into list =>iterable object ko list ma convert krta ha \"\"\"\n",
    "A=\"AQSA\"\n",
    "B=(1,2,3)\n",
    "C={\"a\" :1 , \"b\" :2 }\n",
    "D=range(5)\n",
    "\n",
    "print(list(A) ,\"\\n\" ,  list(B),\"\\n\" , list(C) ,\"\\n\" , list(D))"
   ]
  },
  {
   "cell_type": "code",
   "execution_count": 66,
   "id": "0544f6d8-0852-47ad-8448-e0099d85d831",
   "metadata": {},
   "outputs": [
    {
     "name": "stdout",
     "output_type": "stream",
     "text": [
      "{'name': 'aqsa', 'age': '23', 'subject': 'IT'}\n"
     ]
    }
   ],
   "source": [
    "\"\"\" convert into Dictionary\"\"\"\n",
    "d=dict(name = \"aqsa\" , age = \"23\" , subject=\"IT\")\n",
    "print(d)\n"
   ]
  },
  {
   "cell_type": "code",
   "execution_count": 67,
   "id": "6a3bd5a9-6caa-4073-9bd9-10ac58c48cc4",
   "metadata": {},
   "outputs": [
    {
     "name": "stdout",
     "output_type": "stream",
     "text": [
      "{1, 2, 3, 4, 5}\n"
     ]
    }
   ],
   "source": [
    "\"\"\" convert into Sets => Unique elements\"\"\" \n",
    "A=[1,2,3,4,2,3,5]\n",
    "print(set(A))\n"
   ]
  },
  {
   "cell_type": "code",
   "execution_count": 68,
   "id": "05bedd08-d743-458b-8bca-fde9a345a760",
   "metadata": {},
   "outputs": [
    {
     "name": "stdout",
     "output_type": "stream",
     "text": [
      "15\n"
     ]
    }
   ],
   "source": [
    "\"\"\" Sum\"\"\"\n",
    "A=[1,2,3,4,5]\n",
    "print(sum(A))\n"
   ]
  },
  {
   "cell_type": "code",
   "execution_count": 69,
   "id": "7b66bdb5-aa56-48f1-b1d3-d23a2fc13ff3",
   "metadata": {},
   "outputs": [
    {
     "name": "stdout",
     "output_type": "stream",
     "text": [
      "50\n"
     ]
    }
   ],
   "source": [
    "\"\"\" Max\"\"\"\n",
    "A=[11,29,39,44,50,22]\n",
    "print(max(A))"
   ]
  },
  {
   "cell_type": "code",
   "execution_count": 70,
   "id": "8ac97feb-c56f-4c3d-aff3-155f9565b0e4",
   "metadata": {},
   "outputs": [
    {
     "name": "stdout",
     "output_type": "stream",
     "text": [
      "11\n"
     ]
    }
   ],
   "source": [
    "\"\"\" Min\"\"\"\n",
    "A=[11,29,39,44,50,22]\n",
    "print(min(A))"
   ]
  },
  {
   "cell_type": "code",
   "execution_count": 71,
   "id": "32420902-6ec1-4bc9-a9e5-d5634507f255",
   "metadata": {},
   "outputs": [
    {
     "name": "stdout",
     "output_type": "stream",
     "text": [
      "[0, 3, 4, 11, 22, 29, 39, 44, 50]\n"
     ]
    }
   ],
   "source": [
    "\"\"\" Sorted\"\"\"\n",
    "A=[11,29,3,39,44,4,50,22,0]\n",
    "print(sorted(A))"
   ]
  },
  {
   "cell_type": "code",
   "execution_count": 72,
   "id": "916d6af6-0c37-49b4-bc97-858be11d18ee",
   "metadata": {},
   "outputs": [
    {
     "name": "stdout",
     "output_type": "stream",
     "text": [
      "0\n",
      "1\n",
      "2\n",
      "3\n",
      "4\n",
      "5\n",
      "6\n",
      "7\n",
      "8\n",
      "9\n",
      "[0, 1, 2, 3, 4]\n",
      "2\n",
      "4\n",
      "6\n",
      "8\n",
      "10\n"
     ]
    }
   ],
   "source": [
    "\"\"\"Range\"\"\"\n",
    "\n",
    "\n",
    "for i in range(10):\n",
    "    print(i)\n",
    "    \"\"\"or\"\"\"\n",
    "d=range(5)\n",
    "print(list(d))\n",
    "\"\"\"or\"\"\"\n",
    "for j in range( 2,11,2):\n",
    "    print(j)"
   ]
  },
  {
   "cell_type": "code",
   "execution_count": 73,
   "id": "1ab9af75-8903-444f-88f5-aa35afc9dd56",
   "metadata": {},
   "outputs": [
    {
     "name": "stdout",
     "output_type": "stream",
     "text": [
      "5 * 0 = 0\n",
      "5 * 1 = 5\n",
      "5 * 2 = 10\n",
      "5 * 3 = 15\n",
      "5 * 4 = 20\n",
      "5 * 5 = 25\n",
      "5 * 6 = 30\n",
      "5 * 7 = 35\n",
      "5 * 8 = 40\n",
      "5 * 9 = 45\n",
      "5 * 10 = 50\n"
     ]
    }
   ],
   "source": [
    "\"\"\"Print a table using Range\"\"\"\n",
    "a=5\n",
    "for i in range(11):\n",
    "    print( a , \"*\" , i ,\"=\" , 5*i)"
   ]
  },
  {
   "cell_type": "code",
   "execution_count": 74,
   "id": "b729044a-26c8-4fc5-94aa-31618c9b29a4",
   "metadata": {},
   "outputs": [
    {
     "name": "stdout",
     "output_type": "stream",
     "text": [
      "2\n",
      "4\n",
      "6\n",
      "8\n",
      "10\n",
      "12\n",
      "14\n",
      "16\n",
      "18\n"
     ]
    }
   ],
   "source": [
    "\"\"\"Print a even number using Range\"\"\"\n",
    "\n",
    "for i in range(2,20,2):\n",
    "    print( i)"
   ]
  },
  {
   "cell_type": "code",
   "execution_count": 75,
   "id": "4c6e1c10-f212-4532-8057-5998c6b55519",
   "metadata": {},
   "outputs": [
    {
     "name": "stdout",
     "output_type": "stream",
     "text": [
      "1\n",
      "3\n",
      "5\n",
      "7\n",
      "9\n",
      "11\n",
      "13\n",
      "15\n",
      "17\n",
      "19\n"
     ]
    }
   ],
   "source": [
    "\"\"\"Print a odd number using Range\"\"\"\n",
    "\n",
    "for i in range(1,20,2):\n",
    "    print( i)"
   ]
  },
  {
   "cell_type": "code",
   "execution_count": 76,
   "id": "0891817d-f1ed-4a1c-ace0-6a62675f2681",
   "metadata": {},
   "outputs": [
    {
     "name": "stdout",
     "output_type": "stream",
     "text": [
      "[1, 4, 7, 10, 13, 16, 19]\n",
      "[1, 16, 49, 100, 169, 256, 361]\n"
     ]
    }
   ],
   "source": [
    "l1=[]\n",
    "l2=[]\n",
    "for i in range(1, 20, 3 ):\n",
    "    l1.append(i)\n",
    "    l2.append(i**2)\n",
    "\n",
    "print(l1)\n",
    "print(l2)"
   ]
  },
  {
   "cell_type": "code",
   "execution_count": 77,
   "id": "661dc5fc-81a5-4d1e-aac2-c1440a4a364d",
   "metadata": {},
   "outputs": [
    {
     "name": "stdout",
     "output_type": "stream",
     "text": [
      "9\n",
      "1\n"
     ]
    }
   ],
   "source": [
    "\"\"\"  Power function => return x raised to y and also it return (x**y)% mod value\"\"\"\n",
    "x=3\n",
    "y=2\n",
    "print(pow(x, y))\n",
    "print(pow(x, y)%2)"
   ]
  },
  {
   "cell_type": "code",
   "execution_count": 78,
   "id": "04fc1b5b-9d89-46ca-afe7-611b724c9725",
   "metadata": {},
   "outputs": [
    {
     "name": "stdout",
     "output_type": "stream",
     "text": [
      "4\n",
      "3.8\n"
     ]
    }
   ],
   "source": [
    "\"\"\" abs=> reutrn the acsolute value of x\"\"\"\n",
    "x=-4\n",
    "y=-3.8\n",
    "print(abs(x))\n",
    "print(abs(y))"
   ]
  },
  {
   "cell_type": "code",
   "execution_count": 79,
   "id": "e17af8bb-b8e6-46a3-bf0a-74b5372cc1ef",
   "metadata": {},
   "outputs": [
    {
     "name": "stdout",
     "output_type": "stream",
     "text": [
      "False\n",
      "True\n"
     ]
    }
   ],
   "source": [
    "\"\"\" bool=> convert into bool\"\"\"\n",
    "print(bool(0))\n",
    "print(bool(1))"
   ]
  },
  {
   "cell_type": "code",
   "execution_count": 80,
   "id": "e7d86fae-d347-4bf7-97a5-5f5c38c202a4",
   "metadata": {
    "scrolled": true
   },
   "outputs": [
    {
     "name": "stdout",
     "output_type": "stream",
     "text": [
      "aqsa 90\n",
      "erum 80\n"
     ]
    }
   ],
   "source": [
    "\"\"\" zip=> combine two lists\"\"\"\n",
    "name=['aqsa' , 'erum']\n",
    "scores=[90,80]\n",
    "for name ,  scores in zip(name , scores):\n",
    "    print(name , scores)"
   ]
  },
  {
   "cell_type": "code",
   "execution_count": 81,
   "id": "57035502-56e5-496e-9655-5cf6c638e962",
   "metadata": {},
   "outputs": [
    {
     "name": "stdout",
     "output_type": "stream",
     "text": [
      "True\n",
      "False\n"
     ]
    }
   ],
   "source": [
    "\"\"\" isinstance => check the type\"\"\"\n",
    "x=5\n",
    "y=2.3\n",
    "print(isinstance(x, int))\n",
    "print(isinstance(y, str))"
   ]
  },
  {
   "cell_type": "code",
   "execution_count": 82,
   "id": "d10fa704-43ec-4668-af59-9c972be41125",
   "metadata": {},
   "outputs": [
    {
     "name": "stdout",
     "output_type": "stream",
     "text": [
      "True\n",
      "False\n"
     ]
    }
   ],
   "source": [
    "\"\"\" All => All true then true\"\"\"\n",
    "print(all([True, True, True]))\n",
    "print(all([True, False, True]))"
   ]
  },
  {
   "cell_type": "code",
   "execution_count": 83,
   "id": "9ab69cd6-0fb9-40d9-8d2c-acfe57007463",
   "metadata": {},
   "outputs": [
    {
     "name": "stdout",
     "output_type": "stream",
     "text": [
      "False\n",
      "True\n"
     ]
    }
   ],
   "source": [
    "\"\"\" Any => Any one is true\"\"\"\n",
    "print(any([False, False , False]))\n",
    "print(any([True, False, True]))"
   ]
  },
  {
   "cell_type": "code",
   "execution_count": 84,
   "id": "7aae0c3d-d3d7-4765-9819-d23f3c6ab68b",
   "metadata": {},
   "outputs": [
    {
     "name": "stdin",
     "output_type": "stream",
     "text": [
      "enter a real number : 44\n"
     ]
    }
   ],
   "source": [
    "a=float(input(\"enter a real number :\"))"
   ]
  },
  {
   "cell_type": "markdown",
   "id": "06f9aee7-14f1-4c43-8222-c07ba654188f",
   "metadata": {},
   "source": [
    "## is "
   ]
  },
  {
   "cell_type": "code",
   "execution_count": 85,
   "id": "3de06e43-256d-4cff-9916-84eaa20021d7",
   "metadata": {},
   "outputs": [
    {
     "name": "stdout",
     "output_type": "stream",
     "text": [
      "False\n"
     ]
    }
   ],
   "source": [
    "\"\"\" is => is operator checks whether two variables refers to the same object in memory\"\"\"\n",
    "a=300\n",
    "b=300\n",
    "print(a is b )"
   ]
  },
  {
   "cell_type": "code",
   "execution_count": 86,
   "id": "4d7c2415-d4c1-44c6-9ef9-d7e0bf2bbe62",
   "metadata": {},
   "outputs": [
    {
     "name": "stdout",
     "output_type": "stream",
     "text": [
      "True\n"
     ]
    }
   ],
   "source": [
    "a= 300 \n",
    "b=a\n",
    "print(a is b )"
   ]
  },
  {
   "cell_type": "code",
   "execution_count": 87,
   "id": "2e3df4da-4ed2-467c-8e69-953bd802b69e",
   "metadata": {},
   "outputs": [
    {
     "name": "stdout",
     "output_type": "stream",
     "text": [
      "True\n"
     ]
    }
   ],
   "source": [
    "a=[1,2,4]\n",
    "b=a\n",
    "print(b is a)"
   ]
  },
  {
   "cell_type": "code",
   "execution_count": 12,
   "id": "d1776261-74a8-410f-a948-c0ca77984d46",
   "metadata": {},
   "outputs": [
    {
     "name": "stdout",
     "output_type": "stream",
     "text": [
      "[1, 2, 3, 4]\n",
      "L2 [1, 2, -9, 4]\n",
      "L1 [1, 2, -9, 4]\n"
     ]
    }
   ],
   "source": [
    "L1=[1,2,3,4]\n",
    "print(L1)\n",
    "L2=L1\n",
    "L2[2]=-9\n",
    "print(\"L2\",L2)\n",
    "print(\"L1\",L1)"
   ]
  },
  {
   "cell_type": "markdown",
   "id": "bc2153e1-488e-4f21-a8a7-8e5b9f73a6e3",
   "metadata": {},
   "source": [
    "## **Condition**\n"
   ]
  },
  {
   "cell_type": "code",
   "execution_count": 88,
   "id": "ff3fff91-d236-410b-b1bd-ff3b969c6b88",
   "metadata": {},
   "outputs": [
    {
     "name": "stdin",
     "output_type": "stream",
     "text": [
      "enter the vlue of  A : 6\n",
      "enter the vlue of  B : 8\n"
     ]
    },
    {
     "name": "stdout",
     "output_type": "stream",
     "text": [
      "8\n",
      "i am still inside if condition\n",
      "i am outside if condition\n"
     ]
    }
   ],
   "source": [
    "a=int(input(\"enter the vlue of  A :\"))\n",
    "b=int(input(\"enter the vlue of  B :\"))\n",
    "if a > b :\n",
    "    print(a)\n",
    "    print(\"i am still inside if condition\")\n",
    "if b > a :\n",
    "    print(b)\n",
    "    print(\"i am still inside if condition\")\n",
    "print(\"i am outside if condition\")"
   ]
  },
  {
   "cell_type": "code",
   "execution_count": 90,
   "id": "edbd7f02-d2a0-4a13-9742-9fafb40b8126",
   "metadata": {},
   "outputs": [
    {
     "name": "stdin",
     "output_type": "stream",
     "text": [
      "enter the value of  A : 7\n",
      "enter the value of  B : 9\n"
     ]
    },
    {
     "name": "stdout",
     "output_type": "stream",
     "text": [
      "9\n",
      "i am  inside else \n",
      "i am outside  condition\n"
     ]
    }
   ],
   "source": [
    "a=int(input(\"enter the value of  A :\"))\n",
    "b=int(input(\"enter the value of  B :\"))\n",
    "if a > b :\n",
    "    print(a)\n",
    "    print(\"i am  inside if \")\n",
    "else :\n",
    "    print(b)\n",
    "    print(\"i am  inside else \")\n",
    "print(\"i am outside  condition\")"
   ]
  },
  {
   "cell_type": "code",
   "execution_count": 91,
   "id": "b5adca6f-73b0-4ece-9e4e-4faf7fc8d7af",
   "metadata": {},
   "outputs": [
    {
     "name": "stdout",
     "output_type": "stream",
     "text": [
      "b is greater than a \n",
      " 20 > 10\n"
     ]
    }
   ],
   "source": [
    "a=10 \n",
    "b=20 \n",
    "c=30\n",
    "if a == b :\n",
    "    print(\"equal\")\n",
    "\n",
    "elif a > b :\n",
    "    print(\"a is greater than b\" , \"\\n\" , a ,\">\" , b)\n",
    "\n",
    "else :\n",
    "    print(\"b is greater than a\" ,  \"\\n\" , b ,\">\" , a)\n",
    "    \n",
    "\n"
   ]
  },
  {
   "cell_type": "code",
   "execution_count": 92,
   "id": "6adec556-e53d-4c00-a548-1be624e0214b",
   "metadata": {},
   "outputs": [
    {
     "name": "stdin",
     "output_type": "stream",
     "text": [
      "enter a number : 25\n"
     ]
    },
    {
     "name": "stdout",
     "output_type": "stream",
     "text": [
      "a > 10 \n",
      "a > 20 \n",
      "a < 30 \n"
     ]
    }
   ],
   "source": [
    "a=int(input(\"enter a number :\"))\n",
    "if a > 10:\n",
    "      print( \"a > 10 \")\n",
    "      if a > 20:\n",
    "          print(\"a > 20 \")\n",
    "          if a > 30 :\n",
    "              print(\"a > 30 \" )\n",
    "          else :\n",
    "              print(\"a < 30 \")\n",
    "      else :\n",
    "             print(\"a < 20 \")\n",
    "else :\n",
    "     print(\"a < 10 \")\n",
    "\n",
    "\n",
    "    "
   ]
  },
  {
   "cell_type": "code",
   "execution_count": 94,
   "id": "4beaa198-e2eb-4ab2-9e01-d427c07e3992",
   "metadata": {},
   "outputs": [
    {
     "name": "stdin",
     "output_type": "stream",
     "text": [
      "Enter a real number : 4.9\n"
     ]
    },
    {
     "name": "stdout",
     "output_type": "stream",
     "text": [
      "4.9\n",
      "5\n",
      "4\n",
      "1\n",
      "Even \n"
     ]
    }
   ],
   "source": [
    "# single line comment\n",
    "\"\"\" \n",
    "User will enter a floating point number let say 238.915. Your task\n",
    "is to find out the integer portion before the point (in this case 238)\n",
    "and then check if that integer portion is an even number or not?\n",
    "\"\"\"\n",
    "x = float(input(\"Enter a real number :\"))\n",
    "print(x)\n",
    "y = round(x)\n",
    "print(y)\n",
    "if x > 0 :\n",
    "    if y > x :\n",
    "        intPortion = y-1 \n",
    "        print( intPortion)\n",
    "        print(\"1\")\n",
    "    else :\n",
    "        intPortion = y\n",
    "        print(intPortion)\n",
    "        print(\"2\")\n",
    "\n",
    "else:\n",
    "    if(x > y) :\n",
    "         intPortion = y+1 \n",
    "         print( intPortion)\n",
    "         print(\"3\")\n",
    "\n",
    "    else :\n",
    "        intPortion = y\n",
    "        print( intPortion)\n",
    "        print(\"4\")\n",
    "\n",
    "if intPortion % 2 == 0 :\n",
    "    print(\"Even \")\n",
    "else:\n",
    "     print(\"odd \")\n",
    "     \n",
    "    \n"
   ]
  },
  {
   "cell_type": "code",
   "execution_count": 95,
   "id": "ce0a77bb-7886-4f2b-a2bc-dd6a433227e4",
   "metadata": {},
   "outputs": [
    {
     "name": "stdin",
     "output_type": "stream",
     "text": [
      "Enter a real number : -5.5\n"
     ]
    },
    {
     "name": "stdout",
     "output_type": "stream",
     "text": [
      "-5.5\n",
      "-5\n"
     ]
    }
   ],
   "source": [
    "x = float(input(\"Enter a real number :\"))\n",
    "print (x)\n",
    "y=int(x)\n",
    "print(y)"
   ]
  },
  {
   "cell_type": "markdown",
   "id": "66179277-07f8-4da8-abb9-cb53eec288cc",
   "metadata": {},
   "source": [
    "## **Loops**"
   ]
  },
  {
   "cell_type": "code",
   "execution_count": 96,
   "id": "a1d63e1e-a28d-4819-95dd-132d8236c8fe",
   "metadata": {},
   "outputs": [
    {
     "name": "stdin",
     "output_type": "stream",
     "text": [
      " 3\n"
     ]
    }
   ],
   "source": [
    "n=int(input())"
   ]
  },
  {
   "cell_type": "code",
   "execution_count": 98,
   "id": "257197b5-ef89-4005-863e-07a69b71a69d",
   "metadata": {},
   "outputs": [
    {
     "name": "stdin",
     "output_type": "stream",
     "text": [
      " 4\n"
     ]
    },
    {
     "name": "stdout",
     "output_type": "stream",
     "text": [
      "this is iteration number :  1\n",
      "1\n",
      "this is iteration number :  2\n",
      "4\n",
      "this is iteration number :  3\n",
      "9\n",
      "loop end\n"
     ]
    }
   ],
   "source": [
    "n = int(input())\n",
    "i=1\n",
    "while i < n :\n",
    "    print(\"this is iteration number : \" , i )\n",
    "    print ( i ** 2 )\n",
    "    i+=1\n",
    "\n",
    "print(\"loop end\")"
   ]
  },
  {
   "cell_type": "code",
   "execution_count": 99,
   "id": "b1bb5b24-4b63-4066-aa47-619c0a1dfbd4",
   "metadata": {},
   "outputs": [
    {
     "name": "stdin",
     "output_type": "stream",
     "text": [
      " 7\n"
     ]
    },
    {
     "name": "stdout",
     "output_type": "stream",
     "text": [
      "inside else   1\n",
      "inside else   2\n",
      "inside else   3\n",
      "inside else   4\n",
      "inside else   5\n",
      "inside else   6\n",
      "END\n"
     ]
    }
   ],
   "source": [
    "n = int(input())\n",
    "i=1\n",
    "while i < n :\n",
    "    if i % 9 == 0 :\n",
    "        print(i)\n",
    "        print(\"inside if \")\n",
    "        break\n",
    "\n",
    "    else :\n",
    "        print(\"inside else  \" , i)\n",
    "        i+=1\n",
    "\n",
    "print (\"END\")\n",
    "   "
   ]
  },
  {
   "cell_type": "code",
   "execution_count": 100,
   "id": "0f11dc78-2a28-4ab2-8cad-b61a33ca6219",
   "metadata": {},
   "outputs": [
    {
     "name": "stdout",
     "output_type": "stream",
     "text": [
      " inside if  1\n",
      " inside if  2\n",
      " inside if  3\n",
      " inside if  4\n",
      " inside if  5\n",
      " inside if  6\n",
      " inside if  7\n",
      " inside if  8\n",
      " i am after the continue \n",
      " END \n"
     ]
    }
   ],
   "source": [
    "n = 10\n",
    "i = 1\n",
    "while i < n:\n",
    "   if i % 9 != 0:\n",
    "       print( \" inside if \" , i )\n",
    "       i+=1\n",
    "       continue\n",
    "   print( \" i am after the continue \"  )\n",
    "   break \n",
    "   print( \" i am after the break \"  )\n",
    "print( \" END \"  )     "
   ]
  },
  {
   "cell_type": "code",
   "execution_count": 101,
   "id": "e21f3811-8b2e-4018-8974-164db3c77d31",
   "metadata": {},
   "outputs": [
    {
     "name": "stdout",
     "output_type": "stream",
     "text": [
      "cherry\n",
      "4.9\n",
      "END\n"
     ]
    }
   ],
   "source": [
    "S = {\"apple\",4.9,\"cherry\"}\n",
    "i=1\n",
    "for x in S:\n",
    "    print(x)\n",
    "    i+=1\n",
    "    if( i == 3 ):\n",
    "        break\n",
    "\n",
    "    else :\n",
    "        pass #do nothing\n",
    "print(\"END\")\n",
    "    \n",
    "    \n"
   ]
  },
  {
   "cell_type": "code",
   "execution_count": 102,
   "id": "6610be61-9b0b-4746-badc-af1c86b66951",
   "metadata": {},
   "outputs": [
    {
     "ename": "TypeError",
     "evalue": "'set' object is not subscriptable",
     "output_type": "error",
     "traceback": [
      "\u001b[1;31m---------------------------------------------------------------------------\u001b[0m",
      "\u001b[1;31mTypeError\u001b[0m                                 Traceback (most recent call last)",
      "Cell \u001b[1;32mIn[102], line 2\u001b[0m\n\u001b[0;32m      1\u001b[0m S \u001b[38;5;241m=\u001b[39m {\u001b[38;5;124m\"\u001b[39m\u001b[38;5;124mapple\u001b[39m\u001b[38;5;124m\"\u001b[39m,\u001b[38;5;241m4.9\u001b[39m,\u001b[38;5;124m\"\u001b[39m\u001b[38;5;124mcherry\u001b[39m\u001b[38;5;124m\"\u001b[39m}\n\u001b[1;32m----> 2\u001b[0m l\u001b[38;5;241m=\u001b[39mS[\u001b[38;5;241m1\u001b[39m]\n\u001b[0;32m      3\u001b[0m \u001b[38;5;28mprint\u001b[39m(l)\n",
      "\u001b[1;31mTypeError\u001b[0m: 'set' object is not subscriptable"
     ]
    }
   ],
   "source": [
    "S = {\"apple\",4.9,\"cherry\"}\n",
    "l=S[1]\n",
    "print(l)"
   ]
  },
  {
   "cell_type": "code",
   "execution_count": 103,
   "id": "defddfee-b10a-40c6-a8ec-eb6d9ecd0abb",
   "metadata": {},
   "outputs": [
    {
     "name": "stdout",
     "output_type": "stream",
     "text": [
      "cherry\n",
      "4.9\n",
      "apple\n"
     ]
    }
   ],
   "source": [
    "S = {\"apple\",4.9,\"cherry\"} \n",
    "for x in S:\n",
    "    print(x)"
   ]
  },
  {
   "cell_type": "code",
   "execution_count": 104,
   "id": "53e10a25-b8d1-44d1-a299-b11a4a79440d",
   "metadata": {},
   "outputs": [
    {
     "name": "stdout",
     "output_type": "stream",
     "text": [
      "A 10\n",
      "B -19\n",
      "C abc\n"
     ]
    }
   ],
   "source": [
    "D = {\"A\":10,\"B\":-19,\"C\":\"abc\"}\n",
    "for x in D :\n",
    "    print (x , D[x])"
   ]
  },
  {
   "cell_type": "markdown",
   "id": "0686912d-5ed6-4fda-ba65-dc0666048686",
   "metadata": {},
   "source": [
    "## **functions**"
   ]
  },
  {
   "cell_type": "code",
   "execution_count": 106,
   "id": "63885ee5-1e06-4657-a4cf-342b5470f078",
   "metadata": {},
   "outputs": [],
   "source": [
    "def FirstFunction():\n",
    "    print(\"this is my first function \")\n",
    "\n"
   ]
  },
  {
   "cell_type": "code",
   "execution_count": 107,
   "id": "f9b9ace0-174c-42f9-8a05-6fe3da23a1d7",
   "metadata": {},
   "outputs": [
    {
     "name": "stdout",
     "output_type": "stream",
     "text": [
      "this is my first function \n"
     ]
    }
   ],
   "source": [
    "FirstFunction()"
   ]
  },
  {
   "cell_type": "code",
   "execution_count": 108,
   "id": "a4346eae-9a27-40e0-84bf-340a470996f6",
   "metadata": {},
   "outputs": [],
   "source": [
    "def printmsg(msg):\n",
    "    if isinstance (msg, str):\n",
    "        print(msg)\n",
    "\n",
    "    else :\n",
    "        print (\"your msg type is not string\")"
   ]
  },
  {
   "cell_type": "code",
   "execution_count": 109,
   "id": "87e46b81-57b5-4f60-8242-c86452167288",
   "metadata": {},
   "outputs": [
    {
     "name": "stdout",
     "output_type": "stream",
     "text": [
      " hye \n"
     ]
    }
   ],
   "source": [
    "printmsg(\" hye \")"
   ]
  },
  {
   "cell_type": "code",
   "execution_count": 110,
   "id": "63aaaf24-f734-404c-b63c-1fecf799caf7",
   "metadata": {},
   "outputs": [
    {
     "name": "stdout",
     "output_type": "stream",
     "text": [
      " 123\n"
     ]
    }
   ],
   "source": [
    "printmsg(\" 123\")"
   ]
  },
  {
   "cell_type": "code",
   "execution_count": 111,
   "id": "5983213f-dcf4-4e07-a792-2e414040028f",
   "metadata": {},
   "outputs": [
    {
     "name": "stdout",
     "output_type": "stream",
     "text": [
      "your msg type is not string\n"
     ]
    }
   ],
   "source": [
    "printmsg(123)"
   ]
  },
  {
   "cell_type": "code",
   "execution_count": 112,
   "id": "9e453ade-c149-4c8f-ac54-4dd77ec8d0dc",
   "metadata": {},
   "outputs": [
    {
     "name": "stdout",
     "output_type": "stream",
     "text": [
      "HELLO\n"
     ]
    }
   ],
   "source": [
    "Y=\"HELLO\"\n",
    "print(Y)"
   ]
  },
  {
   "cell_type": "code",
   "execution_count": 18,
   "id": "7526d65d-0720-4eda-8751-6d279133b636",
   "metadata": {},
   "outputs": [],
   "source": [
    "def CheckArgs(a,b,c):\n",
    "    if isinstance(a , (int, float)) and isinstance(b , (int, float)) and isinstance(c , (int, float)):\n",
    "        print((a+b+c)**2)\n",
    "\n",
    "    else :\n",
    "        print (\"Error: the input arguements are not of the expected types\")"
   ]
  },
  {
   "cell_type": "code",
   "execution_count": 19,
   "id": "1354f422-6694-43d4-9fcf-514c0ed4f61e",
   "metadata": {},
   "outputs": [
    {
     "name": "stdout",
     "output_type": "stream",
     "text": [
      "289\n"
     ]
    }
   ],
   "source": [
    "CheckArgs(3,6,8)"
   ]
  },
  {
   "cell_type": "code",
   "execution_count": 21,
   "id": "6a363210-2679-4afe-b1d7-1a19005b3312",
   "metadata": {},
   "outputs": [
    {
     "name": "stdout",
     "output_type": "stream",
     "text": [
      "Error: the input arguements are not of the expected types\n"
     ]
    }
   ],
   "source": [
    "CheckArgs(3,6,\"g\")"
   ]
  },
  {
   "cell_type": "code",
   "execution_count": 23,
   "id": "20f743fa-3294-467d-b8c3-c24ab8ce8fcc",
   "metadata": {},
   "outputs": [],
   "source": [
    "def function(a,b,c):\n",
    "    print(\"A is :\" , a)\n",
    "    print(\"B is :\" , b)\n",
    "    print(\"C is :\" , c)"
   ]
  },
  {
   "cell_type": "code",
   "execution_count": 24,
   "id": "5ffb0bf8-3ec0-4cec-a822-e30ff11aab20",
   "metadata": {},
   "outputs": [
    {
     "name": "stdout",
     "output_type": "stream",
     "text": [
      "A is : 3\n",
      "B is : game\n",
      "C is : 3.5\n"
     ]
    }
   ],
   "source": [
    "function(3,\"game\" , 3.5)"
   ]
  },
  {
   "cell_type": "code",
   "execution_count": 26,
   "id": "48ad2847-4a7a-4719-a5c2-d9b528cafdca",
   "metadata": {},
   "outputs": [
    {
     "name": "stdout",
     "output_type": "stream",
     "text": [
      "A is : 3.5\n",
      "B is : 3\n",
      "C is : game\n"
     ]
    }
   ],
   "source": [
    "function(c=\"game\" , b=3 , a=3.5)"
   ]
  },
  {
   "cell_type": "code",
   "execution_count": 27,
   "id": "80aa63e8-4d30-40c1-bb1b-f1daeedde12a",
   "metadata": {},
   "outputs": [],
   "source": [
    "def myadd(a,b):\n",
    "    add=a+b\n",
    "    "
   ]
  },
  {
   "cell_type": "code",
   "execution_count": 38,
   "id": "ab84d81b-1787-4275-97db-0ccffb5ad541",
   "metadata": {},
   "outputs": [
    {
     "data": {
      "text/plain": [
       "9"
      ]
     },
     "execution_count": 38,
     "metadata": {},
     "output_type": "execute_result"
    }
   ],
   "source": [
    "myadd(3,6)"
   ]
  },
  {
   "cell_type": "code",
   "execution_count": 34,
   "id": "e081bb2e-c17d-4247-8111-c1aeaada785c",
   "metadata": {},
   "outputs": [],
   "source": [
    "def myadd(a,b):\n",
    "    add = a + b\n",
    "    return add"
   ]
  },
  {
   "cell_type": "code",
   "execution_count": 40,
   "id": "2a28c1de-1d84-43ef-881f-c43ba758acf9",
   "metadata": {},
   "outputs": [
    {
     "name": "stdout",
     "output_type": "stream",
     "text": [
      "<class 'function'>\n"
     ]
    }
   ],
   "source": [
    "myadd(3,6)\n",
    "print(type(myadd))"
   ]
  },
  {
   "cell_type": "code",
   "execution_count": 41,
   "id": "3c1514ad-dd5a-4e0c-a20e-4052d34249f9",
   "metadata": {},
   "outputs": [],
   "source": [
    "def r():\n",
    "    a = 5\n",
    "    b = 7\n",
    "    d = \"something\"\n",
    "    return a,b,d"
   ]
  },
  {
   "cell_type": "code",
   "execution_count": 45,
   "id": "e3f06a3f-1f77-499f-88b9-24c653312fea",
   "metadata": {},
   "outputs": [
    {
     "name": "stdout",
     "output_type": "stream",
     "text": [
      "5 7 something\n"
     ]
    }
   ],
   "source": [
    "x,y,z=r()\n",
    "print(x,y,z)"
   ]
  },
  {
   "cell_type": "code",
   "execution_count": 20,
   "id": "e2b7dfc0-0bb0-4626-bd16-eee223388e27",
   "metadata": {},
   "outputs": [
    {
     "data": {
      "text/plain": [
       "9"
      ]
     },
     "execution_count": 20,
     "metadata": {},
     "output_type": "execute_result"
    }
   ],
   "source": [
    "\"\"\" def myAddUniversal(*args): * ka mtlb ha multiple values lana \n",
    " \" Attributes number of positional arguments\"\n",
    "\"\"\"\n",
    "s=0\n",
    "def sum(*num):\n",
    "    s=0\n",
    "    for i in range(len(num)):\n",
    "        s += num[i]\n",
    "    return s\n",
    "sum(3,6)"
   ]
  },
  {
   "cell_type": "code",
   "execution_count": 23,
   "id": "70b5d05b-5494-4117-a193-0671e4e9422c",
   "metadata": {},
   "outputs": [
    {
     "ename": "IndexError",
     "evalue": "tuple index out of range",
     "output_type": "error",
     "traceback": [
      "\u001b[1;31m---------------------------------------------------------------------------\u001b[0m",
      "\u001b[1;31mIndexError\u001b[0m                                Traceback (most recent call last)",
      "Cell \u001b[1;32mIn[23], line 5\u001b[0m\n\u001b[0;32m      2\u001b[0m     \u001b[38;5;28;01mfor\u001b[39;00m i \u001b[38;5;129;01min\u001b[39;00m num:\n\u001b[0;32m      3\u001b[0m         \u001b[38;5;28mprint\u001b[39m(num[i])\n\u001b[1;32m----> 5\u001b[0m \u001b[38;5;28msum\u001b[39m(\u001b[38;5;241m3\u001b[39m,\u001b[38;5;241m6\u001b[39m)\n",
      "Cell \u001b[1;32mIn[23], line 3\u001b[0m, in \u001b[0;36msum\u001b[1;34m(*num)\u001b[0m\n\u001b[0;32m      1\u001b[0m \u001b[38;5;28;01mdef\u001b[39;00m \u001b[38;5;21msum\u001b[39m(\u001b[38;5;241m*\u001b[39mnum):\n\u001b[0;32m      2\u001b[0m     \u001b[38;5;28;01mfor\u001b[39;00m i \u001b[38;5;129;01min\u001b[39;00m num:\n\u001b[1;32m----> 3\u001b[0m         \u001b[38;5;28mprint\u001b[39m(num[i])\n",
      "\u001b[1;31mIndexError\u001b[0m: tuple index out of range"
     ]
    }
   ],
   "source": [
    "def sum(*num):\n",
    "    for i in num:\n",
    "        print(num[i])\n",
    "   \n",
    "sum(3,6)"
   ]
  },
  {
   "cell_type": "code",
   "execution_count": 18,
   "id": "db4a9255-401d-4d79-8877-d8699bf92732",
   "metadata": {},
   "outputs": [],
   "source": [
    "def printAllVariableNamesAndValues(**args):\n",
    "    for i in args:\n",
    "        print(\"Variable name is :\" , i , \" And it's Value : \" , args[i])"
   ]
  },
  {
   "cell_type": "code",
   "execution_count": 19,
   "id": "92d36bc7-2c8b-4094-8509-3e4559c173e9",
   "metadata": {},
   "outputs": [
    {
     "name": "stdout",
     "output_type": "stream",
     "text": [
      "Variable name is : a  And it's Value :  game\n",
      "Variable name is : b  And it's Value :  1\n",
      "Variable name is : c  And it's Value :  2.4\n"
     ]
    }
   ],
   "source": [
    "printAllVariableNamesAndValues(a=\"game\" , b=1 , c=2.4)"
   ]
  },
  {
   "cell_type": "code",
   "execution_count": 5,
   "id": "16c29689-8baf-42fd-bd76-bc1f740d2988",
   "metadata": {},
   "outputs": [
    {
     "name": "stdout",
     "output_type": "stream",
     "text": [
      "Lahore\n",
      "Pindi\n",
      "Karachi\n",
      "Islamabad\n"
     ]
    }
   ],
   "source": [
    "'''  default value agr function ma koi value pass nahi krien gain tu default value run ho gee '''\n",
    "\n",
    "def cityName(CN=\"Karachi\"):\n",
    "    print(CN)\n",
    "\n",
    "cityName(\"Lahore\")\n",
    "cityName(\"Pindi\")\n",
    "cityName()\n",
    "cityName(\"Islamabad\")\n"
   ]
  },
  {
   "cell_type": "code",
   "execution_count": 7,
   "id": "be36bda9-4af5-4822-8018-fbd2530876b7",
   "metadata": {},
   "outputs": [
    {
     "name": "stdout",
     "output_type": "stream",
     "text": [
      "[11, 22, 33]\n",
      "[1, 2, 3]\n"
     ]
    }
   ],
   "source": [
    "def ff(L=[1,2,3]):\n",
    "    print(L)\n",
    "\n",
    "ff([11,22,33])\n",
    "ff()"
   ]
  },
  {
   "cell_type": "markdown",
   "id": "1e15b43a-dadf-484f-8954-bcc619da2828",
   "metadata": {},
   "source": [
    "## **String**"
   ]
  },
  {
   "cell_type": "code",
   "execution_count": 14,
   "id": "fc59ead0-7f0d-47f1-9c40-bebd591d0739",
   "metadata": {},
   "outputs": [
    {
     "data": {
      "text/plain": [
       "str"
      ]
     },
     "execution_count": 14,
     "metadata": {},
     "output_type": "execute_result"
    }
   ],
   "source": [
    "s=\"Hello World\"\n",
    "type(s)"
   ]
  },
  {
   "cell_type": "code",
   "execution_count": 16,
   "id": "4392ee7a-4374-41d8-9906-7e84b308ff1b",
   "metadata": {},
   "outputs": [
    {
     "data": {
      "text/plain": [
       "'Hello World'"
      ]
     },
     "execution_count": 16,
     "metadata": {},
     "output_type": "execute_result"
    }
   ],
   "source": [
    "s1=\"Hello\" \n",
    "s2=\"World\"\n",
    "s3=s1+\" \"+s2\n",
    "s3"
   ]
  },
  {
   "cell_type": "code",
   "execution_count": 17,
   "id": "657c8117-d7ed-477f-ac36-a209a9edf65d",
   "metadata": {},
   "outputs": [
    {
     "name": "stdout",
     "output_type": "stream",
     "text": [
      "hello 12\n"
     ]
    }
   ],
   "source": [
    "print(\"hello\" , 12)"
   ]
  },
  {
   "cell_type": "code",
   "execution_count": 19,
   "id": "e3625a03-e419-4532-b91b-32c64de5cdec",
   "metadata": {},
   "outputs": [
    {
     "name": "stdout",
     "output_type": "stream",
     "text": [
      "the price of this : 1200\n"
     ]
    }
   ],
   "source": [
    "price=1200\n",
    "s=\"the price of this :\"\n",
    "print(s,price)"
   ]
  },
  {
   "cell_type": "code",
   "execution_count": 21,
   "id": "dadf47b9-b013-4516-a409-78fce516aa45",
   "metadata": {},
   "outputs": [
    {
     "ename": "TypeError",
     "evalue": "can only concatenate str (not \"int\") to str",
     "output_type": "error",
     "traceback": [
      "\u001b[1;31m---------------------------------------------------------------------------\u001b[0m",
      "\u001b[1;31mTypeError\u001b[0m                                 Traceback (most recent call last)",
      "Cell \u001b[1;32mIn[21], line 3\u001b[0m\n\u001b[0;32m      1\u001b[0m price\u001b[38;5;241m=\u001b[39m\u001b[38;5;241m1200\u001b[39m\n\u001b[0;32m      2\u001b[0m s\u001b[38;5;241m=\u001b[39m\u001b[38;5;124m\"\u001b[39m\u001b[38;5;124mthe price of this :\u001b[39m\u001b[38;5;124m\"\u001b[39m\n\u001b[1;32m----> 3\u001b[0m \u001b[38;5;28mprint\u001b[39m(s\u001b[38;5;241m+\u001b[39mprice)\n",
      "\u001b[1;31mTypeError\u001b[0m: can only concatenate str (not \"int\") to str"
     ]
    }
   ],
   "source": [
    "price=1200\n",
    "s=\"the price of this :\"\n",
    "print(s+price) # error ko solve krny ky lie price ko string ma convert krna ho ga"
   ]
  },
  {
   "cell_type": "code",
   "execution_count": 22,
   "id": "96994d80-cbe4-45b7-83ef-ee90d409a8cd",
   "metadata": {},
   "outputs": [
    {
     "name": "stdout",
     "output_type": "stream",
     "text": [
      "the price of this :1200\n"
     ]
    }
   ],
   "source": [
    "price=1200\n",
    "s=\"the price of this :\"\n",
    "print(s+ str(price))"
   ]
  },
  {
   "cell_type": "code",
   "execution_count": 25,
   "id": "26b66368-7078-479d-ae69-c62b1c15fbc2",
   "metadata": {},
   "outputs": [
    {
     "name": "stdout",
     "output_type": "stream",
     "text": [
      " this is line 1\n",
      "this is line 2\n",
      "this is line 3\n"
     ]
    }
   ],
   "source": [
    "a=\"\"\" this is line 1\n",
    "this is line 2\n",
    "this is line 3\"\"\"\n",
    "print(a)"
   ]
  },
  {
   "cell_type": "code",
   "execution_count": 27,
   "id": "85cff909-10d5-441d-bdac-36a878b895d7",
   "metadata": {},
   "outputs": [
    {
     "name": "stdout",
     "output_type": "stream",
     "text": [
      " The following options are available:\n",
      "            -a       : does nothing\n",
      "            -b       : also does nothing\n",
      "\n"
     ]
    }
   ],
   "source": [
    "print(\"\"\" The following options are available:\n",
    "            -a       : does nothing\n",
    "            -b       : also does nothing\n",
    "\"\"\")"
   ]
  },
  {
   "cell_type": "code",
   "execution_count": 38,
   "id": "d50ec26f-59c4-4ee9-821b-f0732d202ff5",
   "metadata": {},
   "outputs": [
    {
     "data": {
      "text/plain": [
       "'w'"
      ]
     },
     "execution_count": 38,
     "metadata": {},
     "output_type": "execute_result"
    }
   ],
   "source": [
    "s = \"How are you and who are you\"\n",
    "s2=s[2]\n",
    "s2"
   ]
  },
  {
   "cell_type": "code",
   "execution_count": 39,
   "id": "e53e24f3-7511-4d76-a231-6741451dee67",
   "metadata": {},
   "outputs": [
    {
     "data": {
      "text/plain": [
       "str"
      ]
     },
     "execution_count": 39,
     "metadata": {},
     "output_type": "execute_result"
    }
   ],
   "source": [
    "type(s2)"
   ]
  },
  {
   "cell_type": "code",
   "execution_count": 40,
   "id": "71f528ee-a0e6-4a55-957f-acff3509ccbd",
   "metadata": {},
   "outputs": [
    {
     "data": {
      "text/plain": [
       "'How are yo'"
      ]
     },
     "execution_count": 40,
     "metadata": {},
     "output_type": "execute_result"
    }
   ],
   "source": [
    "s[0:10]"
   ]
  },
  {
   "cell_type": "code",
   "execution_count": 41,
   "id": "9dc962ea-8141-49ff-9890-0cd6755d5c03",
   "metadata": {},
   "outputs": [
    {
     "data": {
      "text/plain": [
       "'u'"
      ]
     },
     "execution_count": 41,
     "metadata": {},
     "output_type": "execute_result"
    }
   ],
   "source": [
    "s[-1]"
   ]
  },
  {
   "cell_type": "code",
   "execution_count": 42,
   "id": "a6838a82-c968-478b-a60e-a0989a33f9ee",
   "metadata": {},
   "outputs": [
    {
     "data": {
      "text/plain": [
       "'ho are '"
      ]
     },
     "execution_count": 42,
     "metadata": {},
     "output_type": "execute_result"
    }
   ],
   "source": [
    "s[-10:-3]"
   ]
  },
  {
   "cell_type": "code",
   "execution_count": 44,
   "id": "9315d941-18ca-4888-96a2-9521ff80af46",
   "metadata": {},
   "outputs": [
    {
     "ename": "TypeError",
     "evalue": "'str' object does not support item assignment",
     "output_type": "error",
     "traceback": [
      "\u001b[1;31m---------------------------------------------------------------------------\u001b[0m",
      "\u001b[1;31mTypeError\u001b[0m                                 Traceback (most recent call last)",
      "Cell \u001b[1;32mIn[44], line 1\u001b[0m\n\u001b[1;32m----> 1\u001b[0m s[\u001b[38;5;241m1\u001b[39m]\u001b[38;5;241m=\u001b[39m\u001b[38;5;124m\"\u001b[39m\u001b[38;5;124me\u001b[39m\u001b[38;5;124m\"\u001b[39m\n",
      "\u001b[1;31mTypeError\u001b[0m: 'str' object does not support item assignment"
     ]
    }
   ],
   "source": [
    "s[1]=\"e\""
   ]
  },
  {
   "cell_type": "code",
   "execution_count": 45,
   "id": "a4c2446f-6661-4de3-ae96-8cd6d293bc34",
   "metadata": {},
   "outputs": [
    {
     "data": {
      "text/plain": [
       "'Hwaey'"
      ]
     },
     "execution_count": 45,
     "metadata": {},
     "output_type": "execute_result"
    }
   ],
   "source": [
    "s[0:10:2]"
   ]
  },
  {
   "cell_type": "code",
   "execution_count": 46,
   "id": "b58c792e-b849-4a23-97c5-be9b269ee65a",
   "metadata": {},
   "outputs": [
    {
     "data": {
      "text/plain": [
       "' are you and who are you'"
      ]
     },
     "execution_count": 46,
     "metadata": {},
     "output_type": "execute_result"
    }
   ],
   "source": [
    "s[3:]"
   ]
  },
  {
   "cell_type": "code",
   "execution_count": 47,
   "id": "e13325a2-b572-405d-b049-d0a64de7c00c",
   "metadata": {},
   "outputs": [
    {
     "data": {
      "text/plain": [
       "'How are you '"
      ]
     },
     "execution_count": 47,
     "metadata": {},
     "output_type": "execute_result"
    }
   ],
   "source": [
    "s[:12]"
   ]
  },
  {
   "cell_type": "code",
   "execution_count": 48,
   "id": "40821524-b479-4fef-ba88-c7778c81e8d5",
   "metadata": {},
   "outputs": [
    {
     "data": {
      "text/plain": [
       "'Hwaeyuadwoaeyu'"
      ]
     },
     "execution_count": 48,
     "metadata": {},
     "output_type": "execute_result"
    }
   ],
   "source": [
    "s[::2]"
   ]
  },
  {
   "cell_type": "code",
   "execution_count": 49,
   "id": "ccbf2202-f3c3-44b1-bc2e-6bd3beb99239",
   "metadata": {},
   "outputs": [
    {
     "data": {
      "text/plain": [
       "'uoy era ohw dna uoy era woH'"
      ]
     },
     "execution_count": 49,
     "metadata": {},
     "output_type": "execute_result"
    }
   ],
   "source": [
    "s[::-1]"
   ]
  },
  {
   "cell_type": "code",
   "execution_count": 51,
   "id": "0ce78041-0504-43ea-a0bb-538e996b26b9",
   "metadata": {},
   "outputs": [
    {
     "data": {
      "text/plain": [
       "31"
      ]
     },
     "execution_count": 51,
     "metadata": {},
     "output_type": "execute_result"
    }
   ],
   "source": [
    "a = \"    abc def     hgq asdfaf     \"\n",
    "len(a)"
   ]
  },
  {
   "cell_type": "code",
   "execution_count": 53,
   "id": "1e85e62a-865c-4aca-b15a-006fc3a42f31",
   "metadata": {},
   "outputs": [
    {
     "data": {
      "text/plain": [
       "'abc def     hgq asdfaf'"
      ]
     },
     "execution_count": 53,
     "metadata": {},
     "output_type": "execute_result"
    }
   ],
   "source": [
    "a1=a.strip() # original string change nahi ho ge\n",
    "a1"
   ]
  },
  {
   "cell_type": "code",
   "execution_count": 54,
   "id": "544485af-b9d9-472f-af77-2866031f1d9f",
   "metadata": {},
   "outputs": [
    {
     "data": {
      "text/plain": [
       "22"
      ]
     },
     "execution_count": 54,
     "metadata": {},
     "output_type": "execute_result"
    }
   ],
   "source": [
    "len(a1)"
   ]
  },
  {
   "cell_type": "code",
   "execution_count": 55,
   "id": "7d370eca-754d-4d12-a669-2997b9bd0eb5",
   "metadata": {},
   "outputs": [
    {
     "data": {
      "text/plain": [
       "31"
      ]
     },
     "execution_count": 55,
     "metadata": {},
     "output_type": "execute_result"
    }
   ],
   "source": [
    "len(a)"
   ]
  },
  {
   "cell_type": "code",
   "execution_count": 56,
   "id": "4e01b513-9e8a-40e3-89bc-92c1c49ed392",
   "metadata": {},
   "outputs": [
    {
     "data": {
      "text/plain": [
       "31"
      ]
     },
     "execution_count": 56,
     "metadata": {},
     "output_type": "execute_result"
    }
   ],
   "source": [
    "a.strip()\n",
    "len(a)"
   ]
  },
  {
   "cell_type": "code",
   "execution_count": 58,
   "id": "3b9692a1-93a5-44ad-bd22-fd6ef25d08b1",
   "metadata": {},
   "outputs": [
    {
     "data": {
      "text/plain": [
       "'    ABC DEF     HGQ ASDFAF     '"
      ]
     },
     "execution_count": 58,
     "metadata": {},
     "output_type": "execute_result"
    }
   ],
   "source": [
    "a.upper()# original string change nahi ho ge"
   ]
  },
  {
   "cell_type": "code",
   "execution_count": 60,
   "id": "c5290ea6-972b-4adb-8be4-543dcb29c4b7",
   "metadata": {},
   "outputs": [
    {
     "data": {
      "text/plain": [
       "'    abc def     hgq asdfaf     '"
      ]
     },
     "execution_count": 60,
     "metadata": {},
     "output_type": "execute_result"
    }
   ],
   "source": [
    "a"
   ]
  },
  {
   "cell_type": "code",
   "execution_count": 61,
   "id": "b2eb0aba-1b53-4b66-b2b4-5bb90a4ddc54",
   "metadata": {},
   "outputs": [
    {
     "data": {
      "text/plain": [
       "'    abc def     hgq asdfaf     '"
      ]
     },
     "execution_count": 61,
     "metadata": {},
     "output_type": "execute_result"
    }
   ],
   "source": [
    "a.lower() # original string change nahi ho ge"
   ]
  },
  {
   "cell_type": "code",
   "execution_count": 62,
   "id": "c15aca53-c7ad-44de-8dd3-0bb798018885",
   "metadata": {},
   "outputs": [
    {
     "data": {
      "text/plain": [
       "'    Wbc def     hgq WsdfWf     '"
      ]
     },
     "execution_count": 62,
     "metadata": {},
     "output_type": "execute_result"
    }
   ],
   "source": [
    "a.replace(\"a\" , \"W\") # original string change nahi ho ge"
   ]
  },
  {
   "cell_type": "code",
   "execution_count": 63,
   "id": "430f879f-2b3b-4a8b-89b2-31f2b0443d0b",
   "metadata": {},
   "outputs": [
    {
     "data": {
      "text/plain": [
       "'    abc def     hgq asdfaf     '"
      ]
     },
     "execution_count": 63,
     "metadata": {},
     "output_type": "execute_result"
    }
   ],
   "source": [
    "a"
   ]
  },
  {
   "cell_type": "code",
   "execution_count": 64,
   "id": "4e00c360-f0b9-4f80-811b-1e08e4b506c0",
   "metadata": {},
   "outputs": [
    {
     "data": {
      "text/plain": [
       "'    WBbc def     hgq WBsdfWBf     '"
      ]
     },
     "execution_count": 64,
     "metadata": {},
     "output_type": "execute_result"
    }
   ],
   "source": [
    "a.replace(\"a\" , \"WB\") # original string change nahi ho ge"
   ]
  },
  {
   "cell_type": "code",
   "execution_count": 66,
   "id": "560b2277-38eb-43b1-992a-694da9d5607a",
   "metadata": {},
   "outputs": [
    {
     "data": {
      "text/plain": [
       "['abc', 'def', 'hgydfa', 'yy23']"
      ]
     },
     "execution_count": 66,
     "metadata": {},
     "output_type": "execute_result"
    }
   ],
   "source": [
    "a = \"abc;def;hgydfa;yy23\"\n",
    "a.split(\";\")"
   ]
  },
  {
   "cell_type": "code",
   "execution_count": 67,
   "id": "579ee990-6601-4189-9abe-1e7b8b3e515e",
   "metadata": {},
   "outputs": [
    {
     "data": {
      "text/plain": [
       "'Hello World'"
      ]
     },
     "execution_count": 67,
     "metadata": {},
     "output_type": "execute_result"
    }
   ],
   "source": [
    "a=\"hello world\"\n",
    "a.title()"
   ]
  },
  {
   "cell_type": "code",
   "execution_count": 68,
   "id": "f0589bf7-ad8a-4f3b-8c6e-37dc91b09ace",
   "metadata": {},
   "outputs": [
    {
     "data": {
      "text/plain": [
       "'Hello world'"
      ]
     },
     "execution_count": 68,
     "metadata": {},
     "output_type": "execute_result"
    }
   ],
   "source": [
    "a.capitalize()"
   ]
  },
  {
   "cell_type": "code",
   "execution_count": 69,
   "id": "75523e4f-a753-4a2d-998f-45f96b5cc54f",
   "metadata": {},
   "outputs": [
    {
     "data": {
      "text/plain": [
       "2"
      ]
     },
     "execution_count": 69,
     "metadata": {},
     "output_type": "execute_result"
    }
   ],
   "source": [
    "a.find(\"l\")# return position of substring"
   ]
  },
  {
   "cell_type": "code",
   "execution_count": 72,
   "id": "237e5a6d-1e49-4e1f-9df9-99ffeb9c08ba",
   "metadata": {},
   "outputs": [
    {
     "data": {
      "text/plain": [
       "True"
      ]
     },
     "execution_count": 72,
     "metadata": {},
     "output_type": "execute_result"
    }
   ],
   "source": [
    "a.startswith(\"h\")"
   ]
  },
  {
   "cell_type": "code",
   "execution_count": 73,
   "id": "0307d19f-8c96-4c28-84fd-723ea774bd1f",
   "metadata": {},
   "outputs": [
    {
     "data": {
      "text/plain": [
       "False"
      ]
     },
     "execution_count": 73,
     "metadata": {},
     "output_type": "execute_result"
    }
   ],
   "source": [
    "a.endswith(\"h\")"
   ]
  },
  {
   "cell_type": "code",
   "execution_count": 78,
   "id": "158fbcaa-5e19-4167-9cf3-012acba4961c",
   "metadata": {},
   "outputs": [
    {
     "name": "stdout",
     "output_type": "stream",
     "text": [
      "python is awesome\n"
     ]
    }
   ],
   "source": [
    "words=[\"python\", \"is\" ,\"awesome\"]\n",
    "sentence=\" \".join(words)\n",
    "print(sentence)"
   ]
  },
  {
   "cell_type": "code",
   "execution_count": 82,
   "id": "505e1a52-d020-4a32-abb0-813412d803dd",
   "metadata": {},
   "outputs": [
    {
     "data": {
      "text/plain": [
       "'apple , banana , cherry'"
      ]
     },
     "execution_count": 82,
     "metadata": {},
     "output_type": "execute_result"
    }
   ],
   "source": [
    "words=[\"apple\", \"banana\" ,\"cherry\"]\n",
    "fruits=\" , \" .join(words)\n",
    "fruits"
   ]
  },
  {
   "cell_type": "code",
   "execution_count": 87,
   "id": "80c35115-b8b0-4a39-9fb3-1964a64900d4",
   "metadata": {},
   "outputs": [
    {
     "data": {
      "text/plain": [
       "2"
      ]
     },
     "execution_count": 87,
     "metadata": {},
     "output_type": "execute_result"
    }
   ],
   "source": [
    "a=\"aqsa123\"\n",
    "\n",
    "a.count(\"a\")"
   ]
  },
  {
   "cell_type": "code",
   "execution_count": 88,
   "id": "3c3d1bc9-95c8-4330-bda2-ebabf7a81334",
   "metadata": {},
   "outputs": [
    {
     "data": {
      "text/plain": [
       "0"
      ]
     },
     "execution_count": 88,
     "metadata": {},
     "output_type": "execute_result"
    }
   ],
   "source": [
    "a.index(\"a\")\n"
   ]
  },
  {
   "cell_type": "code",
   "execution_count": 89,
   "id": "33665d83-b6f5-4954-8e05-9adc289c2912",
   "metadata": {},
   "outputs": [
    {
     "data": {
      "text/plain": [
       "True"
      ]
     },
     "execution_count": 89,
     "metadata": {},
     "output_type": "execute_result"
    }
   ],
   "source": [
    "a.isalnum() # string sirf letters and digits pr based krta ha"
   ]
  },
  {
   "cell_type": "code",
   "execution_count": 90,
   "id": "d52238a8-b9c4-4f9f-b4ec-31b62af95b93",
   "metadata": {},
   "outputs": [
    {
     "data": {
      "text/plain": [
       "False"
      ]
     },
     "execution_count": 90,
     "metadata": {},
     "output_type": "execute_result"
    }
   ],
   "source": [
    "a.isalpha()# string sirf letters  pr based krta ha"
   ]
  },
  {
   "cell_type": "code",
   "execution_count": 92,
   "id": "c2e1ef04-9e1c-4007-b092-1cea4ed66e5f",
   "metadata": {},
   "outputs": [
    {
     "data": {
      "text/plain": [
       "False"
      ]
     },
     "execution_count": 92,
     "metadata": {},
     "output_type": "execute_result"
    }
   ],
   "source": [
    "a.isdigit() # string sirf digits pr based krta ha"
   ]
  },
  {
   "cell_type": "code",
   "execution_count": 94,
   "id": "df4f2b03-d07a-4216-818d-521e94822954",
   "metadata": {},
   "outputs": [
    {
     "data": {
      "text/plain": [
       "True"
      ]
     },
     "execution_count": 94,
     "metadata": {},
     "output_type": "execute_result"
    }
   ],
   "source": [
    "\"a\" in \"aqsa\""
   ]
  },
  {
   "cell_type": "code",
   "execution_count": 95,
   "id": "604a8cfb-e84d-4ed8-a50b-eed05898a837",
   "metadata": {},
   "outputs": [
    {
     "data": {
      "text/plain": [
       "True"
      ]
     },
     "execution_count": 95,
     "metadata": {},
     "output_type": "execute_result"
    }
   ],
   "source": [
    "\"ab\" < \"aqsa\"\n"
   ]
  },
  {
   "cell_type": "code",
   "execution_count": 96,
   "id": "b0d44a1c-e420-4ee0-a47e-a056e824c57b",
   "metadata": {},
   "outputs": [
    {
     "data": {
      "text/plain": [
       "False"
      ]
     },
     "execution_count": 96,
     "metadata": {},
     "output_type": "execute_result"
    }
   ],
   "source": [
    "\"xy\" < \"aqsa\""
   ]
  },
  {
   "cell_type": "code",
   "execution_count": 97,
   "id": "b7b40476-556c-4127-bff1-849ff2716ab4",
   "metadata": {},
   "outputs": [
    {
     "data": {
      "text/plain": [
       "True"
      ]
     },
     "execution_count": 97,
     "metadata": {},
     "output_type": "execute_result"
    }
   ],
   "source": [
    "\"$%\"<\"*&\""
   ]
  },
  {
   "cell_type": "code",
   "execution_count": 98,
   "id": "9fe6c666-0925-4ce3-897b-fe890a3d3477",
   "metadata": {},
   "outputs": [
    {
     "ename": "SyntaxError",
     "evalue": "invalid syntax. Perhaps you forgot a comma? (1756096802.py, line 1)",
     "output_type": "error",
     "traceback": [
      "\u001b[1;36m  Cell \u001b[1;32mIn[98], line 1\u001b[1;36m\u001b[0m\n\u001b[1;33m    print(\"we are learning\"string\"here\")\u001b[0m\n\u001b[1;37m          ^\u001b[0m\n\u001b[1;31mSyntaxError\u001b[0m\u001b[1;31m:\u001b[0m invalid syntax. Perhaps you forgot a comma?\n"
     ]
    }
   ],
   "source": [
    "print(\"we are learning\"string\"here\")"
   ]
  },
  {
   "cell_type": "code",
   "execution_count": 99,
   "id": "d5abbefd-8f4f-4756-8a93-f6b563d012b4",
   "metadata": {},
   "outputs": [
    {
     "name": "stdout",
     "output_type": "stream",
     "text": [
      "we are learning\"string\"here\n"
     ]
    }
   ],
   "source": [
    "print(\"we are learning\\\"string\\\"here\")"
   ]
  },
  {
   "cell_type": "code",
   "execution_count": 100,
   "id": "2ffe0bca-9f05-4b0c-8af7-befe8dbf1ccd",
   "metadata": {},
   "outputs": [
    {
     "name": "stdout",
     "output_type": "stream",
     "text": [
      "we are learning'string'here\n"
     ]
    }
   ],
   "source": [
    "print(\"we are learning'string'here\")"
   ]
  },
  {
   "cell_type": "code",
   "execution_count": 101,
   "id": "18a577c5-eb64-415e-bb46-1c97a07b6c0a",
   "metadata": {},
   "outputs": [
    {
     "name": "stdout",
     "output_type": "stream",
     "text": [
      "we are learning\"string\"here\n"
     ]
    }
   ],
   "source": [
    "print('we are learning\"string\"here')"
   ]
  },
  {
   "cell_type": "code",
   "execution_count": 102,
   "id": "34cd4a1d-d571-48e9-a691-e7a35aa172ac",
   "metadata": {},
   "outputs": [
    {
     "name": "stdout",
     "output_type": "stream",
     "text": [
      "we are  \t learning\"string\"here\n"
     ]
    }
   ],
   "source": [
    "print('we are  \\t learning\"string\"here')"
   ]
  },
  {
   "cell_type": "code",
   "execution_count": 103,
   "id": "ae8f2a8d-3c3e-42b9-9b14-c82fdf0de735",
   "metadata": {},
   "outputs": [
    {
     "name": "stdout",
     "output_type": "stream",
     "text": [
      "c:\n",
      "ame\\drive\n"
     ]
    },
    {
     "name": "stderr",
     "output_type": "stream",
     "text": [
      "<>:1: SyntaxWarning: invalid escape sequence '\\d'\n",
      "<>:1: SyntaxWarning: invalid escape sequence '\\d'\n",
      "C:\\Users\\GOODLUCK\\AppData\\Local\\Temp\\ipykernel_3256\\1646069977.py:1: SyntaxWarning: invalid escape sequence '\\d'\n",
      "  print(\"c:\\name\\drive\")\n"
     ]
    }
   ],
   "source": [
    "print(\"c:\\name\\drive\")"
   ]
  },
  {
   "cell_type": "code",
   "execution_count": 104,
   "id": "e8ce05d0-46a0-45dd-8dca-1e165fbbd4a6",
   "metadata": {},
   "outputs": [
    {
     "name": "stdout",
     "output_type": "stream",
     "text": [
      "c:\\name\\drive\n"
     ]
    }
   ],
   "source": [
    "print(r\"c:\\name\\drive\")"
   ]
  },
  {
   "cell_type": "markdown",
   "id": "0bd961c9-a466-41db-9199-424d5311c634",
   "metadata": {},
   "source": [
    "## ** Data Structure**"
   ]
  },
  {
   "cell_type": "code",
   "execution_count": 105,
   "id": "346683b3-f288-44ee-b38c-1f73f21b705a",
   "metadata": {},
   "outputs": [],
   "source": [
    "L=[1, \"game\" , 3.4]\n",
    "T=(1, \"game\" , 3.4)\n",
    "S={1, \"game\" , 3.4}\n",
    "D={23:\"throne\", \"ABC\":44, \"c\":\"Cc\"}"
   ]
  },
  {
   "cell_type": "code",
   "execution_count": 111,
   "id": "eaf498ec-1bb2-4b50-a53e-282b0fc0fb94",
   "metadata": {},
   "outputs": [
    {
     "name": "stdout",
     "output_type": "stream",
     "text": [
      "the type of L is : <class 'list'>\n",
      "the type of T is : <class 'tuple'>\n",
      "the type of S is : <class 'set'>\n",
      "the type of D is : <class 'dict'>\n"
     ]
    }
   ],
   "source": [
    "print(\"the type of L is :\" , type(L) )\n",
    "print(\"the type of T is :\"  , type(T) )\n",
    "print(\"the type of S is :\"  , type(S) )\n",
    "print(\"the type of D is :\" ,  type(D) )"
   ]
  },
  {
   "cell_type": "code",
   "execution_count": 118,
   "id": "00f77bc9-4ce3-4346-b00a-016e10fb6aa5",
   "metadata": {},
   "outputs": [
    {
     "name": "stdout",
     "output_type": "stream",
     "text": [
      "game\n",
      "3.4\n",
      "False\n",
      "True\n",
      "throne\n",
      "44\n"
     ]
    }
   ],
   "source": [
    "print(L[1])\n",
    "print(T[2])\n",
    "print(3 in S )\n",
    "print(3.4 in S )\n",
    "print(D[23])\n",
    "print(D['ABC'])"
   ]
  },
  {
   "cell_type": "code",
   "execution_count": 119,
   "id": "e4412e18-85c0-4f11-8f54-e4ccdd9b6d3b",
   "metadata": {},
   "outputs": [
    {
     "name": "stdout",
     "output_type": "stream",
     "text": [
      "[1, 'game', 3.4]\n"
     ]
    }
   ],
   "source": [
    "print(L)"
   ]
  },
  {
   "cell_type": "code",
   "execution_count": 122,
   "id": "07c87719-ba04-449b-98ff-dfad0f6e9b1c",
   "metadata": {},
   "outputs": [
    {
     "data": {
      "text/plain": [
       "['game']"
      ]
     },
     "execution_count": 122,
     "metadata": {},
     "output_type": "execute_result"
    }
   ],
   "source": [
    "L[1:2] #last wala count nahi hota"
   ]
  },
  {
   "cell_type": "code",
   "execution_count": 123,
   "id": "59a7287c-d86b-40a3-9f1a-bd23aaceebf0",
   "metadata": {},
   "outputs": [
    {
     "data": {
      "text/plain": [
       "[3.4, 'game', 1]"
      ]
     },
     "execution_count": 123,
     "metadata": {},
     "output_type": "execute_result"
    }
   ],
   "source": [
    "L[::-1]"
   ]
  },
  {
   "cell_type": "code",
   "execution_count": 124,
   "id": "7a835389-d5de-494b-b641-58fb5a313b9e",
   "metadata": {},
   "outputs": [],
   "source": [
    "L=L+[\"how\" , \"are\" , \"you\"]"
   ]
  },
  {
   "cell_type": "code",
   "execution_count": 125,
   "id": "abd06abd-f121-4e5a-8d81-6f7e822ea721",
   "metadata": {},
   "outputs": [
    {
     "data": {
      "text/plain": [
       "[1, 'game', 3.4, 'how', 'are', 'you']"
      ]
     },
     "execution_count": 125,
     "metadata": {},
     "output_type": "execute_result"
    }
   ],
   "source": [
    "L"
   ]
  },
  {
   "cell_type": "code",
   "execution_count": 126,
   "id": "13f50116-90e6-4137-84aa-e8a6b1b0a2f7",
   "metadata": {},
   "outputs": [],
   "source": [
    "L.append(6.8)"
   ]
  },
  {
   "cell_type": "code",
   "execution_count": 128,
   "id": "acf728c8-0af9-4759-8cf6-3fdaad9f36c6",
   "metadata": {},
   "outputs": [
    {
     "data": {
      "text/plain": [
       "[1, 'game', 3.4, 'how', 'are', 'you', 6.8]"
      ]
     },
     "execution_count": 128,
     "metadata": {},
     "output_type": "execute_result"
    }
   ],
   "source": [
    "L\n"
   ]
  },
  {
   "cell_type": "code",
   "execution_count": 129,
   "id": "121b2405-a0c0-4d6d-a125-6a4797697ef4",
   "metadata": {},
   "outputs": [
    {
     "data": {
      "text/plain": [
       "(1, 'game', 3.4)"
      ]
     },
     "execution_count": 129,
     "metadata": {},
     "output_type": "execute_result"
    }
   ],
   "source": [
    "T"
   ]
  },
  {
   "cell_type": "code",
   "execution_count": 130,
   "id": "9ea88808-104e-4da5-9785-9c8095ee8c9c",
   "metadata": {},
   "outputs": [
    {
     "ename": "TypeError",
     "evalue": "can only concatenate tuple (not \"list\") to tuple",
     "output_type": "error",
     "traceback": [
      "\u001b[1;31m---------------------------------------------------------------------------\u001b[0m",
      "\u001b[1;31mTypeError\u001b[0m                                 Traceback (most recent call last)",
      "Cell \u001b[1;32mIn[130], line 1\u001b[0m\n\u001b[1;32m----> 1\u001b[0m T\u001b[38;5;241m=\u001b[39mT\u001b[38;5;241m+\u001b[39m[\u001b[38;5;124m\"\u001b[39m\u001b[38;5;124mhow\u001b[39m\u001b[38;5;124m\"\u001b[39m , \u001b[38;5;124m\"\u001b[39m\u001b[38;5;124mare\u001b[39m\u001b[38;5;124m\"\u001b[39m , \u001b[38;5;124m\"\u001b[39m\u001b[38;5;124myou\u001b[39m\u001b[38;5;124m\"\u001b[39m]\n",
      "\u001b[1;31mTypeError\u001b[0m: can only concatenate tuple (not \"list\") to tuple"
     ]
    }
   ],
   "source": [
    "T=T+[\"how\" , \"are\" , \"you\"] # error because its unchangable"
   ]
  },
  {
   "cell_type": "code",
   "execution_count": 131,
   "id": "15e00a66-54bf-496e-80a0-ccc291d622de",
   "metadata": {},
   "outputs": [
    {
     "data": {
      "text/plain": [
       "[1, 2, 3, 'how', 'are', 'you']"
      ]
     },
     "execution_count": 131,
     "metadata": {},
     "output_type": "execute_result"
    }
   ],
   "source": [
    "T1=[1,2,3]\n",
    "T2=[\"how\" , \"are\" , \"you\"]\n",
    "T3=T1+T2\n",
    "T3"
   ]
  },
  {
   "cell_type": "code",
   "execution_count": 132,
   "id": "b46c58d9-96b8-44c9-8708-21de0d7b27e1",
   "metadata": {},
   "outputs": [
    {
     "ename": "TypeError",
     "evalue": "unsupported operand type(s) for +: 'set' and 'list'",
     "output_type": "error",
     "traceback": [
      "\u001b[1;31m---------------------------------------------------------------------------\u001b[0m",
      "\u001b[1;31mTypeError\u001b[0m                                 Traceback (most recent call last)",
      "Cell \u001b[1;32mIn[132], line 1\u001b[0m\n\u001b[1;32m----> 1\u001b[0m S\u001b[38;5;241m=\u001b[39mS\u001b[38;5;241m+\u001b[39m[\u001b[38;5;124m\"\u001b[39m\u001b[38;5;124mhow\u001b[39m\u001b[38;5;124m\"\u001b[39m , \u001b[38;5;124m\"\u001b[39m\u001b[38;5;124mare\u001b[39m\u001b[38;5;124m\"\u001b[39m , \u001b[38;5;124m\"\u001b[39m\u001b[38;5;124myou\u001b[39m\u001b[38;5;124m\"\u001b[39m]\n",
      "\u001b[1;31mTypeError\u001b[0m: unsupported operand type(s) for +: 'set' and 'list'"
     ]
    }
   ],
   "source": [
    "S=S+[\"how\" , \"are\" , \"you\"] \n",
    "'''set is mutable but the elements inside the set is immutable you can add , remove , update \n",
    "the set but using set methods'''"
   ]
  },
  {
   "cell_type": "code",
   "execution_count": 133,
   "id": "6045b44f-ca3d-4f38-8968-57b6046cf355",
   "metadata": {},
   "outputs": [],
   "source": [
    "S.add(56) # add a single value"
   ]
  },
  {
   "cell_type": "code",
   "execution_count": 134,
   "id": "17b3b2b6-c2d0-4887-970d-ac65033c2851",
   "metadata": {},
   "outputs": [
    {
     "data": {
      "text/plain": [
       "{1, 3.4, 56, 'game'}"
      ]
     },
     "execution_count": 134,
     "metadata": {},
     "output_type": "execute_result"
    }
   ],
   "source": [
    "S"
   ]
  },
  {
   "cell_type": "code",
   "execution_count": 136,
   "id": "d7c87ac6-993e-47af-ba37-ec4ffcb93b6a",
   "metadata": {},
   "outputs": [],
   "source": [
    "S.update({\"how\" , \"are\" , \"you\"}) # add multiple value"
   ]
  },
  {
   "cell_type": "code",
   "execution_count": 137,
   "id": "ab460fd7-5f59-4bc3-ab3c-957ebe41b5b3",
   "metadata": {},
   "outputs": [
    {
     "data": {
      "text/plain": [
       "{1, 3.4, 56, 'are', 'game', 'how', 'you'}"
      ]
     },
     "execution_count": 137,
     "metadata": {},
     "output_type": "execute_result"
    }
   ],
   "source": [
    "S"
   ]
  },
  {
   "cell_type": "code",
   "execution_count": 138,
   "id": "058613ff-6dcc-4e54-af0c-d899d414dc71",
   "metadata": {},
   "outputs": [
    {
     "data": {
      "text/plain": [
       "{23: 'throne', 'ABC': 44, 'c': 'Cc'}"
      ]
     },
     "execution_count": 138,
     "metadata": {},
     "output_type": "execute_result"
    }
   ],
   "source": [
    "D"
   ]
  },
  {
   "cell_type": "code",
   "execution_count": 158,
   "id": "2764b091-0fdc-4d99-a5de-706d267e19fb",
   "metadata": {},
   "outputs": [
    {
     "ename": "TypeError",
     "evalue": "unsupported operand type(s) for +: 'dict' and 'dict'",
     "output_type": "error",
     "traceback": [
      "\u001b[1;31m---------------------------------------------------------------------------\u001b[0m",
      "\u001b[1;31mTypeError\u001b[0m                                 Traceback (most recent call last)",
      "Cell \u001b[1;32mIn[158], line 2\u001b[0m\n\u001b[0;32m      1\u001b[0m D1\u001b[38;5;241m=\u001b[39m{ \u001b[38;5;124m\"\u001b[39m\u001b[38;5;124maa\u001b[39m\u001b[38;5;124m\"\u001b[39m:\u001b[38;5;241m33\u001b[39m}\n\u001b[1;32m----> 2\u001b[0m D2\u001b[38;5;241m=\u001b[39mD\u001b[38;5;241m+\u001b[39mD1\n",
      "\u001b[1;31mTypeError\u001b[0m: unsupported operand type(s) for +: 'dict' and 'dict'"
     ]
    }
   ],
   "source": [
    "D1={ \"aa\":33}\n",
    "D2=D+D1"
   ]
  },
  {
   "cell_type": "code",
   "execution_count": 145,
   "id": "f1ed4233-2aec-4c86-bf9a-19f1b37f7b29",
   "metadata": {},
   "outputs": [],
   "source": [
    "D[\"new Key\"]=\"new Value\"\n"
   ]
  },
  {
   "cell_type": "code",
   "execution_count": 149,
   "id": "a4946ac1-e5b5-4727-800c-b7b39fd53774",
   "metadata": {},
   "outputs": [
    {
     "data": {
      "text/plain": [
       "{23: 'throne', 'ABC': 44, 'c': 2, 'new Key': 'new Value', 3: 3.9}"
      ]
     },
     "execution_count": 149,
     "metadata": {},
     "output_type": "execute_result"
    }
   ],
   "source": [
    "D"
   ]
  },
  {
   "cell_type": "code",
   "execution_count": 143,
   "id": "d2950add-694e-4e0f-988b-500bac2b1d87",
   "metadata": {},
   "outputs": [],
   "source": [
    "D.update({'c':2 , 3:3.9})"
   ]
  },
  {
   "cell_type": "code",
   "execution_count": 150,
   "id": "4ab58312-898d-422b-98a0-e8177dbd2834",
   "metadata": {},
   "outputs": [
    {
     "data": {
      "text/plain": [
       "{23: 'throne', 'ABC': 44, 'c': 2, 'new Key': 'new Value', 3: 3.9}"
      ]
     },
     "execution_count": 150,
     "metadata": {},
     "output_type": "execute_result"
    }
   ],
   "source": [
    "D"
   ]
  },
  {
   "cell_type": "code",
   "execution_count": 147,
   "id": "7fc580dc-1853-4ad7-8865-a68e987aa1b4",
   "metadata": {},
   "outputs": [],
   "source": [
    "del D[('new Key', 'another Key')]"
   ]
  },
  {
   "cell_type": "code",
   "execution_count": 148,
   "id": "75c5c689-f6ab-4b68-9958-d2118483a597",
   "metadata": {},
   "outputs": [
    {
     "data": {
      "text/plain": [
       "{23: 'throne', 'ABC': 44, 'c': 2, 'new Key': 'new Value', 3: 3.9}"
      ]
     },
     "execution_count": 148,
     "metadata": {},
     "output_type": "execute_result"
    }
   ],
   "source": [
    "D"
   ]
  },
  {
   "cell_type": "code",
   "execution_count": 194,
   "id": "5320d810-ceb9-4f85-8af6-23225d1a0cf5",
   "metadata": {},
   "outputs": [
    {
     "data": {
      "text/plain": [
       "True"
      ]
     },
     "execution_count": 194,
     "metadata": {},
     "output_type": "execute_result"
    }
   ],
   "source": [
    "23 in D"
   ]
  },
  {
   "cell_type": "code",
   "execution_count": 195,
   "id": "a3ec12dd-70fb-4548-a51f-e66beb2a2cfb",
   "metadata": {},
   "outputs": [
    {
     "data": {
      "text/plain": [
       "False"
      ]
     },
     "execution_count": 195,
     "metadata": {},
     "output_type": "execute_result"
    }
   ],
   "source": [
    "33 in D"
   ]
  },
  {
   "cell_type": "code",
   "execution_count": 151,
   "id": "2f16dd85-e042-4284-8be8-8e32f194c0f5",
   "metadata": {},
   "outputs": [
    {
     "data": {
      "text/plain": [
       "[1, 'game', 3.4, 'how', 'are', 'you', 6.8]"
      ]
     },
     "execution_count": 151,
     "metadata": {},
     "output_type": "execute_result"
    }
   ],
   "source": [
    "L"
   ]
  },
  {
   "cell_type": "code",
   "execution_count": 152,
   "id": "2200c3e3-65a4-4426-8041-ca3e42da7586",
   "metadata": {},
   "outputs": [],
   "source": [
    "del L[3]"
   ]
  },
  {
   "cell_type": "code",
   "execution_count": 153,
   "id": "8cfa7091-12b1-4ff4-a57b-425b769b8d8f",
   "metadata": {},
   "outputs": [
    {
     "data": {
      "text/plain": [
       "[1, 'game', 3.4, 'are', 'you', 6.8]"
      ]
     },
     "execution_count": 153,
     "metadata": {},
     "output_type": "execute_result"
    }
   ],
   "source": [
    "L\n"
   ]
  },
  {
   "cell_type": "code",
   "execution_count": 154,
   "id": "1a657ec2-816b-4b0e-ae86-1182c94d13dc",
   "metadata": {},
   "outputs": [
    {
     "data": {
      "text/plain": [
       "{1, 3.4, 56, 'are', 'game', 'how', 'you'}"
      ]
     },
     "execution_count": 154,
     "metadata": {},
     "output_type": "execute_result"
    }
   ],
   "source": [
    "S\n"
   ]
  },
  {
   "cell_type": "code",
   "execution_count": 155,
   "id": "30e1a759-81c5-40b5-b621-89eaee460936",
   "metadata": {},
   "outputs": [
    {
     "ename": "TypeError",
     "evalue": "'set' object doesn't support item deletion",
     "output_type": "error",
     "traceback": [
      "\u001b[1;31m---------------------------------------------------------------------------\u001b[0m",
      "\u001b[1;31mTypeError\u001b[0m                                 Traceback (most recent call last)",
      "Cell \u001b[1;32mIn[155], line 1\u001b[0m\n\u001b[1;32m----> 1\u001b[0m \u001b[38;5;28;01mdel\u001b[39;00m S[\u001b[38;5;241m3\u001b[39m]\n",
      "\u001b[1;31mTypeError\u001b[0m: 'set' object doesn't support item deletion"
     ]
    }
   ],
   "source": [
    "del S[3]"
   ]
  },
  {
   "cell_type": "code",
   "execution_count": 156,
   "id": "e06efddd-54f9-4d06-bc61-c5d66de852cb",
   "metadata": {},
   "outputs": [],
   "source": [
    "S.remove(3.4)"
   ]
  },
  {
   "cell_type": "code",
   "execution_count": 157,
   "id": "22dc7838-c9ce-4d6e-bafd-a98e190b835f",
   "metadata": {},
   "outputs": [
    {
     "data": {
      "text/plain": [
       "{1, 56, 'are', 'game', 'how', 'you'}"
      ]
     },
     "execution_count": 157,
     "metadata": {},
     "output_type": "execute_result"
    }
   ],
   "source": [
    "S"
   ]
  },
  {
   "cell_type": "code",
   "execution_count": 159,
   "id": "846a92f6-4f49-497f-9071-f19f6451da78",
   "metadata": {},
   "outputs": [
    {
     "data": {
      "text/plain": [
       "[1, 'game', 3.4, 'are', 'you', 6.8]"
      ]
     },
     "execution_count": 159,
     "metadata": {},
     "output_type": "execute_result"
    }
   ],
   "source": [
    "L\n"
   ]
  },
  {
   "cell_type": "code",
   "execution_count": 160,
   "id": "fadecaad-98ee-4629-9f04-249796ca7b65",
   "metadata": {},
   "outputs": [],
   "source": [
    "L3=L[1:3]"
   ]
  },
  {
   "cell_type": "code",
   "execution_count": 161,
   "id": "6846a37f-cf17-47c7-b418-2dbce3792075",
   "metadata": {},
   "outputs": [
    {
     "data": {
      "text/plain": [
       "['game', 3.4]"
      ]
     },
     "execution_count": 161,
     "metadata": {},
     "output_type": "execute_result"
    }
   ],
   "source": [
    "L3"
   ]
  },
  {
   "cell_type": "code",
   "execution_count": 162,
   "id": "606727da-179c-4587-bfa1-0585f114e8fc",
   "metadata": {},
   "outputs": [],
   "source": [
    "L3[0]=\"hhh\"\n"
   ]
  },
  {
   "cell_type": "code",
   "execution_count": 163,
   "id": "c075994b-4568-44c6-8b42-edf17566ba47",
   "metadata": {},
   "outputs": [
    {
     "data": {
      "text/plain": [
       "['hhh', 3.4]"
      ]
     },
     "execution_count": 163,
     "metadata": {},
     "output_type": "execute_result"
    }
   ],
   "source": [
    "L3"
   ]
  },
  {
   "cell_type": "code",
   "execution_count": 165,
   "id": "270ab9f1-d265-427f-bb38-9c6bc85dc17b",
   "metadata": {},
   "outputs": [
    {
     "data": {
      "text/plain": [
       "[1, 'game', 3.4, 'are', 'you', 6.8]"
      ]
     },
     "execution_count": 165,
     "metadata": {},
     "output_type": "execute_result"
    }
   ],
   "source": [
    "L"
   ]
  },
  {
   "cell_type": "code",
   "execution_count": 166,
   "id": "ebd3d334-d25b-4a78-bb66-3a6295766977",
   "metadata": {},
   "outputs": [],
   "source": [
    "L.reverse()"
   ]
  },
  {
   "cell_type": "code",
   "execution_count": 167,
   "id": "1991c2b7-fd2b-4f60-9598-cbfb86a3a084",
   "metadata": {},
   "outputs": [
    {
     "data": {
      "text/plain": [
       "[6.8, 'you', 'are', 3.4, 'game', 1]"
      ]
     },
     "execution_count": 167,
     "metadata": {},
     "output_type": "execute_result"
    }
   ],
   "source": [
    "L\n"
   ]
  },
  {
   "cell_type": "code",
   "execution_count": 168,
   "id": "2ab33dde-1cdd-405a-8291-f8d8bcfb2b3e",
   "metadata": {},
   "outputs": [
    {
     "data": {
      "text/plain": [
       "dict_items([(23, 'throne'), ('ABC', 44), ('c', 2), ('new Key', 'new Value'), (3, 3.9)])"
      ]
     },
     "execution_count": 168,
     "metadata": {},
     "output_type": "execute_result"
    }
   ],
   "source": [
    "D.items()"
   ]
  },
  {
   "cell_type": "code",
   "execution_count": 171,
   "id": "d3046c46-44ea-496a-91ff-95362ece32fc",
   "metadata": {},
   "outputs": [
    {
     "name": "stdout",
     "output_type": "stream",
     "text": [
      "[6.8, 'you', 'are', 3.4, 'game', 1] \n",
      " (1, 'game', 3.4) \n",
      " {1, 'game', 56, 'how', 'you', 'are'} \n",
      " {23: 'throne', 'ABC': 44, 'c': 2, 'new Key': 'new Value', 3: 3.9}\n"
     ]
    }
   ],
   "source": [
    "print( L ,\"\\n\" , T ,\"\\n\" , S ,\"\\n\" , D)"
   ]
  },
  {
   "cell_type": "code",
   "execution_count": 176,
   "id": "9df7c913-e783-494f-b9fe-f84975cd2cc3",
   "metadata": {},
   "outputs": [],
   "source": [
    "D2={'A':L , 'B':T , 'C': S , 'D': D}"
   ]
  },
  {
   "cell_type": "code",
   "execution_count": 173,
   "id": "74aa6e01-72ea-4a0b-8e68-667bb33a1786",
   "metadata": {},
   "outputs": [
    {
     "data": {
      "text/plain": [
       "3.4"
      ]
     },
     "execution_count": 173,
     "metadata": {},
     "output_type": "execute_result"
    }
   ],
   "source": [
    "D2['A'][3]"
   ]
  },
  {
   "cell_type": "code",
   "execution_count": 179,
   "id": "3bb55594-fc3a-48a5-9946-52c0367c55cb",
   "metadata": {},
   "outputs": [
    {
     "data": {
      "text/plain": [
       "1"
      ]
     },
     "execution_count": 179,
     "metadata": {},
     "output_type": "execute_result"
    }
   ],
   "source": [
    "D2['B'][0]"
   ]
  },
  {
   "cell_type": "code",
   "execution_count": 180,
   "id": "e79a6c42-5c65-43c1-8421-f60634e25a72",
   "metadata": {},
   "outputs": [
    {
     "ename": "TypeError",
     "evalue": "'set' object is not subscriptable",
     "output_type": "error",
     "traceback": [
      "\u001b[1;31m---------------------------------------------------------------------------\u001b[0m",
      "\u001b[1;31mTypeError\u001b[0m                                 Traceback (most recent call last)",
      "Cell \u001b[1;32mIn[180], line 1\u001b[0m\n\u001b[1;32m----> 1\u001b[0m D2[\u001b[38;5;124m'\u001b[39m\u001b[38;5;124mC\u001b[39m\u001b[38;5;124m'\u001b[39m][\u001b[38;5;241m3\u001b[39m]\n",
      "\u001b[1;31mTypeError\u001b[0m: 'set' object is not subscriptable"
     ]
    }
   ],
   "source": [
    "D2['C'][3]"
   ]
  },
  {
   "cell_type": "code",
   "execution_count": 183,
   "id": "2365e58c-a0fc-4875-9f13-85376e1cd264",
   "metadata": {},
   "outputs": [
    {
     "data": {
      "text/plain": [
       "'throne'"
      ]
     },
     "execution_count": 183,
     "metadata": {},
     "output_type": "execute_result"
    }
   ],
   "source": [
    "D2['D'][23]"
   ]
  },
  {
   "cell_type": "code",
   "execution_count": 184,
   "id": "88a8876a-43ad-40cd-ad59-e6c128bf2a1f",
   "metadata": {},
   "outputs": [],
   "source": [
    "K=D2['D']"
   ]
  },
  {
   "cell_type": "code",
   "execution_count": 185,
   "id": "0c8b6ad2-cac7-4f23-8601-e545e76fa0ad",
   "metadata": {},
   "outputs": [
    {
     "name": "stdout",
     "output_type": "stream",
     "text": [
      "23 throne\n",
      "ABC 44\n",
      "c 2\n",
      "new Key new Value\n",
      "3 3.9\n"
     ]
    }
   ],
   "source": [
    "for i in K:\n",
    "    print(i , K[i])"
   ]
  },
  {
   "cell_type": "code",
   "execution_count": 186,
   "id": "b2e25190-2e58-4367-9f16-8a1da05c3926",
   "metadata": {},
   "outputs": [],
   "source": [
    "K=D2['A']"
   ]
  },
  {
   "cell_type": "code",
   "execution_count": 187,
   "id": "588ce89e-1228-488e-81d4-8c80da7ddc78",
   "metadata": {},
   "outputs": [
    {
     "name": "stdout",
     "output_type": "stream",
     "text": [
      "6.8\n",
      "you\n",
      "are\n",
      "3.4\n",
      "game\n",
      "1\n"
     ]
    }
   ],
   "source": [
    "for i in K:\n",
    "    print(i)"
   ]
  },
  {
   "cell_type": "code",
   "execution_count": 188,
   "id": "8cf7dfcf-e691-41f7-8c67-76b2c0c5dfe7",
   "metadata": {},
   "outputs": [],
   "source": [
    "K=D2['B']"
   ]
  },
  {
   "cell_type": "code",
   "execution_count": 189,
   "id": "73bb24e6-b592-41d4-8b63-bb62d2de08d7",
   "metadata": {},
   "outputs": [
    {
     "name": "stdout",
     "output_type": "stream",
     "text": [
      "1\n",
      "game\n",
      "3.4\n"
     ]
    }
   ],
   "source": [
    "for i in K:\n",
    "    print(i)"
   ]
  },
  {
   "cell_type": "code",
   "execution_count": 190,
   "id": "f1eff35f-1bc7-4a40-81e1-e9e55a687161",
   "metadata": {},
   "outputs": [],
   "source": [
    "K=D2['C']"
   ]
  },
  {
   "cell_type": "code",
   "execution_count": 191,
   "id": "43d5da5d-18f4-4586-a297-08524985c3b3",
   "metadata": {},
   "outputs": [
    {
     "name": "stdout",
     "output_type": "stream",
     "text": [
      "1\n",
      "game\n",
      "56\n",
      "how\n",
      "you\n",
      "are\n"
     ]
    }
   ],
   "source": [
    "for i in K:\n",
    "    print(i)"
   ]
  },
  {
   "cell_type": "code",
   "execution_count": 192,
   "id": "1b982463-9243-444c-8721-b046af4ff906",
   "metadata": {},
   "outputs": [],
   "source": [
    "L1=[x**2 for x in range(10)]"
   ]
  },
  {
   "cell_type": "code",
   "execution_count": 193,
   "id": "456e099c-e771-4ab7-ab7d-b63593e56c8a",
   "metadata": {},
   "outputs": [
    {
     "data": {
      "text/plain": [
       "[0, 1, 4, 9, 16, 25, 36, 49, 64, 81]"
      ]
     },
     "execution_count": 193,
     "metadata": {},
     "output_type": "execute_result"
    }
   ],
   "source": [
    "L1"
   ]
  },
  {
   "cell_type": "markdown",
   "id": "84b50709-ca3f-4fd1-aaad-0139bb1329ec",
   "metadata": {},
   "source": [
    "## **List Function**"
   ]
  },
  {
   "cell_type": "code",
   "execution_count": 23,
   "id": "e056a056-946f-4e12-a166-4a10808ab209",
   "metadata": {},
   "outputs": [
    {
     "data": {
      "text/plain": [
       "[1, 2, 3, 4, 5, 6, 7]"
      ]
     },
     "execution_count": 23,
     "metadata": {},
     "output_type": "execute_result"
    }
   ],
   "source": [
    "l=[1,2,3,4,5,6,7]\n",
    "l"
   ]
  },
  {
   "cell_type": "code",
   "execution_count": 24,
   "id": "d0cac0a2-9ee0-4814-8065-a002d84497e4",
   "metadata": {},
   "outputs": [],
   "source": [
    "l.append(8)"
   ]
  },
  {
   "cell_type": "code",
   "execution_count": 25,
   "id": "b94927de-8c3c-40ed-b73e-f3b9bb6d0e01",
   "metadata": {},
   "outputs": [
    {
     "data": {
      "text/plain": [
       "[1, 2, 3, 4, 5, 6, 7, 8]"
      ]
     },
     "execution_count": 25,
     "metadata": {},
     "output_type": "execute_result"
    }
   ],
   "source": [
    "l"
   ]
  },
  {
   "cell_type": "code",
   "execution_count": 26,
   "id": "d6966a58-d9c9-42b8-b647-530054081423",
   "metadata": {},
   "outputs": [
    {
     "data": {
      "text/plain": [
       "[0, 3, 1, 2, 3, 4, 5, 6, 7, 8]"
      ]
     },
     "execution_count": 26,
     "metadata": {},
     "output_type": "execute_result"
    }
   ],
   "source": [
    "l.insert(0,0) #phly index pir value\n",
    "l.insert(1,3)\n",
    "l"
   ]
  },
  {
   "cell_type": "code",
   "execution_count": 27,
   "id": "694f56b6-2c8c-4471-a23c-1afddd359d38",
   "metadata": {},
   "outputs": [],
   "source": [
    "l.remove(3)"
   ]
  },
  {
   "cell_type": "code",
   "execution_count": 28,
   "id": "87c191d0-e10b-4db1-90ab-39192826b1d9",
   "metadata": {},
   "outputs": [
    {
     "data": {
      "text/plain": [
       "[0, 1, 2, 3, 4, 5, 6, 7, 8]"
      ]
     },
     "execution_count": 28,
     "metadata": {},
     "output_type": "execute_result"
    }
   ],
   "source": [
    "l"
   ]
  },
  {
   "cell_type": "code",
   "execution_count": 29,
   "id": "57a2be77-8dd5-40b2-b19d-6f631f494e1d",
   "metadata": {},
   "outputs": [],
   "source": [
    "l.reverse()"
   ]
  },
  {
   "cell_type": "code",
   "execution_count": 30,
   "id": "394163c5-f419-4c79-8740-543f6d082739",
   "metadata": {},
   "outputs": [
    {
     "data": {
      "text/plain": [
       "[8, 7, 6, 5, 4, 3, 2, 1, 0]"
      ]
     },
     "execution_count": 30,
     "metadata": {},
     "output_type": "execute_result"
    }
   ],
   "source": [
    "l"
   ]
  },
  {
   "cell_type": "code",
   "execution_count": 31,
   "id": "d74bfe58-4604-4382-8dde-9c0e85fc57c3",
   "metadata": {},
   "outputs": [],
   "source": [
    "l.sort()"
   ]
  },
  {
   "cell_type": "code",
   "execution_count": 32,
   "id": "51d9775f-9e3b-4ec7-afaa-9a9eb12acaea",
   "metadata": {},
   "outputs": [
    {
     "data": {
      "text/plain": [
       "[0, 1, 2, 3, 4, 5, 6, 7, 8]"
      ]
     },
     "execution_count": 32,
     "metadata": {},
     "output_type": "execute_result"
    }
   ],
   "source": [
    "l"
   ]
  },
  {
   "cell_type": "code",
   "execution_count": 34,
   "id": "2775ae04-00ad-4218-b3f3-35d37ee4a377",
   "metadata": {},
   "outputs": [
    {
     "data": {
      "text/plain": [
       "3"
      ]
     },
     "execution_count": 34,
     "metadata": {},
     "output_type": "execute_result"
    }
   ],
   "source": [
    "l.index(3)#index of first occurrence"
   ]
  },
  {
   "cell_type": "code",
   "execution_count": 36,
   "id": "2a7dc431-38cd-4c05-9e9f-f8a6ad7d8c39",
   "metadata": {},
   "outputs": [
    {
     "data": {
      "text/plain": [
       "1"
      ]
     },
     "execution_count": 36,
     "metadata": {},
     "output_type": "execute_result"
    }
   ],
   "source": [
    "l.count(4)"
   ]
  },
  {
   "cell_type": "code",
   "execution_count": 37,
   "id": "1bf164cd-533e-4dc5-9579-768b125be93a",
   "metadata": {},
   "outputs": [],
   "source": [
    "l.insert(0,4)"
   ]
  },
  {
   "cell_type": "code",
   "execution_count": 38,
   "id": "6219cc92-33f6-4399-b71c-691ad9a4a041",
   "metadata": {},
   "outputs": [
    {
     "data": {
      "text/plain": [
       "2"
      ]
     },
     "execution_count": 38,
     "metadata": {},
     "output_type": "execute_result"
    }
   ],
   "source": [
    "l.count(4)"
   ]
  },
  {
   "cell_type": "code",
   "execution_count": 39,
   "id": "0c76c94e-1167-4c78-9257-41e77e23c05e",
   "metadata": {},
   "outputs": [
    {
     "data": {
      "text/plain": [
       "[4, 0, 1, 2, 3, 4, 5, 6, 7, 8]"
      ]
     },
     "execution_count": 39,
     "metadata": {},
     "output_type": "execute_result"
    }
   ],
   "source": [
    "l"
   ]
  },
  {
   "cell_type": "code",
   "execution_count": 40,
   "id": "e5cee65a-dad9-4e57-ae29-25d23eb3fcb8",
   "metadata": {},
   "outputs": [],
   "source": [
    "l.remove(4)# remove first occurence"
   ]
  },
  {
   "cell_type": "code",
   "execution_count": 41,
   "id": "e1fb064e-3bb2-4a42-a330-ba886fc0edb0",
   "metadata": {},
   "outputs": [
    {
     "data": {
      "text/plain": [
       "[0, 1, 2, 3, 4, 5, 6, 7, 8]"
      ]
     },
     "execution_count": 41,
     "metadata": {},
     "output_type": "execute_result"
    }
   ],
   "source": [
    "l"
   ]
  },
  {
   "cell_type": "code",
   "execution_count": 42,
   "id": "6b5844e8-645e-4e98-9ddc-fd1e0def41bc",
   "metadata": {},
   "outputs": [
    {
     "data": {
      "text/plain": [
       "[4, 0, 1, 2, 3, 4, 5, 6, 7, 8]"
      ]
     },
     "execution_count": 42,
     "metadata": {},
     "output_type": "execute_result"
    }
   ],
   "source": [
    "l.insert(0,4)\n",
    "l"
   ]
  },
  {
   "cell_type": "code",
   "execution_count": 44,
   "id": "2d74c3a5-d7c1-4a7a-949a-4f9242c35594",
   "metadata": {},
   "outputs": [
    {
     "data": {
      "text/plain": [
       "4"
      ]
     },
     "execution_count": 44,
     "metadata": {},
     "output_type": "execute_result"
    }
   ],
   "source": [
    "l.pop(4)# remove item at last index (default last)\n"
   ]
  },
  {
   "cell_type": "code",
   "execution_count": 45,
   "id": "5ad51b2f-d5e0-48ec-8395-7ce47d3d8ded",
   "metadata": {},
   "outputs": [
    {
     "data": {
      "text/plain": [
       "[4, 0, 1, 2, 5, 6, 7, 8]"
      ]
     },
     "execution_count": 45,
     "metadata": {},
     "output_type": "execute_result"
    }
   ],
   "source": [
    "l"
   ]
  },
  {
   "cell_type": "code",
   "execution_count": 46,
   "id": "8f493267-1126-4474-82df-beac3e1723f3",
   "metadata": {},
   "outputs": [],
   "source": [
    "l.clear() # remove all elements"
   ]
  },
  {
   "cell_type": "code",
   "execution_count": 47,
   "id": "c273e308-4eaa-441b-936b-c9ab3b4af818",
   "metadata": {},
   "outputs": [
    {
     "data": {
      "text/plain": [
       "[]"
      ]
     },
     "execution_count": 47,
     "metadata": {},
     "output_type": "execute_result"
    }
   ],
   "source": [
    "l"
   ]
  },
  {
   "cell_type": "code",
   "execution_count": 48,
   "id": "5a2bf417-49b7-463e-bfc0-5689f58ecd6a",
   "metadata": {},
   "outputs": [
    {
     "ename": "TypeError",
     "evalue": "list.extend() takes exactly one argument (5 given)",
     "output_type": "error",
     "traceback": [
      "\u001b[1;31m---------------------------------------------------------------------------\u001b[0m",
      "\u001b[1;31mTypeError\u001b[0m                                 Traceback (most recent call last)",
      "Cell \u001b[1;32mIn[48], line 1\u001b[0m\n\u001b[1;32m----> 1\u001b[0m l\u001b[38;5;241m.\u001b[39mextend(\u001b[38;5;241m1\u001b[39m,\u001b[38;5;241m2\u001b[39m,\u001b[38;5;241m3\u001b[39m,\u001b[38;5;241m4\u001b[39m,\u001b[38;5;241m5\u001b[39m)\n",
      "\u001b[1;31mTypeError\u001b[0m: list.extend() takes exactly one argument (5 given)"
     ]
    }
   ],
   "source": [
    "l.extend(1,2,3,4,5)"
   ]
  },
  {
   "cell_type": "code",
   "execution_count": 49,
   "id": "b37b2243-e602-49a9-8a2a-9dbb49e197b8",
   "metadata": {},
   "outputs": [],
   "source": [
    "b=[1,2,3,4]\n",
    "l.extend(b)"
   ]
  },
  {
   "cell_type": "code",
   "execution_count": 50,
   "id": "5915e8d5-b113-48c9-a9a8-b2f7fea34b92",
   "metadata": {},
   "outputs": [
    {
     "data": {
      "text/plain": [
       "[1, 2, 3, 4]"
      ]
     },
     "execution_count": 50,
     "metadata": {},
     "output_type": "execute_result"
    }
   ],
   "source": [
    "l"
   ]
  },
  {
   "cell_type": "code",
   "execution_count": 51,
   "id": "ca831c56-6eff-46ee-ae18-36c63b228c90",
   "metadata": {},
   "outputs": [
    {
     "data": {
      "text/plain": [
       "[1, 2, 3, 4, [5, 6]]"
      ]
     },
     "execution_count": 51,
     "metadata": {},
     "output_type": "execute_result"
    }
   ],
   "source": [
    "l.append([5,6]) # set ko ak value ly ga \n",
    "l"
   ]
  },
  {
   "cell_type": "markdown",
   "id": "f056c644-a66d-43b3-9db9-a047ad3c7ab4",
   "metadata": {},
   "source": [
    "## **Tuple**"
   ]
  },
  {
   "cell_type": "code",
   "execution_count": 56,
   "id": "9c93b924-1222-4e8f-a14b-755674e9ba31",
   "metadata": {},
   "outputs": [
    {
     "name": "stdout",
     "output_type": "stream",
     "text": [
      "8\n",
      "2\n",
      "4\n",
      "7\n",
      "1\n",
      "28\n",
      "[1, 2, 2, 3, 4, 4, 5, 7]\n"
     ]
    }
   ],
   "source": [
    "t=(1,2,3,2,4,5,7,4)\n",
    "print( len(t))\n",
    "print( t.count(2))\n",
    "print( t.index(4))\n",
    "print( max(t))\n",
    "print( min(t))\n",
    "print( sum(t))\n",
    "print( sorted(t))"
   ]
  },
  {
   "cell_type": "code",
   "execution_count": 61,
   "id": "4267da86-5d52-40d8-aadd-bd799d09b1b4",
   "metadata": {},
   "outputs": [],
   "source": [
    "s={1,2,3,4,5}"
   ]
  },
  {
   "cell_type": "code",
   "execution_count": 63,
   "id": "8bd3ccc8-84b2-4c7a-9ec7-07f6807a8d2b",
   "metadata": {},
   "outputs": [
    {
     "data": {
      "text/plain": [
       "{1, 2, 3, 4, 5, 6}"
      ]
     },
     "execution_count": 63,
     "metadata": {},
     "output_type": "execute_result"
    }
   ],
   "source": [
    "s.add(6)\n",
    "s"
   ]
  },
  {
   "cell_type": "code",
   "execution_count": 65,
   "id": "ba83f951-5c9e-417f-be73-49ae4155cbb9",
   "metadata": {},
   "outputs": [
    {
     "data": {
      "text/plain": [
       "{1, 2, 3, 4, 5, 6}"
      ]
     },
     "execution_count": 65,
     "metadata": {},
     "output_type": "execute_result"
    }
   ],
   "source": [
    "s.add(5)\n",
    "s"
   ]
  },
  {
   "cell_type": "code",
   "execution_count": 66,
   "id": "62ff2275-bbab-40e1-85bc-e40d2e36ea14",
   "metadata": {},
   "outputs": [
    {
     "ename": "KeyError",
     "evalue": "0",
     "output_type": "error",
     "traceback": [
      "\u001b[1;31m---------------------------------------------------------------------------\u001b[0m",
      "\u001b[1;31mKeyError\u001b[0m                                  Traceback (most recent call last)",
      "Cell \u001b[1;32mIn[66], line 1\u001b[0m\n\u001b[1;32m----> 1\u001b[0m s\u001b[38;5;241m.\u001b[39mremove(\u001b[38;5;241m0\u001b[39m)\n",
      "\u001b[1;31mKeyError\u001b[0m: 0"
     ]
    }
   ],
   "source": [
    "s.remove(0) # agr value set ma nahi ha tu error dy ga"
   ]
  },
  {
   "cell_type": "code",
   "execution_count": 68,
   "id": "e48ea3dd-9613-42a7-951a-7e4cce1e49b9",
   "metadata": {},
   "outputs": [
    {
     "data": {
      "text/plain": [
       "{1, 2, 3, 4, 5, 6}"
      ]
     },
     "execution_count": 68,
     "metadata": {},
     "output_type": "execute_result"
    }
   ],
   "source": [
    "s.discard(0) #agr value set ma nahi ha tu error nahi dy ga\n",
    "s"
   ]
  },
  {
   "cell_type": "code",
   "execution_count": 70,
   "id": "3767603a-6c4f-4e3d-aeda-6ac066a7f672",
   "metadata": {},
   "outputs": [
    {
     "data": {
      "text/plain": [
       "{2, 3, 4, 5, 6}"
      ]
     },
     "execution_count": 70,
     "metadata": {},
     "output_type": "execute_result"
    }
   ],
   "source": [
    "s.pop() # remove random element\n",
    "s"
   ]
  },
  {
   "cell_type": "code",
   "execution_count": 71,
   "id": "1bcf3445-2d25-4088-ad66-8423be58e606",
   "metadata": {},
   "outputs": [
    {
     "data": {
      "text/plain": [
       "{1, 2, 3, 4, 5, 6}"
      ]
     },
     "execution_count": 71,
     "metadata": {},
     "output_type": "execute_result"
    }
   ],
   "source": [
    "s.add(1)\n",
    "s"
   ]
  },
  {
   "cell_type": "code",
   "execution_count": 76,
   "id": "58de2a82-7c80-475b-8c34-d17475c7b2aa",
   "metadata": {},
   "outputs": [
    {
     "name": "stdout",
     "output_type": "stream",
     "text": [
      "{1, 2, 3, 4, 5, 6, 8, 9, 10}\n"
     ]
    }
   ],
   "source": [
    "a={1,2,3,8,9,10}\n",
    "print(s.union(a)) # combine sets\n"
   ]
  },
  {
   "cell_type": "code",
   "execution_count": 77,
   "id": "3406aeb6-a405-4941-92a2-9c4e39a7871e",
   "metadata": {},
   "outputs": [
    {
     "name": "stdout",
     "output_type": "stream",
     "text": [
      "{1, 2, 3}\n"
     ]
    }
   ],
   "source": [
    "print(s.intersection(a)) # common values"
   ]
  },
  {
   "cell_type": "code",
   "execution_count": 78,
   "id": "f028c243-e391-48a8-b39c-7cbcff08c33c",
   "metadata": {},
   "outputs": [
    {
     "name": "stdout",
     "output_type": "stream",
     "text": [
      "{4, 5, 6}\n"
     ]
    }
   ],
   "source": [
    "print(s.difference(a)) # items in first not in second"
   ]
  },
  {
   "cell_type": "code",
   "execution_count": 80,
   "id": "9e48b154-ddb6-4f07-8baa-18060661d5ae",
   "metadata": {},
   "outputs": [
    {
     "name": "stdout",
     "output_type": "stream",
     "text": [
      "False\n"
     ]
    }
   ],
   "source": [
    "print(s.issubset(a))# checks if every element of the set in the other"
   ]
  },
  {
   "cell_type": "code",
   "execution_count": 81,
   "id": "dd1000c9-538c-45d3-97fe-a3ddfc7b8521",
   "metadata": {},
   "outputs": [
    {
     "name": "stdout",
     "output_type": "stream",
     "text": [
      "False\n"
     ]
    }
   ],
   "source": [
    "print(s.issuperset(a))# checks if the set contain every element of the set in the other"
   ]
  },
  {
   "cell_type": "code",
   "execution_count": 82,
   "id": "4817f30c-372b-416a-9439-b5194c96a546",
   "metadata": {},
   "outputs": [],
   "source": [
    "a.update({4,5,6,7})"
   ]
  },
  {
   "cell_type": "code",
   "execution_count": 83,
   "id": "813318de-3d61-40e8-8ccb-f496bdf27811",
   "metadata": {},
   "outputs": [
    {
     "data": {
      "text/plain": [
       "{1, 2, 3, 4, 5, 6, 7, 8, 9, 10}"
      ]
     },
     "execution_count": 83,
     "metadata": {},
     "output_type": "execute_result"
    }
   ],
   "source": [
    "a"
   ]
  },
  {
   "cell_type": "code",
   "execution_count": 84,
   "id": "0cb6dcab-c6ba-4d93-ad87-1da319920fea",
   "metadata": {},
   "outputs": [
    {
     "name": "stdout",
     "output_type": "stream",
     "text": [
      "True\n"
     ]
    }
   ],
   "source": [
    "print(s.issubset(a))"
   ]
  },
  {
   "cell_type": "code",
   "execution_count": 85,
   "id": "4ad5d8b9-d52a-45b4-9576-5fe9e06082b2",
   "metadata": {},
   "outputs": [
    {
     "name": "stdout",
     "output_type": "stream",
     "text": [
      "False\n"
     ]
    }
   ],
   "source": [
    "print(s.issuperset(a))"
   ]
  },
  {
   "cell_type": "code",
   "execution_count": 86,
   "id": "8df56d46-350e-45dc-bf0e-30683b5eb562",
   "metadata": {},
   "outputs": [
    {
     "name": "stdout",
     "output_type": "stream",
     "text": [
      "True\n"
     ]
    }
   ],
   "source": [
    "print(a.issuperset(s))"
   ]
  },
  {
   "cell_type": "markdown",
   "id": "1c0ce551-fbf2-4aa0-ae1b-7e48dc364c11",
   "metadata": {},
   "source": [
    "## **Dictionary**"
   ]
  },
  {
   "cell_type": "code",
   "execution_count": 98,
   "id": "9563d3e7-118f-4390-8d04-e674a508bc1b",
   "metadata": {},
   "outputs": [
    {
     "name": "stdout",
     "output_type": "stream",
     "text": [
      "4\n",
      "{'a': 1, 'b': 2, 3: 'c', 4: 'd'}\n",
      "1\n",
      "None\n",
      "{'a': 1, 'b': 2, 3: 'c', 4: 'd', 'c': 5}\n",
      "1\n",
      "{'b': 2, 3: 'c', 4: 'd', 'c': 5}\n",
      "('c', 5)\n",
      "{'b': 2, 3: 'c', 4: 'd'}\n",
      "{3: 'c', 4: 'd'}\n"
     ]
    }
   ],
   "source": [
    "d={'a':1 , 'b':2 , 3:'c' , 4:'d'}\n",
    "print(len(d))\n",
    "print(str(d)) # return the string representation\n",
    "print(d.get('a'))\n",
    "print(d.get(5)) # return none if key is not available\n",
    "d['c']=5\n",
    "print(d)\n",
    "print(d.pop('a')) # remove key a  and returns key value\n",
    "print(d)\n",
    "print(d.popitem()) # remove the last\n",
    "print(d)\n",
    "del d['b'] #remove key a  and  not returns key value\n",
    "print(d)"
   ]
  },
  {
   "cell_type": "code",
   "execution_count": 100,
   "id": "f57e867c-da50-498e-be2a-8e62e1696371",
   "metadata": {},
   "outputs": [
    {
     "data": {
      "text/plain": [
       "{'a': 1, 'b': 2, 3: 'c', 4: 'd'}"
      ]
     },
     "execution_count": 100,
     "metadata": {},
     "output_type": "execute_result"
    }
   ],
   "source": [
    "d={'a':1 , 'b':2 , 3:'c' , 4:'d'}\n",
    "d"
   ]
  },
  {
   "cell_type": "code",
   "execution_count": 102,
   "id": "17bd9a73-af6b-4f0d-b35d-551bc453d545",
   "metadata": {},
   "outputs": [
    {
     "name": "stdout",
     "output_type": "stream",
     "text": [
      "yes\n"
     ]
    }
   ],
   "source": [
    "if 3 in d:\n",
    "    print(\"yes\")"
   ]
  },
  {
   "cell_type": "code",
   "execution_count": 106,
   "id": "21d62f21-b324-49c4-a8d4-8cf113d632f5",
   "metadata": {},
   "outputs": [
    {
     "name": "stdout",
     "output_type": "stream",
     "text": [
      "a\n",
      "b\n",
      "3\n",
      "4\n"
     ]
    }
   ],
   "source": [
    "for key in d.keys():\n",
    "    print(key)\n"
   ]
  },
  {
   "cell_type": "code",
   "execution_count": 107,
   "id": "607ac434-f6ee-4afa-a992-556713cd4ee3",
   "metadata": {},
   "outputs": [
    {
     "name": "stdout",
     "output_type": "stream",
     "text": [
      "1\n",
      "2\n",
      "c\n",
      "d\n"
     ]
    }
   ],
   "source": [
    "\n",
    "for val in d.values():\n",
    "    print(val)\n",
    "\n"
   ]
  },
  {
   "cell_type": "code",
   "execution_count": 108,
   "id": "4013a44f-8d39-44d0-90e2-85e5a85dd975",
   "metadata": {},
   "outputs": [
    {
     "name": "stdout",
     "output_type": "stream",
     "text": [
      "a 1\n",
      "b 2\n",
      "3 c\n",
      "4 d\n"
     ]
    }
   ],
   "source": [
    "for k , v in d.items():\n",
    "    print(k,v)"
   ]
  },
  {
   "cell_type": "code",
   "execution_count": 109,
   "id": "2ea05e0b-cc48-4f86-9d04-281843807624",
   "metadata": {},
   "outputs": [
    {
     "data": {
      "text/plain": [
       "{'a': 1, 'b': 2, 3: 'c', 4: 'd'}"
      ]
     },
     "execution_count": 109,
     "metadata": {},
     "output_type": "execute_result"
    }
   ],
   "source": [
    "d"
   ]
  },
  {
   "cell_type": "code",
   "execution_count": 110,
   "id": "e6e0c459-a545-4e8c-8a86-202214490204",
   "metadata": {},
   "outputs": [
    {
     "data": {
      "text/plain": [
       "{'a': 1, 'b': 2, 3: 'c', 4: 'd', 'c': 5, 'd': 6}"
      ]
     },
     "execution_count": 110,
     "metadata": {},
     "output_type": "execute_result"
    }
   ],
   "source": [
    "d.update({ 'c':5 , 'd':6})\n",
    "d"
   ]
  },
  {
   "cell_type": "code",
   "execution_count": 113,
   "id": "917af660-35ff-4c99-860a-3ca111c4c7cf",
   "metadata": {},
   "outputs": [
    {
     "data": {
      "text/plain": [
       "{'a': 1, 'b': 2, 3: 'c', 4: 'd', 'c': 5, 'd': 6, 'x': 100}"
      ]
     },
     "execution_count": 113,
     "metadata": {},
     "output_type": "execute_result"
    }
   ],
   "source": [
    "d.setdefault('x' , 100) # add x :100 if x not already in dict\n",
    "d"
   ]
  },
  {
   "cell_type": "code",
   "execution_count": 115,
   "id": "0fc403b9-d6c9-4e97-8eca-4a4dbad8c531",
   "metadata": {},
   "outputs": [
    {
     "data": {
      "text/plain": [
       "5"
      ]
     },
     "execution_count": 115,
     "metadata": {},
     "output_type": "execute_result"
    }
   ],
   "source": [
    "d.setdefault('c' , 100) # add x :100 if x not already in dict\n"
   ]
  },
  {
   "cell_type": "code",
   "execution_count": 116,
   "id": "d2f0c163-be7e-4791-9eeb-0eb9167a8af6",
   "metadata": {},
   "outputs": [
    {
     "data": {
      "text/plain": [
       "{'a': 1, 'b': 2, 3: 'c', 4: 'd', 'c': 5, 'd': 6, 'x': 100}"
      ]
     },
     "execution_count": 116,
     "metadata": {},
     "output_type": "execute_result"
    }
   ],
   "source": [
    "d"
   ]
  },
  {
   "cell_type": "code",
   "execution_count": 1,
   "id": "48b707aa-a59e-4365-994e-138fda99558e",
   "metadata": {},
   "outputs": [
    {
     "ename": "NameError",
     "evalue": "name 'd' is not defined",
     "output_type": "error",
     "traceback": [
      "\u001b[1;31m---------------------------------------------------------------------------\u001b[0m",
      "\u001b[1;31mNameError\u001b[0m                                 Traceback (most recent call last)",
      "Cell \u001b[1;32mIn[1], line 1\u001b[0m\n\u001b[1;32m----> 1\u001b[0m d2\u001b[38;5;241m=\u001b[39md\u001b[38;5;241m.\u001b[39mcopy() \u001b[38;5;66;03m# returns a shallow copy of the dict\u001b[39;00m\n\u001b[0;32m      2\u001b[0m d2\n",
      "\u001b[1;31mNameError\u001b[0m: name 'd' is not defined"
     ]
    }
   ],
   "source": [
    "d2=d.copy() # returns a shallow copy of the dict\n",
    "d2"
   ]
  },
  {
   "cell_type": "markdown",
   "id": "47f46076-2c0a-4b4a-b81a-e316c698eff7",
   "metadata": {},
   "source": [
    "## **Module**"
   ]
  },
  {
   "cell_type": "code",
   "execution_count": 4,
   "id": "5a7b967a-097c-4b26-be75-24e5d1f808ae",
   "metadata": {},
   "outputs": [],
   "source": [
    "import sys\n",
    "sys.path.append('C:/Users/GOODLUCK')\n"
   ]
  },
  {
   "cell_type": "code",
   "execution_count": 18,
   "id": "d6b5a6c4-93bf-40a1-85c1-83911e353823",
   "metadata": {},
   "outputs": [],
   "source": [
    "import PQ as fun"
   ]
  },
  {
   "cell_type": "code",
   "execution_count": 19,
   "id": "d5d522d2-91a8-4405-b4eb-b1e9f445329f",
   "metadata": {},
   "outputs": [
    {
     "ename": "AttributeError",
     "evalue": "module 'PQ' has no attribute 'BasicArthmetic'",
     "output_type": "error",
     "traceback": [
      "\u001b[1;31m---------------------------------------------------------------------------\u001b[0m",
      "\u001b[1;31mAttributeError\u001b[0m                            Traceback (most recent call last)",
      "Cell \u001b[1;32mIn[19], line 1\u001b[0m\n\u001b[1;32m----> 1\u001b[0m fun\u001b[38;5;241m.\u001b[39mBasicArthmetic(\u001b[38;5;241m1\u001b[39m,\u001b[38;5;241m2\u001b[39m,\u001b[38;5;241m3\u001b[39m,\u001b[38;5;241m4\u001b[39m,\u001b[38;5;241m5\u001b[39m,\u001b[38;5;241m6\u001b[39m)\n",
      "\u001b[1;31mAttributeError\u001b[0m: module 'PQ' has no attribute 'BasicArthmetic'"
     ]
    }
   ],
   "source": [
    "fun.BasicArthmetic(1,2,3,4,5,6)"
   ]
  }
 ],
 "metadata": {
  "kernelspec": {
   "display_name": "Python [conda env:base] *",
   "language": "python",
   "name": "conda-base-py"
  },
  "language_info": {
   "codemirror_mode": {
    "name": "ipython",
    "version": 3
   },
   "file_extension": ".py",
   "mimetype": "text/x-python",
   "name": "python",
   "nbconvert_exporter": "python",
   "pygments_lexer": "ipython3",
   "version": "3.12.7"
  }
 },
 "nbformat": 4,
 "nbformat_minor": 5
}
