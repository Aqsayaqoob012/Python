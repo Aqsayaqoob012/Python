{
 "cells": [
  {
   "cell_type": "code",
   "execution_count": 5,
   "id": "017efaee-108b-4ade-a30c-770707c924d6",
   "metadata": {},
   "outputs": [
    {
     "name": "stdout",
     "output_type": "stream",
     "text": [
      "name\n",
      "age\n",
      "city\n",
      "Alice\n",
      "25\n",
      "New York\n",
      "name Alice\n",
      "age 25\n",
      "city New York\n"
     ]
    }
   ],
   "source": [
    "# 1. Create a dictionary and Print all keys and values\n",
    "d = {\"name\": \"Alice\", \"age\": 25, \"city\": \"New York\"}\n",
    "\n",
    "# for keys \n",
    "for key  in d.keys():\n",
    "    print(key )\n",
    "    \n",
    "# for values\n",
    "for  values in d.values():\n",
    "    print( values)\n",
    "    \n",
    "# for keys and values\n",
    "for key , values in d.items():\n",
    "    print(key , values)\n"
   ]
  },
  {
   "cell_type": "code",
   "execution_count": 6,
   "id": "4ed2b532-a551-4431-83ea-d61da32cfaf5",
   "metadata": {},
   "outputs": [
    {
     "name": "stdout",
     "output_type": "stream",
     "text": [
      "25\n"
     ]
    }
   ],
   "source": [
    "# Access the value associated with the key \"age\".\n",
    "d = {\"name\": \"Alice\", \"age\": 25, \"city\": \"New York\"}\n",
    "print(d[\"age\"])"
   ]
  },
  {
   "cell_type": "code",
   "execution_count": 8,
   "id": "04b62d3f-eb85-4f71-9b2c-57d154baf451",
   "metadata": {},
   "outputs": [
    {
     "name": "stdout",
     "output_type": "stream",
     "text": [
      "yes\n"
     ]
    }
   ],
   "source": [
    "# Check if a key \"gender\" exists in the dictionary.\n",
    "d = {\"name\": \"Alice\", \"age\": 25, \"city\": \"New York\"}\n",
    "if \"gender\" in d:\n",
    "    print(\"yes\")\n",
    "\n",
    "else :\n",
    "    print(\"no\")"
   ]
  },
  {
   "cell_type": "code",
   "execution_count": 13,
   "id": "a182956d-4660-485e-8d46-02877aab1f60",
   "metadata": {},
   "outputs": [
    {
     "name": "stdout",
     "output_type": "stream",
     "text": [
      "{'name': 'Alice', 'age': 25, 'city': 'New York', 'gender': 'female'}\n"
     ]
    }
   ],
   "source": [
    "# Add a new key-value pair \"gender\": \"Female\" to the dictionary.\n",
    "d.update({\"gender\" : \"female\"})\n",
    "print(d)"
   ]
  },
  {
   "cell_type": "code",
   "execution_count": 19,
   "id": "4988e1eb-713c-4579-bd2e-6383a53c207c",
   "metadata": {},
   "outputs": [
    {
     "data": {
      "text/plain": [
       "25"
      ]
     },
     "execution_count": 19,
     "metadata": {},
     "output_type": "execute_result"
    }
   ],
   "source": [
    "# Remove a key from the dictionary (e.g., \"age\").\n",
    "d.pop(\"age\") # return a values"
   ]
  },
  {
   "cell_type": "code",
   "execution_count": 22,
   "id": "3cccc184-6a61-417b-92b7-0b1c659cc9ed",
   "metadata": {},
   "outputs": [
    {
     "name": "stdout",
     "output_type": "stream",
     "text": [
      "{'a': 1, 'b': 3, 'c': 4}\n",
      "{'a': 1, 'b': 3, 'c': 4}\n"
     ]
    }
   ],
   "source": [
    "# Merge two dictionary into a single dictionary\n",
    "dict1 = {'a': 1, 'b': 2}\n",
    "dict2 = {'b': 3, 'c': 4}\n",
    "dict1.update(dict2)\n",
    "print(dict1)\n",
    "\n",
    "# another way \n",
    "dict1 = {'a': 1, 'b': 2}\n",
    "dict2 = {'b': 3, 'c': 4}\n",
    "merge = dict1 | dict2\n",
    "print(merge)"
   ]
  },
  {
   "cell_type": "code",
   "execution_count": 25,
   "id": "39f9d9b6-3438-45a7-b3ab-071b961386af",
   "metadata": {},
   "outputs": [
    {
     "name": "stdout",
     "output_type": "stream",
     "text": [
      "1\n",
      "4\n",
      "16\n",
      "25\n"
     ]
    }
   ],
   "source": [
    " # Create a dictionary where keys are numbers from 1 to 5 and values are their squares.\n",
    "d = {'a': 1, 'b': 2 ,'c': 4 , 'd': 5  }\n",
    "for values in d.values():\n",
    "    square = values ** 2\n",
    "    print(square)\n"
   ]
  },
  {
   "cell_type": "code",
   "execution_count": 27,
   "id": "1770e243-af73-4973-9a27-785562a8642f",
   "metadata": {},
   "outputs": [
    {
     "name": "stdout",
     "output_type": "stream",
     "text": [
      "85\n"
     ]
    }
   ],
   "source": [
    "# 11. Given a dictionary: Access the value of \"science\" marks.\n",
    "student = {\"name\": \"Bob\", \"marks\": {\"math\": 90, \"science\": 85}}\n",
    "print(student[\"marks\"][\"science\"])\n",
    "\n"
   ]
  },
  {
   "cell_type": "code",
   "execution_count": 29,
   "id": "b5835132-fa54-4b1f-b27f-c93028d098a1",
   "metadata": {},
   "outputs": [
    {
     "name": "stdout",
     "output_type": "stream",
     "text": [
      "{'apple': 3, 'banana': 2, 'orange': 1}\n"
     ]
    }
   ],
   "source": [
    "# 12. Write a program that takes a list like: and creates a dictionary with each item and its count.\n",
    "items = [\"apple\", \"banana\", \"apple\", \"orange\", \"banana\", \"apple\"]\n",
    "items_count = {}\n",
    "for item in items:\n",
    "    if item in items_count:\n",
    "        items_count[item] +=1\n",
    "\n",
    "    else:\n",
    "        items_count[item]  = 1\n",
    "        \n",
    "\n",
    "print(items_count)"
   ]
  },
  {
   "cell_type": "code",
   "execution_count": 32,
   "id": "055b21fb-0706-44c6-ba82-d61d90635741",
   "metadata": {},
   "outputs": [
    {
     "name": "stdout",
     "output_type": "stream",
     "text": [
      "{1: 'a', 2: 'b', 4: 'c', 5: 'd'}\n"
     ]
    }
   ],
   "source": [
    "# Write a program that reverses keys and values in a dictionary.\n",
    "d = {'a': 1, 'b': 2 ,'c': 4 , 'd': 5  }\n",
    "reverse = {value : key \n",
    "          for key , value in d.items()}\n",
    "print(reverse)"
   ]
  },
  {
   "cell_type": "code",
   "execution_count": 36,
   "id": "22f2f8d3-fd9a-44a3-9092-8b8156ccedb8",
   "metadata": {},
   "outputs": [
    {
     "name": "stdout",
     "output_type": "stream",
     "text": [
      "Bob\n"
     ]
    }
   ],
   "source": [
    "# 14. Write a program to find the key with the maximum value in the dictionary:\n",
    "scores = {\"Alice\": 88, \"Bob\": 95, \"Charlie\": 90}\n",
    "max_value = max(scores, key = scores.get)\n",
    "print(max_value)\n",
    "    \n"
   ]
  }
 ],
 "metadata": {
  "kernelspec": {
   "display_name": "Python [conda env:base] *",
   "language": "python",
   "name": "conda-base-py"
  },
  "language_info": {
   "codemirror_mode": {
    "name": "ipython",
    "version": 3
   },
   "file_extension": ".py",
   "mimetype": "text/x-python",
   "name": "python",
   "nbconvert_exporter": "python",
   "pygments_lexer": "ipython3",
   "version": "3.12.7"
  }
 },
 "nbformat": 4,
 "nbformat_minor": 5
}
