{
 "cells": [
  {
   "cell_type": "code",
   "execution_count": 13,
   "id": "abb6e619-2be7-4b25-bff7-050be77cf4ab",
   "metadata": {},
   "outputs": [
    {
     "name": "stdout",
     "output_type": "stream",
     "text": [
      "10\n"
     ]
    }
   ],
   "source": [
    "# Write a program to count the number of characters in a string.\n",
    "S = \"aqsa yaqoob\"\n",
    "count = len(S.replace(\" \" , \"\"))\n",
    "\n",
    "print(count)\n",
    "    "
   ]
  },
  {
   "cell_type": "code",
   "execution_count": 14,
   "id": "2c4236e1-13b9-4d85-88b3-531150759f0a",
   "metadata": {},
   "outputs": [
    {
     "name": "stdout",
     "output_type": "stream",
     "text": [
      "booqay asqa\n"
     ]
    }
   ],
   "source": [
    "# Given a string, return its reverse\n",
    "S = \"aqsa yaqoob\"\n",
    "reverse = S[::-1]\n",
    "print(reverse)"
   ]
  },
  {
   "cell_type": "code",
   "execution_count": 18,
   "id": "9287d80e-1169-445a-ac05-d0db962113bd",
   "metadata": {},
   "outputs": [
    {
     "name": "stdout",
     "output_type": "stream",
     "text": [
      "Yes\n"
     ]
    }
   ],
   "source": [
    "# Determine whether a given string is a palindrome.\n",
    "S = \"madam\"\n",
    "palindrome =S[::-1]\n",
    "if S == palindrome:\n",
    "    print(\"Yes\")\n",
    "\n",
    "else :\n",
    "    pass"
   ]
  },
  {
   "cell_type": "code",
   "execution_count": 22,
   "id": "db891d1a-5226-491b-8e75-c3153088503e",
   "metadata": {},
   "outputs": [
    {
     "name": "stdout",
     "output_type": "stream",
     "text": [
      "5\n"
     ]
    }
   ],
   "source": [
    "# Write a function that returns the number of vowels\n",
    "S = \"aqsa yaqoob\"\n",
    "vowels = 'aeiou'\n",
    "count = 0\n",
    "for i in S:\n",
    "    if i in vowels:\n",
    "        count += 1\n",
    "            \n",
    "print(count)\n",
    "            "
   ]
  },
  {
   "cell_type": "code",
   "execution_count": 24,
   "id": "42d7a17f-41f3-4593-b793-65bc461bd77e",
   "metadata": {},
   "outputs": [
    {
     "name": "stdout",
     "output_type": "stream",
     "text": [
      "yes\n"
     ]
    }
   ],
   "source": [
    "# Check if a substring exists in a given string\n",
    "S = \"aqsa yaqoob\"\n",
    "if \"yaqoob\" in S :\n",
    "    print(\"yes\")\n",
    "\n",
    "else :\n",
    "    pass"
   ]
  },
  {
   "cell_type": "code",
   "execution_count": 27,
   "id": "a73920aa-afd1-478b-b803-a5dd2608585d",
   "metadata": {},
   "outputs": [
    {
     "name": "stdout",
     "output_type": "stream",
     "text": [
      "AQSA YAQOOB\n",
      "aqsa yaqoob\n"
     ]
    }
   ],
   "source": [
    "# Convert a string to all uppercase or all lowercase letters.\n",
    "S = \"aqsa yaqoob\"\n",
    "uppercase = S.upper()\n",
    "print(uppercase)\n",
    "\n",
    "lowercase = uppercase.lower()\n",
    "print(lowercase)\n"
   ]
  },
  {
   "cell_type": "code",
   "execution_count": 29,
   "id": "f31b828e-6930-4123-bf63-70cc65df64f6",
   "metadata": {},
   "outputs": [
    {
     "name": "stdout",
     "output_type": "stream",
     "text": [
      "The sky is green. Blue is a calming color\n"
     ]
    }
   ],
   "source": [
    "# Replace all occurrences of a word in a string with another word.\n",
    "original_text = \"The sky is blue. Blue is a calming color\"\n",
    "updated_text = original_text.replace(\"blue\" , \"green\")\n",
    "print(updated_text)"
   ]
  },
  {
   "cell_type": "code",
   "execution_count": 39,
   "id": "c337755a-f443-49fb-a187-5e170b8a2c2c",
   "metadata": {},
   "outputs": [
    {
     "name": "stdout",
     "output_type": "stream",
     "text": [
      "{'b', 'q', 'a', 'o', 'y', ' ', 's'}\n",
      "['a', 'q', 's', ' ', 'y', 'o', 'b']\n",
      "a q s   y o b\n"
     ]
    }
   ],
   "source": [
    "# Write a function to remove all duplicate characters in a string\n",
    "S = \"aqsa yaqoob\" \n",
    "seen = set()\n",
    "result = []\n",
    "for i in S :\n",
    "    if i not in seen:\n",
    "        seen.add(i)\n",
    "        result.append(i)\n",
    "\n",
    "sen = \" \".join(result)\n",
    "print(seen)\n",
    "print(result)\n",
    "print(sen)"
   ]
  },
  {
   "cell_type": "code",
   "execution_count": 41,
   "id": "deb41f9c-8009-47b4-8923-cb552c94e9e1",
   "metadata": {},
   "outputs": [
    {
     "name": "stdout",
     "output_type": "stream",
     "text": [
      "Aqsa Yaqoob\n"
     ]
    }
   ],
   "source": [
    "# 4. Capitalize first letter of each word  => Input: \"hello world\" → Output: \"Hello World\"\n",
    "S = \"aqsa yaqoob\"\n",
    "result = S.title()\n",
    "print(result)"
   ]
  }
 ],
 "metadata": {
  "kernelspec": {
   "display_name": "Python [conda env:base] *",
   "language": "python",
   "name": "conda-base-py"
  },
  "language_info": {
   "codemirror_mode": {
    "name": "ipython",
    "version": 3
   },
   "file_extension": ".py",
   "mimetype": "text/x-python",
   "name": "python",
   "nbconvert_exporter": "python",
   "pygments_lexer": "ipython3",
   "version": "3.12.7"
  }
 },
 "nbformat": 4,
 "nbformat_minor": 5
}
