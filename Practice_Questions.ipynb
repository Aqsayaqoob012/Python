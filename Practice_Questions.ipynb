{
 "cells": [
  {
   "cell_type": "code",
   "execution_count": 4,
   "id": "0853fb9b-6f8a-48f9-b5b9-767a9e1f7498",
   "metadata": {},
   "outputs": [
    {
     "name": "stdout",
     "output_type": "stream",
     "text": [
      "Hello aqsa\n"
     ]
    }
   ],
   "source": [
    "def Hello(name='user'):\n",
    "    print(\"Hello\" , name)\n",
    "\n",
    "Hello('aqsa')"
   ]
  },
  {
   "cell_type": "code",
   "execution_count": 7,
   "id": "e6ee414d-6d2f-454d-a9c1-6b45038a7b6f",
   "metadata": {},
   "outputs": [
    {
     "name": "stdout",
     "output_type": "stream",
     "text": [
      "My name is : aqsa  \n",
      "i am  23 years old\n"
     ]
    }
   ],
   "source": [
    "def NameAndAge(name='user' , age=20):\n",
    "    print(\"My name is :\" , name , \" \\ni am \" , age , \"years old\" )\n",
    "    \n",
    "\n",
    "NameAndAge('aqsa' , 23)"
   ]
  },
  {
   "cell_type": "code",
   "execution_count": 22,
   "id": "f6980504-13b9-44ba-9eb0-0d9ef85de8c6",
   "metadata": {},
   "outputs": [
    {
     "data": {
      "text/plain": [
       "(21, 720)"
      ]
     },
     "execution_count": 22,
     "metadata": {},
     "output_type": "execute_result"
    }
   ],
   "source": [
    "def BasicArthmetic(*number):\n",
    "    sum=0\n",
    "    multi=1\n",
    "    \n",
    "    for i in number:\n",
    "        sum+=i\n",
    "        multi*=i\n",
    "    return sum , multi \n",
    "        \n",
    "\n",
    "BasicArthmetic(1,2,3,4,5,6)"
   ]
  },
  {
   "cell_type": "code",
   "execution_count": 27,
   "id": "0e6feb83-32f2-4937-bd4b-7bddb9360939",
   "metadata": {},
   "outputs": [
    {
     "name": "stdout",
     "output_type": "stream",
     "text": [
      "BOOQAY ASQA\n"
     ]
    }
   ],
   "source": [
    "def StringManipulation(str):\n",
    "    print(str[::-1])\n",
    "\n",
    "StringManipulation(\"AQSA YAQOOB\")"
   ]
  },
  {
   "cell_type": "code",
   "execution_count": 30,
   "id": "b78179e4-0e80-44f4-bc15-01ffc8654398",
   "metadata": {},
   "outputs": [
    {
     "name": "stdout",
     "output_type": "stream",
     "text": [
      "8\n",
      "1\n"
     ]
    }
   ],
   "source": [
    "def MaxAndMin(l=[1,2,3]):\n",
    "    print(max(l))\n",
    "    print(min(l))\n",
    "    \n",
    "\n",
    "MaxAndMin([3,4,6,8,1])"
   ]
  },
  {
   "cell_type": "code",
   "execution_count": 35,
   "id": "4179813f-cb8f-4b14-807b-6677b3409774",
   "metadata": {},
   "outputs": [
    {
     "name": "stdout",
     "output_type": "stream",
     "text": [
      "a 1\n",
      "b 2\n",
      "c 3\n"
     ]
    }
   ],
   "source": [
    "def dict(d={'a':1, 'b':2}):\n",
    "    for k, v in d.items():\n",
    "        print(k, v)\n",
    "\n",
    "dict({'a':1, 'b':2 , 'c':3})"
   ]
  },
  {
   "cell_type": "code",
   "execution_count": 39,
   "id": "4af18cdd-a8b0-4e3d-9196-59e5ba54a0c7",
   "metadata": {},
   "outputs": [
    {
     "name": "stdout",
     "output_type": "stream",
     "text": [
      "Even :  0\n",
      "odd :  1\n",
      "Even :  2\n"
     ]
    }
   ],
   "source": [
    "def EvenAndOdd(l=[0]):\n",
    "    for i in range(len(l)):\n",
    "        if i % 2 == 0:\n",
    "            print( \"Even : \" , i)\n",
    "\n",
    "        elif i % 2 != 0:\n",
    "            print(\"odd : \" ,i)\n",
    "\n",
    "EvenAndOdd([1,2,3])"
   ]
  },
  {
   "cell_type": "code",
   "execution_count": 43,
   "id": "4f295d20-2ed1-451a-a73f-62eea04bc352",
   "metadata": {},
   "outputs": [
    {
     "data": {
      "text/plain": [
       "4"
      ]
     },
     "execution_count": 43,
     "metadata": {},
     "output_type": "execute_result"
    }
   ],
   "source": [
    "def vowel(str):\n",
    "    vowels='aeiou'\n",
    "    count=0\n",
    "    for char in str:\n",
    "        if char in vowels:\n",
    "            count+=1\n",
    "\n",
    "    return count\n",
    "\n",
    "vowel(\"aqsaaa\")"
   ]
  },
  {
   "cell_type": "code",
   "execution_count": 46,
   "id": "2f0c8fab-40b9-40e7-a168-50ae0f3b9a8f",
   "metadata": {},
   "outputs": [
    {
     "name": "stdout",
     "output_type": "stream",
     "text": [
      "NO\n",
      "YES\n"
     ]
    }
   ],
   "source": [
    "def palindrome(str):\n",
    "    s=str[::-1]\n",
    "    if str == s:\n",
    "        print(\"YES\")\n",
    "\n",
    "    else:\n",
    "        print(\"NO\")\n",
    "\n",
    "palindrome(\"aqsa\")\n",
    "palindrome(\"madam\")      "
   ]
  },
  {
   "cell_type": "code",
   "execution_count": 53,
   "id": "2187def2-90fd-4b2c-a290-24ced7e70da5",
   "metadata": {},
   "outputs": [
    {
     "data": {
      "text/plain": [
       "120"
      ]
     },
     "execution_count": 53,
     "metadata": {},
     "output_type": "execute_result"
    }
   ],
   "source": [
    "def factorial(num):\n",
    "    if num == 0:\n",
    "        return 1\n",
    "    return num* factorial(num-1)\n",
    "\n",
    "factorial(5)\n",
    "    "
   ]
  }
 ],
 "metadata": {
  "kernelspec": {
   "display_name": "Python [conda env:base] *",
   "language": "python",
   "name": "conda-base-py"
  },
  "language_info": {
   "codemirror_mode": {
    "name": "ipython",
    "version": 3
   },
   "file_extension": ".py",
   "mimetype": "text/x-python",
   "name": "python",
   "nbconvert_exporter": "python",
   "pygments_lexer": "ipython3",
   "version": "3.12.7"
  }
 },
 "nbformat": 4,
 "nbformat_minor": 5
}
