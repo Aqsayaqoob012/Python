{
 "cells": [
  {
   "cell_type": "code",
   "execution_count": 2,
   "id": "86fd5054-317c-4657-b2cd-7721f22f3cfc",
   "metadata": {},
   "outputs": [
    {
     "name": "stdout",
     "output_type": "stream",
     "text": [
      "Requirement already satisfied: pandas in c:\\users\\goodluck\\anaconda3\\lib\\site-packages (2.2.2)\n",
      "Requirement already satisfied: numpy>=1.26.0 in c:\\users\\goodluck\\anaconda3\\lib\\site-packages (from pandas) (1.26.4)\n",
      "Requirement already satisfied: python-dateutil>=2.8.2 in c:\\users\\goodluck\\anaconda3\\lib\\site-packages (from pandas) (2.9.0.post0)\n",
      "Requirement already satisfied: pytz>=2020.1 in c:\\users\\goodluck\\anaconda3\\lib\\site-packages (from pandas) (2024.1)\n",
      "Requirement already satisfied: tzdata>=2022.7 in c:\\users\\goodluck\\anaconda3\\lib\\site-packages (from pandas) (2023.3)\n",
      "Requirement already satisfied: six>=1.5 in c:\\users\\goodluck\\anaconda3\\lib\\site-packages (from python-dateutil>=2.8.2->pandas) (1.16.0)\n"
     ]
    }
   ],
   "source": [
    "!pip install pandas\n"
   ]
  },
  {
   "cell_type": "code",
   "execution_count": 12,
   "id": "ddcbb98b-0910-465d-bde2-080bac8ea571",
   "metadata": {},
   "outputs": [
    {
     "name": "stdout",
     "output_type": "stream",
     "text": [
      "Display 10 rows of first : \n",
      "   id                                         name  \\\n",
      "0   1                              Apple iPhone 12   \n",
      "1   2                           Samsung Galaxy S21   \n",
      "2   3                           Sony PlayStation 5   \n",
      "3   4            LG OLED55CXPUA 55-inch 4K OLED TV   \n",
      "4   5  Bose QuietComfort 35 II Wireless Headphones   \n",
      "\n",
      "                                         description    price     category  \\\n",
      "0  The Apple iPhone 12 features a 6.1-inch Super ...   999.00  Electronics   \n",
      "1  The Samsung Galaxy S21 features a 6.2-inch Dyn...   799.00  Electronics   \n",
      "2  The Sony PlayStation 5 features an AMD Zen 2-b...   499.99  Electronics   \n",
      "3  The LG OLED55CXPUA 55-inch 4K OLED TV features...  1599.99  Electronics   \n",
      "4  The Bose QuietComfort 35 II Wireless Headphone...   299.00  Electronics   \n",
      "\n",
      "                                               image  \n",
      "0  https://www.apple.com/newsroom/images/product/...  \n",
      "1  https://images.samsung.com/is/image/samsung/p6...  \n",
      "2  https://www.sony.com/image/44baa604124b770c824...  \n",
      "3  https://www.lg.com/us/images/tvs/md07501804/ga...  \n",
      "4  https://assets.bose.com/content/dam/Bose_DAM/W...  \n",
      "\n",
      " Display 10 rows of last : \n",
      "    id                              name  \\\n",
      "17  18    iRobot Roomba i7+ Robot Vacuum   \n",
      "18  19  Ninja Foodi Digital Air Fry Oven   \n",
      "19  20  Cuisinart ICE-70 Ice Cream Maker   \n",
      "\n",
      "                                          description   price        category  \\\n",
      "17  The iRobot Roomba i7+ Robot Vacuum features au...  799.99  Home & Kitchen   \n",
      "18  The Ninja Foodi Digital Air Fry Oven features ...  209.99  Home & Kitchen   \n",
      "19  The Cuisinart ICE-70 Ice Cream Maker features ...  139.99  Home & Kitchen   \n",
      "\n",
      "                                                image  \n",
      "17  https://store.irobot.com/default/i7-vacuuming-...  \n",
      "18  https://www.ninjakitchen.com/static/img/produc...  \n",
      "19  https://www.cuisinart.com/share/images/product...  \n"
     ]
    }
   ],
   "source": [
    "import pandas as pd\n",
    "\n",
    "# read data from CSV file into a data frame\n",
    "\n",
    "# CSV = > Comma seprated values file\n",
    " # df = pd.read_csv(r\"C:\\Users\\GOODLUCK\\Downloads\\sales_data_sample.csv\", encoding=\"latin1\")# as a string pass krna ha\n",
    "\n",
    "# excel\n",
    " # df = pd.read_excel(r\"C:\\Users\\GOODLUCK\\Downloads\\sales_data_sample.xlsx\")\n",
    "\n",
    "# json => like dict\n",
    "df = pd.read_json(r\"C:\\Users\\GOODLUCK\\Downloads\\sample_Data.json\")\n",
    "print('Display 10 rows of first : ')\n",
    "print(df.head())\n",
    "\n",
    "print('\\n Display 10 rows of last : ')\n",
    "print(df.tail(3))\n",
    "\n"
   ]
  },
  {
   "cell_type": "code",
   "execution_count": 13,
   "id": "3da7e913-1f9f-4c28-9b40-3d783b34af10",
   "metadata": {},
   "outputs": [
    {
     "name": "stdout",
     "output_type": "stream",
     "text": [
      "Display the info of data set :\n",
      "<class 'pandas.core.frame.DataFrame'>\n",
      "RangeIndex: 20 entries, 0 to 19\n",
      "Data columns (total 6 columns):\n",
      " #   Column       Non-Null Count  Dtype  \n",
      "---  ------       --------------  -----  \n",
      " 0   id           20 non-null     int64  \n",
      " 1   name         20 non-null     object \n",
      " 2   description  20 non-null     object \n",
      " 3   price        20 non-null     float64\n",
      " 4   category     20 non-null     object \n",
      " 5   image        20 non-null     object \n",
      "dtypes: float64(1), int64(1), object(4)\n",
      "memory usage: 1.1+ KB\n",
      "None\n"
     ]
    }
   ],
   "source": [
    "print('Display the info of data set :')\n",
    "print(df.info())"
   ]
  },
  {
   "cell_type": "code",
   "execution_count": 15,
   "id": "e03b3a2d-009e-4b15-a2b6-b552e68f5431",
   "metadata": {},
   "outputs": [
    {
     "name": "stdout",
     "output_type": "stream",
     "text": [
      "Smaple Dataframe\n",
      "     Name   Age  Salary  Performance\n",
      "0     Aqsa   22   50000           85\n",
      "1     Erum   23   60000           90\n",
      "2     Saba   24   30000           92\n",
      "3  Ayesha    21   45000           88\n",
      "4     Gull   20   55000           89\n",
      "Descriptive Statistics\n",
      "             Age        Salary  Performance\n",
      "count   5.000000      5.000000     5.000000\n",
      "mean   22.000000  48000.000000    88.800000\n",
      "std     1.581139  11510.864433     2.588436\n",
      "min    20.000000  30000.000000    85.000000\n",
      "25%    21.000000  45000.000000    88.000000\n",
      "50%    22.000000  50000.000000    89.000000\n",
      "75%    23.000000  55000.000000    90.000000\n",
      "max    24.000000  60000.000000    92.000000\n"
     ]
    }
   ],
   "source": [
    "# sample data frame using dictionary\n",
    "data = {\n",
    "    \"Name \" : [\"Aqsa\" , \"Erum\" ,\"Saba\" , \"Ayesha \" , \"Gull\"],\n",
    "    \"Age\" : [22,23,24,21,20],\n",
    "    \"Salary\" : [50000 , 60000 , 30000 , 45000 , 55000],\n",
    "    \"Performance\" :[85,90,92,88,89]\n",
    "\n",
    "}\n",
    "df =pd.DataFrame(data)\n",
    "print(\"Smaple Dataframe\")\n",
    "print(df)\n",
    "print(\"Descriptive Statistics\")\n",
    "print(df.describe())"
   ]
  },
  {
   "cell_type": "code",
   "execution_count": 16,
   "id": "38db9f33-7d18-4032-bb3e-6d4fc9baaca1",
   "metadata": {},
   "outputs": [
    {
     "name": "stdout",
     "output_type": "stream",
     "text": [
      "Shape : (5, 4)\n",
      "Column Names : Index(['Name ', 'Age', 'Salary', 'Performance'], dtype='object')\n"
     ]
    }
   ],
   "source": [
    "print(f\"Shape : {df.shape}\") # row , column\n",
    "print(f\"Column Names : {df.columns}\")"
   ]
  },
  {
   "cell_type": "code",
   "execution_count": 33,
   "id": "84520e0d-3bd4-4635-ac82-92fe3e9658be",
   "metadata": {},
   "outputs": [
    {
     "name": "stdout",
     "output_type": "stream",
     "text": [
      "Names (Single column return series) \n",
      "\n",
      "0       Aqsa\n",
      "1       Erum\n",
      "2       Saba\n",
      "3    Ayesha \n",
      "4       Gull\n",
      "Name: Name, dtype: object\n",
      " \n",
      " Subset with name and salary \n",
      "\n",
      "      Name  Salary\n",
      "0     Aqsa   50000\n",
      "1     Erum   60000\n",
      "2     Saba   30000\n",
      "3  Ayesha    45000\n",
      "4     Gull   55000\n",
      "\n",
      " Employees with salary > 50000 \n",
      " \n",
      "   Name  Age  Salary  Performance\n",
      "1  Erum   23   60000           90\n",
      "4  Gull   20   55000           89\n",
      " \n",
      " Employee list age > 22 + salary > 50000 \n",
      "\n",
      "   Name  Age  Salary  Performance\n",
      "1  Erum   23   60000           90\n",
      "\n",
      " Employess older than 22 OR Performance > 90 \n",
      "\n",
      "   Name  Age  Salary  Performance\n",
      "1  Erum   23   60000           90\n",
      "2  Saba   24   30000           92\n"
     ]
    }
   ],
   "source": [
    "import pandas  as pd\n",
    "data = {\n",
    "    \"Name\" : [\"Aqsa\" , \"Erum\" ,\"Saba\" , \"Ayesha \" , \"Gull\"],\n",
    "    \"Age\" : [22,23,24,21,20],\n",
    "    \"Salary\" : [50000 , 60000 , 30000 , 45000 , 55000],\n",
    "    \"Performance\" :[85,90,92,88,89]\n",
    "\n",
    "}\n",
    "df =pd.DataFrame(data) \n",
    "# access single column\n",
    "print(\"Names (Single column return series) \\n\")\n",
    "name = df[\"Name\"]\n",
    "print(name)\n",
    "\n",
    "# access multiple column\n",
    "print(\" \\n Subset with name and salary \\n\")\n",
    "subset = df[[\"Name\" , \"Salary\"]]\n",
    "print(subset)\n",
    "\n",
    "# filter Rows\n",
    "high_salary = df[df['Salary'] > 50000]\n",
    "print('\\n Employees with salary > 50000 \\n ')\n",
    "print(high_salary)\n",
    "\n",
    "# combine multiple condition\n",
    "filtered = df[(df['Age'] > 22 ) & (df['Salary'] > 50000)]\n",
    "print(\" \\n Employee list age > 22 + salary > 50000 \\n\")\n",
    "print(filtered)\n",
    "\n",
    "# using or condition\n",
    "filtered_or = df[(df['Age'] > 22 ) | (df['Performance'] > 90)]\n",
    "print('\\n Employess older than 22 OR Performance > 90 \\n')\n",
    "print(filtered_or)\n",
    "\n"
   ]
  },
  {
   "cell_type": "markdown",
   "id": "ab1be65c-3716-4441-9812-7a46cdec9d76",
   "metadata": {},
   "source": [
    "## **Modifying Data**"
   ]
  },
  {
   "cell_type": "code",
   "execution_count": 6,
   "id": "353c38ce-f81c-440b-a58d-ea2f0196f3d3",
   "metadata": {},
   "outputs": [
    {
     "name": "stdout",
     "output_type": "stream",
     "text": [
      "      Name  Age  Salary  Performance\n",
      "0     Aqsa   22   50000           85\n",
      "1     Erum   23   60000           90\n",
      "2     Saba   24   30000           92\n",
      "3  Ayesha    21   45000           88\n",
      "4     Gull   20   55000           89\n",
      "\n",
      "  \n",
      "      Name  Age  Salary  Performance   Bonus\n",
      "0     Aqsa   22   50000           85  5000.0\n",
      "1     Erum   23   60000           90  6000.0\n",
      "2     Saba   24   30000           92  3000.0\n",
      "3  Ayesha    21   45000           88  4500.0\n",
      "4     Gull   20   55000           89  5500.0\n",
      "\n",
      "  \n",
      "   Employee Id      Name  Age  Salary  Performance   Bonus\n",
      "0            10     Aqsa   22   50000           85  5000.0\n",
      "1            20     Erum   23   60000           90  6000.0\n",
      "2            30     Saba   24   30000           92  3000.0\n",
      "3            40  Ayesha    21   45000           88  4500.0\n",
      "4            50     Gull   20   55000           89  5500.0\n"
     ]
    }
   ],
   "source": [
    "# Adding columns \n",
    "import pandas  as pd\n",
    "data = {\n",
    "    \"Name\" : [\"Aqsa\" , \"Erum\" ,\"Saba\" , \"Ayesha \" , \"Gull\"],\n",
    "    \"Age\" : [22,23,24,21,20],\n",
    "    \"Salary\" : [50000 , 60000 , 30000 , 45000 , 55000],\n",
    "    \"Performance\" :[85,90,92,88,89]\n",
    "\n",
    "}\n",
    "df =pd.DataFrame(data)\n",
    "print(df)\n",
    "# 01 method \n",
    "df[\"Bonus\"] = df['Salary'] * 0.1\n",
    "print(\"\\n  \")\n",
    "print(df)\n",
    "print(\"\\n  \")\n",
    "# 02 Method => insert =< add new column at a specific position and index in a data frame\n",
    "# df.insert (loc ,\"column name \" , data )\n",
    "df.insert(0 , \"Employee Id \" , [10,20,30,40,50])\n",
    "print(df)\n"
   ]
  },
  {
   "cell_type": "code",
   "execution_count": 9,
   "id": "1dd45223-929e-4e89-ac21-6ee6094a15c9",
   "metadata": {},
   "outputs": [
    {
     "name": "stdout",
     "output_type": "stream",
     "text": [
      "   Employee Id      Name  Age   Salary  Performance   Bonus\n",
      "0            10     Aqsa   22  80000.0           85  5000.0\n",
      "1            20     Erum   23  63000.0           90  6000.0\n",
      "2            30     Saba   24  31500.0           92  3000.0\n",
      "3            40  Ayesha    21  47250.0           88  4500.0\n",
      "4            50     Gull   20  57750.0           89  5500.0\n",
      "\n",
      "\n",
      "   Employee Id      Name  Age   Salary  Performance   Bonus\n",
      "0            10     Aqsa   22  84000.0           85  5000.0\n",
      "1            20     Erum   23  66150.0           90  6000.0\n",
      "2            30     Saba   24  33075.0           92  3000.0\n",
      "3            40  Ayesha    21  49612.5           88  4500.0\n",
      "4            50     Gull   20  60637.5           89  5500.0\n"
     ]
    }
   ],
   "source": [
    "# updating values =>  access specific cell(row , col , set of row ) and modify it\n",
    "\n",
    "# df.loc[row_index , \"column name\"]= new_value\n",
    "\n",
    "# updating aqsa salary\n",
    "df.loc[0 , \"Salary\"] = 80000\n",
    "print(df)\n",
    "print(\"\\n\")\n",
    "# increasing salary by 5% (adding method)\n",
    "df['Salary'] = df['Salary'] * 1.05\n",
    "print(df)"
   ]
  },
  {
   "cell_type": "code",
   "execution_count": 14,
   "id": "456a1796-eae9-472c-b676-775de2e98216",
   "metadata": {},
   "outputs": [
    {
     "name": "stdout",
     "output_type": "stream",
     "text": [
      "      Name   Salary   Bonus\n",
      "0     Aqsa  84000.0  5000.0\n",
      "1     Erum  66150.0  6000.0\n",
      "2     Saba  33075.0  3000.0\n",
      "3  Ayesha   49612.5  4500.0\n",
      "4     Gull  60637.5  5500.0\n"
     ]
    }
   ],
   "source": [
    "# removing columns\n",
    "# drop method => used to delete row and column in dataframe\n",
    "# df.drop(columns = [\"Column_name\"] , inplace = True)\n",
    "# single column\n",
    "df.drop(columns = [\"Performance\"] , inplace = True)\n",
    "print(df)\n",
    "\n",
    "# multiple column\n",
    "df.drop(columns = [\"Employee Id \" , \"Age\"] , inplace = True)\n",
    "print(df)\n"
   ]
  },
  {
   "cell_type": "markdown",
   "id": "6f2e9f91-4417-4452-9c22-3e896ad08811",
   "metadata": {},
   "source": [
    "## **Handling Missing Data**"
   ]
  },
  {
   "cell_type": "code",
   "execution_count": 20,
   "id": "02218ad9-b2d0-415d-bb50-0500c247d782",
   "metadata": {},
   "outputs": [
    {
     "name": "stdout",
     "output_type": "stream",
     "text": [
      "      Name   Age   Salary  Performance\n",
      "0     Aqsa  22.0  50000.0         85.0\n",
      "1     None   NaN      NaN          NaN\n",
      "2     Saba  24.0  30000.0         92.0\n",
      "3  Ayesha   21.0  45000.0         88.0\n",
      "4     Gull  20.0  55000.0         89.0\n",
      "\n",
      "\n",
      "    Name    Age  Salary  Performance\n",
      "0  False  False   False        False\n",
      "1   True   True    True         True\n",
      "2  False  False   False        False\n",
      "3  False  False   False        False\n",
      "4  False  False   False        False\n",
      "\n",
      "\n",
      "Name           1\n",
      "Age            1\n",
      "Salary         1\n",
      "Performance    1\n",
      "dtype: int64\n",
      "      Name   Age   Salary  Performance\n",
      "0     Aqsa  22.0  50000.0         85.0\n",
      "2     Saba  24.0  30000.0         92.0\n",
      "3  Ayesha   21.0  45000.0         88.0\n",
      "4     Gull  20.0  55000.0         89.0\n"
     ]
    }
   ],
   "source": [
    "import pandas  as pd\n",
    "data = {\n",
    "    \"Name\" : [\"Aqsa\" , None ,\"Saba\" , \"Ayesha \" , \"Gull\"],\n",
    "    \"Age\" : [22,None,24,21,20],\n",
    "    \"Salary\" : [50000 , None , 30000 , 45000 , 55000],\n",
    "    \"Performance\" :[85,None,92,88,89]\n",
    "\n",
    "}\n",
    "df =pd.DataFrame(data)\n",
    "print(df)\n",
    "print('\\n')\n",
    "# first detect missing values\n",
    "print(df.isnull())\n",
    "print('\\n')\n",
    "# return count\n",
    "print(df.isnull().sum())\n",
    "# remove missing value => dropna()\n",
    "# df.dropna(axis=0 , inplace = True) \n",
    "# axis = 0 => drop rows with missing values , axis = 1 => drop column with missing values\n",
    "df.dropna(axis = 0 , inplace = True)\n",
    "print(df)\n"
   ]
  },
  {
   "cell_type": "code",
   "execution_count": 26,
   "id": "4c343d6c-9695-42f0-b05f-2c9520267263",
   "metadata": {},
   "outputs": [
    {
     "name": "stdout",
     "output_type": "stream",
     "text": [
      "      Name   Age   Salary  Performance\n",
      "0     Aqsa  22.0  50000.0         85.0\n",
      "1     None   NaN      NaN          NaN\n",
      "2     Saba  24.0  30000.0         92.0\n",
      "3  Ayesha   21.0  45000.0         88.0\n",
      "4     Gull  20.0  55000.0         89.0\n",
      "\n",
      "\n",
      "      Name   Age   Salary  Performance\n",
      "0     Aqsa  22.0  50000.0         85.0\n",
      "1        0   0.0      0.0          0.0\n",
      "2     Saba  24.0  30000.0         92.0\n",
      "3  Ayesha   21.0  45000.0         88.0\n",
      "4     Gull  20.0  55000.0         89.0\n"
     ]
    }
   ],
   "source": [
    "''' replace missing values\n",
    "fillna(value , inplace = True)\n",
    "'''\n",
    "import pandas  as pd\n",
    "data = {\n",
    "    \"Name\" : [\"Aqsa\" , None ,\"Saba\" , \"Ayesha \" , \"Gull\"],\n",
    "    \"Age\" : [22,None,24,21,20],\n",
    "    \"Salary\" : [50000 , None , 30000 , 45000 , 55000],\n",
    "    \"Performance\" :[85,None,92,88,89]\n",
    "\n",
    "}\n",
    "df =pd.DataFrame(data)\n",
    "print(df)\n",
    "print('\\n')\n",
    " # default value\n",
    "df.fillna(0 , inplace = True)\n",
    "print(df)\n",
    "\n"
   ]
  },
  {
   "cell_type": "code",
   "execution_count": 34,
   "id": "0695a897-5b50-4c14-8c4f-f5fd4aa04249",
   "metadata": {},
   "outputs": [
    {
     "name": "stdout",
     "output_type": "stream",
     "text": [
      "      Name   Age   Salary  Performance\n",
      "0     Aqsa  22.0  50000.0         85.0\n",
      "1     None   NaN      NaN          NaN\n",
      "2     Saba  24.0  30000.0         92.0\n",
      "3  Ayesha   21.0  45000.0         88.0\n",
      "4     Gull  20.0  55000.0         89.0\n",
      "\n",
      "\n",
      "      Name    Age   Salary  Performance\n",
      "0     Aqsa  22.00  50000.0         85.0\n",
      "1     None  21.75      NaN          NaN\n",
      "2     Saba  24.00  30000.0         92.0\n",
      "3  Ayesha   21.00  45000.0         88.0\n",
      "4     Gull  20.00  55000.0         89.0\n",
      "\n",
      "\n",
      "      Name    Age   Salary  Performance\n",
      "0     Aqsa  22.00  50000.0         85.0\n",
      "1     None  21.75  45000.0          NaN\n",
      "2     Saba  24.00  30000.0         92.0\n",
      "3  Ayesha   21.00  45000.0         88.0\n",
      "4     Gull  20.00  55000.0         89.0\n"
     ]
    }
   ],
   "source": [
    "\n",
    "data = {\n",
    "    \"Name\" : [\"Aqsa\" , None ,\"Saba\" , \"Ayesha \" , \"Gull\"],\n",
    "    \"Age\" : [22,None,24,21,20],\n",
    "    \"Salary\" : [50000 , None , 30000 , 45000 , 55000],\n",
    "    \"Performance\" :[85,None,92,88,89]\n",
    "}\n",
    "\n",
    "df = pd.DataFrame(data)\n",
    "print(df)\n",
    "print('\\n')\n",
    "\n",
    "# Filling NaN in 'Age' with mean of 'Age' column\n",
    "df.fillna({'Age': df['Age'].mean()}, inplace=True)\n",
    "print(df)\n",
    "print('\\n')\n",
    "# Filling NaN in 'Salary' with mean of 'Salary' column\n",
    "df.fillna({'Salary': df['Salary'].mean()}, inplace=True)\n",
    "print(df)\n"
   ]
  },
  {
   "cell_type": "code",
   "execution_count": 4,
   "id": "86dd6190-f929-411a-9d33-ff4e44be7324",
   "metadata": {
    "scrolled": true
   },
   "outputs": [
    {
     "name": "stdout",
     "output_type": "stream",
     "text": [
      "Before Interpolation :\n",
      "   Time  Value\n",
      "0     1   12.0\n",
      "1     2    NaN\n",
      "2     3   30.0\n",
      "3     4    NaN\n",
      "4     5   50.0\n",
      "After Interpolation :\n",
      "   Time  Value\n",
      "0     1   12.0\n",
      "1     2   21.0\n",
      "2     3   30.0\n",
      "3     4   40.0\n",
      "4     5   50.0\n"
     ]
    }
   ],
   "source": [
    " import pandas as pd\n",
    "data = {\n",
    "    \"Time\" : [1,2,3,4,5],\n",
    "    \"Value\" : [12, None , 30 , None , 50]\n",
    "}\n",
    "df = pd.DataFrame(data)\n",
    "print(\"Before Interpolation :\")\n",
    "print(df)\n",
    "print(\"After Interpolation :\")\n",
    "df['Value'] = df['Value'].interpolate(method = \"linear\")\n",
    "print(df)"
   ]
  },
  {
   "cell_type": "code",
   "execution_count": 8,
   "id": "dc68f37c-5466-4231-abb0-3760a0378485",
   "metadata": {},
   "outputs": [
    {
     "name": "stdout",
     "output_type": "stream",
     "text": [
      "      Name  Age  Salary  Performance\n",
      "0     Aqsa   22   50000           85\n",
      "1     Saba   23   60000           90\n",
      "2  Ayesha    24   30000           92\n",
      "3     Gull   21   45000           88\n",
      "4     Erum   20   55000           89\n",
      "Sorted by Ascending :\n",
      "      Name  Age  Salary  Performance\n",
      "4     Erum   20   55000           89\n",
      "3     Gull   21   45000           88\n",
      "0     Aqsa   22   50000           85\n",
      "1     Saba   23   60000           90\n",
      "2  Ayesha    24   30000           92\n"
     ]
    }
   ],
   "source": [
    "# Sorting \n",
    "# single column\n",
    "import pandas  as pd\n",
    "data = {\n",
    "    \"Name\" : [\"Aqsa\"  ,\"Saba\" , \"Ayesha \" , \"Gull\" , \"Erum\"],\n",
    "    \"Age\" : [22,23,24,21,20],\n",
    "    \"Salary\" : [50000 , 60000 , 30000 , 45000 , 55000],\n",
    "    \"Performance\" :[85,90,92,88,89]\n",
    "\n",
    "}\n",
    "df =pd.DataFrame(data)\n",
    "print(df)\n",
    "df.sort_values(by = \"Age\" , ascending = True , inplace = True)\n",
    "print(\"Sorted Age  by Ascending :\")\n",
    "print(df)"
   ]
  },
  {
   "cell_type": "code",
   "execution_count": 9,
   "id": "b9e0561b-30b5-403f-9040-3e1d61cab33c",
   "metadata": {},
   "outputs": [
    {
     "name": "stdout",
     "output_type": "stream",
     "text": [
      "      Name  Age  Salary  Performance\n",
      "0     Aqsa   22   50000           85\n",
      "1     Saba   23   60000           90\n",
      "2  Ayesha    24   30000           92\n",
      "3     Gull   21   45000           88\n",
      "4     Erum   20   55000           89\n",
      "Sorted Age  by Ascending  and salary by Descending \n",
      "      Name  Age  Salary  Performance\n",
      "4     Erum   20   55000           89\n",
      "3     Gull   21   45000           88\n",
      "0     Aqsa   22   50000           85\n",
      "1     Saba   23   60000           90\n",
      "2  Ayesha    24   30000           92\n"
     ]
    }
   ],
   "source": [
    "# Multiple column\n",
    "data = {\n",
    "    \"Name\" : [\"Aqsa\"  ,\"Saba\" , \"Ayesha \" , \"Gull\" , \"Erum\"],\n",
    "    \"Age\" : [22,23,24,21,20],\n",
    "    \"Salary\" : [50000 , 60000 , 30000 , 45000 , 55000],\n",
    "    \"Performance\" :[85,90,92,88,89]\n",
    "\n",
    "}\n",
    "df =pd.DataFrame(data)\n",
    "print(df)\n",
    "df.sort_values(by = [\"Age\" , \"Salary\"] , ascending =[True , False], inplace = True)\n",
    "print(\"Sorted Age  by Ascending  and salary by Descending \")\n",
    "print(df)"
   ]
  },
  {
   "cell_type": "code",
   "execution_count": 10,
   "id": "44537ccc-c7d8-47ec-be26-1546dc805fe3",
   "metadata": {},
   "outputs": [
    {
     "name": "stdout",
     "output_type": "stream",
     "text": [
      "48000.0\n"
     ]
    }
   ],
   "source": [
    "# Aggregate Function\n",
    "avg_salary = df['Salary'].mean()\n",
    "print(avg_salary)"
   ]
  },
  {
   "cell_type": "code",
   "execution_count": 18,
   "id": "ae514dc6-ab54-4441-94ee-17ac6c070181",
   "metadata": {},
   "outputs": [
    {
     "name": "stdout",
     "output_type": "stream",
     "text": [
      "Age\n",
      "21     45000\n",
      "22    110000\n",
      "24     85000\n",
      "Name: Salary, dtype: int64\n"
     ]
    }
   ],
   "source": [
    "# Grouping\n",
    "data = {\n",
    "    \"Name\" : [\"Aqsa\"  ,\"Saba\" , \"Ayesha \" , \"Gull\" , \"Erum\"],\n",
    "    \"Age\" : [22,22,24,21,24],\n",
    "    \"Salary\" : [50000 , 60000 , 30000 , 45000 , 55000],\n",
    "    \"Performance\" :[85,90,92,88,89]\n",
    "\n",
    "}\n",
    "df = pd.DataFrame(data)\n",
    "grouped = df.groupby(\"Age\")[\"Salary\"].sum()\n",
    "print(grouped)"
   ]
  },
  {
   "cell_type": "code",
   "execution_count": 19,
   "id": "19ba003a-f8c0-4443-87ec-004c0a0b0bac",
   "metadata": {},
   "outputs": [
    {
     "name": "stdout",
     "output_type": "stream",
     "text": [
      "Age  Name   \n",
      "21   Gull       45000\n",
      "22   Aqsa       50000\n",
      "     Saba       60000\n",
      "24   Ayesha     30000\n",
      "     Erum       55000\n",
      "Name: Salary, dtype: int64\n"
     ]
    }
   ],
   "source": [
    "# Multiple\n",
    "grouped = df.groupby([\"Age\" , \"Name\"])[\"Salary\"].sum()\n",
    "print(grouped)"
   ]
  },
  {
   "cell_type": "code",
   "execution_count": 10,
   "id": "c3ad1658-44d6-4f4f-86b2-547dbc7cb084",
   "metadata": {},
   "outputs": [
    {
     "name": "stdout",
     "output_type": "stream",
     "text": [
      "Inner Join\n",
      "   Customer_Id  Name  Order_Amount\n",
      "0            1  Aqsa           250\n",
      "1            2  Erum           450\n",
      "2            3  Saba           660\n",
      "Outer Join\n",
      "   Customer_Id   Name  Order_Amount\n",
      "0            1   Aqsa         250.0\n",
      "1            2   Erum         450.0\n",
      "2            3   Saba         660.0\n",
      "3            4  Anisa           NaN\n",
      "4            5    NaN         750.0\n",
      "Left Join\n",
      "   Customer_Id   Name  Order_Amount\n",
      "0            1   Aqsa         250.0\n",
      "1            2   Erum         450.0\n",
      "2            3   Saba         660.0\n",
      "3            4  Anisa           NaN\n",
      "Right Join\n",
      "   Customer_Id  Name  Order_Amount\n",
      "0            1  Aqsa           250\n",
      "1            2  Erum           450\n",
      "2            3  Saba           660\n",
      "3            5   NaN           750\n",
      "Cross Join\n",
      "    Customer_Id_x   Name  Customer_Id_y  Order_Amount\n",
      "0               1   Aqsa              1           250\n",
      "1               1   Aqsa              2           450\n",
      "2               1   Aqsa              3           660\n",
      "3               1   Aqsa              5           750\n",
      "4               2   Erum              1           250\n",
      "5               2   Erum              2           450\n",
      "6               2   Erum              3           660\n",
      "7               2   Erum              5           750\n",
      "8               3   Saba              1           250\n",
      "9               3   Saba              2           450\n",
      "10              3   Saba              3           660\n",
      "11              3   Saba              5           750\n",
      "12              4  Anisa              1           250\n",
      "13              4  Anisa              2           450\n",
      "14              4  Anisa              3           660\n",
      "15              4  Anisa              5           750\n"
     ]
    }
   ],
   "source": [
    "# Merging => Combine rows from two or more dataset based on a common key(column)\n",
    "import pandas as pd\n",
    "df_Customer = pd.DataFrame({\n",
    "    'Customer_Id' : [1,2,3,4],\n",
    "    'Name' : ['Aqsa' , 'Erum' , 'Saba' , 'Anisa']\n",
    "})\n",
    "\n",
    "df_Order = pd.DataFrame({\n",
    "    'Customer_Id' : [1,2,3,5],\n",
    "    'Order_Amount' : [250,450,660,750]\n",
    "})\n",
    "df_inner = pd.merge(df_Customer ,df_Order  , on ='Customer_Id' , how = 'inner')\n",
    "print('Inner Join')\n",
    "print(df_inner)\n",
    "\n",
    "df_outer = pd.merge(df_Customer ,df_Order  , on ='Customer_Id' , how = 'outer')\n",
    "print('Outer Join')\n",
    "print(df_outer)\n",
    "\n",
    "\n",
    "df_left = pd.merge(df_Customer ,df_Order  , on ='Customer_Id' , how = 'left')\n",
    "print('Left Join')\n",
    "print(df_left)\n",
    "\n",
    "df_right = pd.merge(df_Customer ,df_Order  , on ='Customer_Id' , how = 'right')\n",
    "print('Right Join')\n",
    "print(df_right)\n",
    "\n",
    "df_cross = pd.merge(df_Customer ,df_Order  ,  how = 'cross')\n",
    "print('Cross Join')\n",
    "print(df_cross)\n"
   ]
  },
  {
   "cell_type": "code",
   "execution_count": 13,
   "id": "9e990a35-e6b9-46fd-8310-01e7c7315369",
   "metadata": {},
   "outputs": [
    {
     "name": "stdout",
     "output_type": "stream",
     "text": [
      "Vertically\n",
      "   Customer_Id   Name\n",
      "0            1   Aqsa\n",
      "1            2   Erum\n",
      "2            3   Saba\n",
      "3            4  Anisa\n",
      "horizontally\n",
      "   0     1  2      3\n",
      "0  1  Aqsa  3   Saba\n",
      "1  2  Erum  4  Anisa\n"
     ]
    }
   ],
   "source": [
    "# Concatination\n",
    "\n",
    "df_Region1 = pd.DataFrame({\n",
    "    'Customer_Id' : [1,2],\n",
    "    'Name' : ['Aqsa' , 'Erum' ]\n",
    "})\n",
    "\n",
    "df_Region2 = pd.DataFrame({\n",
    "    'Customer_Id' : [3,4],\n",
    "    'Name' : [ 'Saba' , 'Anisa']\n",
    "})\n",
    "# vertically\n",
    "df_vertically = pd.concat([df_Region1 , df_Region2] , axis = 0 , ignore_index = True)\n",
    "print('Vertically')\n",
    "print(df_vertically)\n",
    "\n",
    "# horizontally\n",
    "df_horizontally = pd.concat([df_Region1 , df_Region2] , axis = 1 , ignore_index = True)\n",
    "print('horizontally')\n",
    "print(df_horizontally)\n"
   ]
  }
 ],
 "metadata": {
  "kernelspec": {
   "display_name": "Python [conda env:base] *",
   "language": "python",
   "name": "conda-base-py"
  },
  "language_info": {
   "codemirror_mode": {
    "name": "ipython",
    "version": 3
   },
   "file_extension": ".py",
   "mimetype": "text/x-python",
   "name": "python",
   "nbconvert_exporter": "python",
   "pygments_lexer": "ipython3",
   "version": "3.12.7"
  }
 },
 "nbformat": 4,
 "nbformat_minor": 5
}
