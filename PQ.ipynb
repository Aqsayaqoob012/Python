{
 "cells": [
  {
   "cell_type": "code",
   "execution_count": 7,
   "id": "b71603fa-fd21-44bd-b0be-c2c616a24ad3",
   "metadata": {},
   "outputs": [
    {
     "name": "stdout",
     "output_type": "stream",
     "text": [
      "4.5\n"
     ]
    }
   ],
   "source": [
    "# mean of a list \n",
    "l = [1,2,3,4,5,6,7,8]\n",
    "sum = 0\n",
    "for i in l:\n",
    "    sum += i\n",
    "mean = sum/len(l)\n",
    "print(mean)\n",
    "    "
   ]
  },
  {
   "cell_type": "code",
   "execution_count": 20,
   "id": "dc666784-788c-4670-a3e9-07d78719dd56",
   "metadata": {},
   "outputs": [
    {
     "name": "stdout",
     "output_type": "stream",
     "text": [
      "6\n"
     ]
    }
   ],
   "source": [
    "# median of a list if count is odd median = middle value\n",
    "def median(l=[1,3,5,7,9,9]):\n",
    "    n = len(l)\n",
    "    if (n % 2 != 0):\n",
    "        return  l[ n // 2 ]\n",
    "     \n",
    "\n",
    "    else:\n",
    "        mid1 = l [n // 2]\n",
    "        mid2 = l [(n  // 2) - 1]\n",
    "        return (mid1 + mid2) // 2\n",
    "    \n",
    "\n",
    "print(median())"
   ]
  },
  {
   "cell_type": "code",
   "execution_count": 43,
   "id": "b9eee120-f4c9-4650-9a91-de7912b6cea9",
   "metadata": {},
   "outputs": [
    {
     "name": "stdout",
     "output_type": "stream",
     "text": [
      "[[16, 21], [28, 37]]\n"
     ]
    }
   ],
   "source": [
    " # matrix multiplication\n",
    "\n",
    "\n",
    "def matriMultiplication(l1 = [[2,3] , [4,5]] ,l2 = [[2,3], [4,5]]):\n",
    "    if (l1_column != l2_row ):\n",
    "        return valueError (\"Number of columns in A must be equal to number of rows in B \")\n",
    "\n",
    "    else:\n",
    "        c = [[0 for _ in range(l2_column)]for _ in range(l1_row)]\n",
    "        for i in range(l1_row):\n",
    "            for j in range(l2_column):\n",
    "                for k in range(l1_column):\n",
    "                    c[i][j] = l1[i][k] * l2[k][i]\n",
    "        return c\n",
    "\n",
    "\n",
    "print(c)\n",
    "\n"
   ]
  },
  {
   "cell_type": "code",
   "execution_count": 75,
   "id": "ab5327b3-4e20-462f-b986-bf39243c0352",
   "metadata": {},
   "outputs": [
    {
     "name": "stdout",
     "output_type": "stream",
     "text": [
      "2.0\n"
     ]
    }
   ],
   "source": [
    "#standard deviation = sqrt(mean ((x - mean)*2)\n",
    "def standardDeviation(l=[2, 4, 4, 4, 5, 5, 7, 9]): \n",
    "    n = len(l)\n",
    "    SD_sum = 0\n",
    "    n = len(l)\n",
    "    sum = 0 \n",
    "    for i in l:\n",
    "        sum += i\n",
    "    mean = sum // n\n",
    "    for i in l :\n",
    "        SD_sum += (i - mean)**2\n",
    "        result = SD_sum \n",
    "    varaince = sum / n-1 \n",
    "    return (varaince ** 0.5)\n",
    "\n",
    "    \n",
    "print(standardDeviation())"
   ]
  },
  {
   "cell_type": "code",
   "execution_count": 135,
   "id": "a9ec6bc1-70a6-4aba-834b-e2ed79d136b7",
   "metadata": {},
   "outputs": [
    {
     "name": "stdout",
     "output_type": "stream",
     "text": [
      "slope : 0.6 \n",
      "  Intercept : 2.2\n",
      "[2.8000000000000003, 6.4]\n"
     ]
    }
   ],
   "source": [
    "#Linear Regression\n",
    "\n",
    "def LinearRegression(x = [1, 2, 3, 4, 5] ,y = [2, 4, 5, 4, 5]):\n",
    "    n = len(x)\n",
    "    # mean of x \n",
    "    mean_x = sum(x) // n\n",
    "    \n",
    "    # mean of y\n",
    "    mean_y = sum(y) // n\n",
    "    \n",
    "    # x bar 𝑥̄ , y bar 𝑦̄\n",
    "    x_barr = []\n",
    "    y_barr = []\n",
    "    for i in range(n):\n",
    "        x_barr.append( x[i] - mean_x)\n",
    "        y_barr.append( y[i] - mean_y)\n",
    "\n",
    "       # product of deviations  (x - 𝑥̄)(y - 𝑦̄)\n",
    "    numerator = 0\n",
    "    for i in range(n):\n",
    "        numerator += x_barr[i] * y_barr[i]\n",
    "        \n",
    "         #Square of the deviation  (x - 𝑥̄)²\n",
    "    denominator =  0\n",
    "    for i in range(n):\n",
    "        denominator += x_barr[i] ** 2\n",
    "\n",
    "      #Calculate Slope m  \n",
    "    m = numerator / denominator\n",
    "    \n",
    "       #Calculate Intercept b\n",
    "    b = mean_y - (m * mean_x)\n",
    "    return m , b\n",
    "\n",
    "\n",
    "m , b = LinearRegression()\n",
    "print(f\"slope : {m} \\n  Intercept : {b}\")\n",
    "\n",
    "def predict( x , m , b):\n",
    "    results = []\n",
    "    for i in x:\n",
    "        result =( m * i) + b\n",
    "        results.append(result)\n",
    "\n",
    "    return results\n",
    "\n",
    "print(predict([1,7],m,b))\n",
    "    "
   ]
  }
 ],
 "metadata": {
  "kernelspec": {
   "display_name": "Python [conda env:base] *",
   "language": "python",
   "name": "conda-base-py"
  },
  "language_info": {
   "codemirror_mode": {
    "name": "ipython",
    "version": 3
   },
   "file_extension": ".py",
   "mimetype": "text/x-python",
   "name": "python",
   "nbconvert_exporter": "python",
   "pygments_lexer": "ipython3",
   "version": "3.12.7"
  }
 },
 "nbformat": 4,
 "nbformat_minor": 5
}
