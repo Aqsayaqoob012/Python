{
 "cells": [
  {
   "cell_type": "code",
   "execution_count": 1,
   "id": "ffaf3a0c-79c5-4cfa-917c-54a846c4c35e",
   "metadata": {},
   "outputs": [
    {
     "name": "stdout",
     "output_type": "stream",
     "text": [
      "[1, 2, 10, 4, 5, 6, 7]\n"
     ]
    }
   ],
   "source": [
    "# Replace the third element in a list with another value.\n",
    "l = [1,2,3,4,5,6,7]\n",
    "l[2] = 10\n",
    "print(l)"
   ]
  },
  {
   "cell_type": "code",
   "execution_count": 44,
   "id": "db8b97b9-e9da-45c7-8b00-98135815af07",
   "metadata": {},
   "outputs": [
    {
     "name": "stdout",
     "output_type": "stream",
     "text": [
      "[1, 2, 3, 4, 5, 6, 7, 9]\n",
      "[1, 2, 3, 4, 5, 6, 7, 8, 9]\n"
     ]
    }
   ],
   "source": [
    "# Add an element to the end and at a specific index.\n",
    "l = [1,2,3,4,5,6,7]\n",
    "l.append(9)\n",
    "print(l)\n",
    "\n",
    "l.insert(7,8)\n",
    "print(l)"
   ]
  },
  {
   "cell_type": "code",
   "execution_count": 43,
   "id": "119d4418-ecbf-4d88-8706-a93d1de80a4d",
   "metadata": {},
   "outputs": [
    {
     "name": "stdout",
     "output_type": "stream",
     "text": [
      "[2, 3, 1, 4, 5, 6, 4, 7]\n",
      "[2, 3, 1, 4, 6, 4, 7]\n"
     ]
    }
   ],
   "source": [
    "# Remove an item using remove() and pop()\n",
    "l = [1,2,3,1,4,5,6,4,7]\n",
    "l.remove(1)\n",
    "print(l)\n",
    "\n",
    "l.pop(4) # index\n",
    "print(l)"
   ]
  },
  {
   "cell_type": "code",
   "execution_count": 17,
   "id": "efb4ea33-33b3-439e-97b5-83bcade2ca6b",
   "metadata": {},
   "outputs": [
    {
     "name": "stdout",
     "output_type": "stream",
     "text": [
      "9\n"
     ]
    }
   ],
   "source": [
    "# Count the number of elements in a list using len().\n",
    "l = [1,2,3,1,4,5,6,4,7]\n",
    "length = len(l)\n",
    "print(length)"
   ]
  },
  {
   "cell_type": "code",
   "execution_count": 20,
   "id": "3b3457ac-3c52-4773-a8f5-52002c6ffffd",
   "metadata": {},
   "outputs": [
    {
     "name": "stdout",
     "output_type": "stream",
     "text": [
      "[2, 3, 1, 4]\n"
     ]
    }
   ],
   "source": [
    "# Get a sublist from index 1 to 4.\n",
    "l = [1,2,3,1,4,5,6,4,7]\n",
    "new = l[1:5]\n",
    "print(new)"
   ]
  },
  {
   "cell_type": "code",
   "execution_count": 23,
   "id": "cc08a454-6c99-42fb-9bfb-792d575cfc25",
   "metadata": {},
   "outputs": [
    {
     "name": "stdout",
     "output_type": "stream",
     "text": [
      "33\n"
     ]
    }
   ],
   "source": [
    "# Calculate the sum of all numbers in a list.\n",
    "\n",
    "def sum (l = [1,2,3,1,4,5,6,4,7]):\n",
    "    sum = 0\n",
    "    for i in l :\n",
    "        sum += i\n",
    "    return sum\n",
    "\n",
    "\n",
    "print(sum())"
   ]
  },
  {
   "cell_type": "code",
   "execution_count": 37,
   "id": "915f352a-8706-423d-8df8-78140cfb5275",
   "metadata": {},
   "outputs": [
    {
     "name": "stdout",
     "output_type": "stream",
     "text": [
      "max value : 10\n",
      "min value : 0\n"
     ]
    }
   ],
   "source": [
    " # Find the largest and smallest elements.\n",
    "def max(l = [1,2,3,1,10,5,6,4,7]):\n",
    "    max_value = 0\n",
    "    for i in l:\n",
    "        if i > max_value:\n",
    "            max_value = i\n",
    "    return max_value\n",
    "\n",
    "print(\"max value :\" , max())\n",
    "\n",
    "def min(l = [1,2,3,1,10,5,6,0,7]):\n",
    "    min_value = 0\n",
    "    for i in l:\n",
    "        if i < min_value:\n",
    "            min_value = i\n",
    "    return min_value\n",
    "\n",
    "print(\"min value :\" , min())"
   ]
  },
  {
   "cell_type": "code",
   "execution_count": 42,
   "id": "5af2f44f-a538-4a26-8b6e-0f58cc0918a9",
   "metadata": {},
   "outputs": [
    {
     "name": "stdout",
     "output_type": "stream",
     "text": [
      "using slicing : [7, 0, 6, 5, 10, 1, 3, 2, 1]\n",
      "using reverse : [7, 0, 6, 5, 10, 1, 3, 2, 1]\n"
     ]
    }
   ],
   "source": [
    "# Reverse the list using slicing and reverse().\n",
    "\n",
    "l = [1,2,3,1,10,5,6,0,7]\n",
    "slicing = l[::-1]\n",
    "print(\"using slicing :\" , slicing)\n",
    "\n",
    "l.reverse()\n",
    "print(\"using reverse :\" , l)"
   ]
  },
  {
   "cell_type": "code",
   "execution_count": 47,
   "id": "ffa3781a-b0ad-4fcb-a36b-34b1d58607d8",
   "metadata": {},
   "outputs": [
    {
     "name": "stdout",
     "output_type": "stream",
     "text": [
      "ascending order :  [0, 1, 1, 2, 3, 5, 6, 7, 10]\n",
      "descending order :  [10, 7, 6, 5, 3, 2, 1, 1, 0]\n"
     ]
    }
   ],
   "source": [
    "# Sort a list in ascending and descending order.\n",
    "l = [1,2,3,1,10,5,6,0,7]\n",
    "l.sort()\n",
    "print(\"ascending order : \" , l)\n",
    "\n",
    "l.sort(reverse = True)\n",
    "print( \"descending order : \" ,l)"
   ]
  },
  {
   "cell_type": "code",
   "execution_count": 48,
   "id": "8d02240f-1114-43bf-acd2-6a62275e9a51",
   "metadata": {},
   "outputs": [
    {
     "name": "stdout",
     "output_type": "stream",
     "text": [
      "{0, 1, 2, 3, 4, 5, 6, 7, 10}\n"
     ]
    }
   ],
   "source": [
    " # Remove duplicate elements from a list.\n",
    "l = [1,2,3,1,10,5,3,6,4,0,7]\n",
    "s = set(l)\n",
    "print(s)"
   ]
  },
  {
   "cell_type": "code",
   "execution_count": 55,
   "id": "f3719840-714a-4b6c-b3b9-1174384fdb59",
   "metadata": {},
   "outputs": [
    {
     "name": "stdout",
     "output_type": "stream",
     "text": [
      "yes\n"
     ]
    }
   ],
   "source": [
    "# Check if a given number is present in the list.\n",
    "l = [1,2,3,1,10,5,3,6,4,0,7]\n",
    "x = 1\n",
    "if i in l:\n",
    "    print(\"yes\")\n",
    "else :\n",
    "    pass\n",
    "\n"
   ]
  },
  {
   "cell_type": "code",
   "execution_count": 61,
   "id": "df690a9a-5b09-47ad-a65e-a78a052dec64",
   "metadata": {},
   "outputs": [
    {
     "name": "stdout",
     "output_type": "stream",
     "text": [
      "2\n"
     ]
    }
   ],
   "source": [
    "# Count how many times a value appears in the list.\n",
    "l = [1,2,3,1,10,5,3,6,4,0,7]\n",
    "x = 1\n",
    "count = 0\n",
    "for i in l:\n",
    "    if x == i:\n",
    "        count += 1\n",
    "\n",
    "print(count)"
   ]
  }
 ],
 "metadata": {
  "kernelspec": {
   "display_name": "Python [conda env:base] *",
   "language": "python",
   "name": "conda-base-py"
  },
  "language_info": {
   "codemirror_mode": {
    "name": "ipython",
    "version": 3
   },
   "file_extension": ".py",
   "mimetype": "text/x-python",
   "name": "python",
   "nbconvert_exporter": "python",
   "pygments_lexer": "ipython3",
   "version": "3.12.7"
  }
 },
 "nbformat": 4,
 "nbformat_minor": 5
}
