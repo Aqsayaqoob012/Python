{
 "cells": [
  {
   "cell_type": "code",
   "execution_count": 1,
   "id": "e5b645fd-7c6a-4efe-a21d-5ace59bfdeb9",
   "metadata": {},
   "outputs": [
    {
     "name": "stdout",
     "output_type": "stream",
     "text": [
      "Requirement already satisfied: numpy in c:\\users\\goodluck\\anaconda3\\lib\\site-packages (1.26.4)\n"
     ]
    }
   ],
   "source": [
    "!pip install numpy"
   ]
  },
  {
   "cell_type": "code",
   "execution_count": 2,
   "id": "97cc5159-0da4-46b9-96fe-5f77abfe050a",
   "metadata": {},
   "outputs": [],
   "source": [
    "import numpy as np"
   ]
  },
  {
   "cell_type": "code",
   "execution_count": 5,
   "id": "c37270fc-4bcb-4b02-86b9-834bdae21594",
   "metadata": {},
   "outputs": [
    {
     "name": "stdout",
     "output_type": "stream",
     "text": [
      "[1, 2, 3, 4, 5]\n",
      "[1 2 3 4 5]\n"
     ]
    }
   ],
   "source": [
    "python_list = [1,2,3,4,5]\n",
    "print(python_list)\n",
    "\n",
    "import numpy as np\n",
    "\n",
    "numpy_array = np.array([1,2,3,4,5])\n",
    "print(numpy_array)\n",
    "\n",
    "#  numpu array ma comma nahi aya mtlb memory efficiently use ki  gai ha\n"
   ]
  },
  {
   "cell_type": "code",
   "execution_count": 6,
   "id": "812efed9-4465-4e03-b3d0-1167aee6b603",
   "metadata": {},
   "outputs": [
    {
     "name": "stdout",
     "output_type": "stream",
     "text": [
      "[[1 2 3]\n",
      " [4 5 6]\n",
      " [7 8 9]]\n"
     ]
    }
   ],
   "source": [
    "arr_2d = np.array([[1,2,3],\n",
    "                  [4,5,6],\n",
    "                  [7,8,9]])\n",
    "print(arr_2d)"
   ]
  },
  {
   "cell_type": "code",
   "execution_count": 8,
   "id": "17b429a8-ce0f-4a19-b6aa-4d12bd06fc00",
   "metadata": {},
   "outputs": [
    {
     "name": "stdout",
     "output_type": "stream",
     "text": [
      "[[[1 2 3]\n",
      "  [4 5 6]]\n",
      "\n",
      " [[7 8 9]\n",
      "  [1 2 3]]]\n"
     ]
    }
   ],
   "source": [
    "arr_3d = np.array([[[1,2,3], # first layer (2 rows and 3 column)\n",
    "                  [4,5,6]],\n",
    "                  [[7,8,9], # second layer (2 rows and 3 column)\n",
    "                  [1,2,3]]])\n",
    "\n",
    "print(arr_3d)"
   ]
  },
  {
   "cell_type": "code",
   "execution_count": 9,
   "id": "11404362-e08b-4176-9949-77946b7cc472",
   "metadata": {},
   "outputs": [
    {
     "name": "stdout",
     "output_type": "stream",
     "text": [
      "[1 2 3]\n"
     ]
    }
   ],
   "source": [
    "# convert list into a array\n",
    "arr = np.array([1, 2,3])\n",
    "print(arr)"
   ]
  },
  {
   "cell_type": "code",
   "execution_count": 10,
   "id": "ed210666-f1ff-45de-9cc2-0d3fcccc8e74",
   "metadata": {},
   "outputs": [
    {
     "name": "stdout",
     "output_type": "stream",
     "text": [
      "[0. 0. 0.]\n"
     ]
    }
   ],
   "source": [
    "# default values  np.zeros(shape) shape mtlb size\n",
    "arr = np.zeros(3)\n",
    "print(arr)"
   ]
  },
  {
   "cell_type": "code",
   "execution_count": 12,
   "id": "c1a6c09e-99e3-436a-bf4c-7cf3b12d46c1",
   "metadata": {},
   "outputs": [
    {
     "name": "stdout",
     "output_type": "stream",
     "text": [
      "[[1. 1. 1.]\n",
      " [1. 1. 1.]]\n"
     ]
    }
   ],
   "source": [
    "arr = np.ones([2,3]) # 2 by 3  matrix\n",
    "print(arr)"
   ]
  },
  {
   "cell_type": "code",
   "execution_count": 14,
   "id": "7dfed682-6f56-4bfc-92bd-6a407b39743e",
   "metadata": {},
   "outputs": [
    {
     "name": "stdout",
     "output_type": "stream",
     "text": [
      "[[7 7]\n",
      " [7 7]]\n"
     ]
    }
   ],
   "source": [
    "# full (shape , value)  jb zero or one nahi dani apni mrzi sy koi number dana ho tu\n",
    "arr = np.full([2,2] , 7)\n",
    "print(arr)"
   ]
  },
  {
   "cell_type": "code",
   "execution_count": 15,
   "id": "358a4053-78b8-494d-81f4-eb56632017e8",
   "metadata": {},
   "outputs": [
    {
     "name": "stdout",
     "output_type": "stream",
     "text": [
      "[1 3 5 7 9]\n"
     ]
    }
   ],
   "source": [
    "# creating sequence  of number in numpy => arange(start , stop, step) return array\n",
    "arr = np.arange(1, 10 , 2)\n",
    "print(arr)"
   ]
  },
  {
   "cell_type": "code",
   "execution_count": 19,
   "id": "889fe23e-8093-4157-9396-4de040c9e477",
   "metadata": {},
   "outputs": [
    {
     "name": "stdout",
     "output_type": "stream",
     "text": [
      "[[1. 0. 0. 0.]\n",
      " [0. 1. 0. 0.]\n",
      " [0. 0. 1. 0.]\n",
      " [0. 0. 0. 1.]]\n"
     ]
    }
   ],
   "source": [
    "# creating identity matrices \n",
    "arr = np.eye(4)\n",
    "print(arr)"
   ]
  },
  {
   "cell_type": "code",
   "execution_count": 3,
   "id": "ffed83cd-c448-49f0-839c-5f96ac842e87",
   "metadata": {},
   "outputs": [
    {
     "name": "stdout",
     "output_type": "stream",
     "text": [
      "(2, 3)\n"
     ]
    }
   ],
   "source": [
    "# shape => return integer number\n",
    "\n",
    "import numpy as np\n",
    "\n",
    "arr_2d = np.array([[1,2,3],\n",
    "                   [4,5,6]])\n",
    "print(arr_2d.shape) # 2 show => 2 row and 3 show => 3 column"
   ]
  },
  {
   "cell_type": "code",
   "execution_count": 4,
   "id": "108c4a59-f791-48bc-afcc-a1c30dad1349",
   "metadata": {},
   "outputs": [
    {
     "name": "stdout",
     "output_type": "stream",
     "text": [
      "6\n"
     ]
    }
   ],
   "source": [
    "# size => return total number of element in array\n",
    "arr_2d = np.array([[1,2,3],\n",
    "                   [4,5,6]])\n",
    "print(arr_2d.size)"
   ]
  },
  {
   "cell_type": "code",
   "execution_count": 10,
   "id": "7e59f3f8-1887-4b06-a30a-cb5bf14f93a1",
   "metadata": {},
   "outputs": [
    {
     "name": "stdout",
     "output_type": "stream",
     "text": [
      "1\n",
      "2\n",
      "3\n"
     ]
    }
   ],
   "source": [
    "# ndim => no of dimension\n",
    "arr_1d = np.array([1,2,3])\n",
    "\n",
    "arr_2d = np.array([[1,2,3],\n",
    "                   [4,5,6]])\n",
    "\n",
    "arr_3d = np.array([[[1,2,3],\n",
    "                   [4,5,6]],\n",
    "                   [[7,8,9],\n",
    "                   [1,2,3]]])\n",
    "\n",
    "print(arr_1d.ndim)\n",
    "print(arr_2d.ndim)\n",
    "print(arr_3d.ndim)\n"
   ]
  },
  {
   "cell_type": "code",
   "execution_count": 19,
   "id": "b1f59eb6-8546-4269-b3c8-ba016afba615",
   "metadata": {},
   "outputs": [
    {
     "name": "stdout",
     "output_type": "stream",
     "text": [
      "float64\n",
      "int32\n",
      "<U11\n"
     ]
    }
   ],
   "source": [
    "# dtype => check data type\n",
    "arr1 = np.array([1,2,3, 4.5])\n",
    "arr2 = np.array([1,2,3, 4])\n",
    "arr3 = np.array([1,2,3, \"aqsa\"])\n",
    "\n",
    "\n",
    "\n",
    "print(arr1.dtype)\n",
    "print(arr2.dtype)\n",
    "print(arr3.dtype)"
   ]
  },
  {
   "cell_type": "code",
   "execution_count": 22,
   "id": "e3e5163f-e68b-43e4-9667-2e5bd7364235",
   "metadata": {},
   "outputs": [
    {
     "name": "stdout",
     "output_type": "stream",
     "text": [
      "[1.3 2.  3.8 4.5]\n",
      "float64\n",
      "[1 2 3 4]\n",
      "int32\n"
     ]
    }
   ],
   "source": [
    "# astype => chnage data type of array\n",
    "\n",
    "arr = np.array([1.3,2.0,3.8, 4.5])\n",
    "print(arr)\n",
    "print(arr.dtype)\n",
    "\n",
    "int_arr = arr.astype(int)\n",
    "\n",
    "print(int_arr)\n",
    "print(int_arr.dtype)"
   ]
  },
  {
   "cell_type": "code",
   "execution_count": 25,
   "id": "7e76f19d-d861-4a09-ae2b-1f431027d535",
   "metadata": {},
   "outputs": [
    {
     "name": "stdout",
     "output_type": "stream",
     "text": [
      "[15 25 35 45]\n",
      "[10 20 30 40]\n"
     ]
    }
   ],
   "source": [
    "# Mathametical operation => original array chnage nahi hota\n",
    "arr = np.array([10 ,20 ,30, 40])\n",
    "print(arr + 5 )\n",
    "print(arr)\n",
    "       "
   ]
  },
  {
   "cell_type": "code",
   "execution_count": 26,
   "id": "51cf1e77-aa73-4b18-8064-e927c39410ec",
   "metadata": {},
   "outputs": [
    {
     "name": "stdout",
     "output_type": "stream",
     "text": [
      "[ 5 15 25 35]\n",
      "[20 40 60 80]\n",
      "[ 100  400  900 1600]\n"
     ]
    }
   ],
   "source": [
    "arr = np.array([10 ,20 ,30, 40])\n",
    "print(arr - 5 )\n",
    "print(arr * 2)\n",
    "print(arr ** 2)"
   ]
  },
  {
   "cell_type": "code",
   "execution_count": 30,
   "id": "d972dbc9-87c9-41a9-9986-07cea3ff9d03",
   "metadata": {},
   "outputs": [
    {
     "name": "stdout",
     "output_type": "stream",
     "text": [
      "100\n",
      "25.0\n",
      "10\n",
      "40\n",
      "11.180339887498949\n",
      "125.0\n"
     ]
    }
   ],
   "source": [
    "# aggregate function\n",
    "arr = np.array([10 ,20 ,30, 40])\n",
    "print(np.sum(arr))\n",
    "print(np.mean(arr))\n",
    "print(np.min(arr))\n",
    "print(np.max(arr))\n",
    "print(np.std(arr))\n",
    "print(np.var(arr))"
   ]
  },
  {
   "cell_type": "code",
   "execution_count": 33,
   "id": "fffcb09e-76f0-4174-b6ca-44ecaa36bb1b",
   "metadata": {},
   "outputs": [
    {
     "name": "stdout",
     "output_type": "stream",
     "text": [
      "10 30 40\n"
     ]
    }
   ],
   "source": [
    "# indexing \n",
    "\n",
    "# access \n",
    "# array [index]   for 1d array\n",
    "# array [row , column ] for 2d and others\n",
    "\n",
    "arr = np.array([10 ,20 ,30, 40])\n",
    "print(arr[0], arr[2] , arr[-1])\n"
   ]
  },
  {
   "cell_type": "code",
   "execution_count": 34,
   "id": "dde9269a-5af6-474f-805c-696c018f913d",
   "metadata": {},
   "outputs": [
    {
     "ename": "IndexError",
     "evalue": "index 10 is out of bounds for axis 0 with size 4",
     "output_type": "error",
     "traceback": [
      "\u001b[1;31m---------------------------------------------------------------------------\u001b[0m",
      "\u001b[1;31mIndexError\u001b[0m                                Traceback (most recent call last)",
      "Cell \u001b[1;32mIn[34], line 2\u001b[0m\n\u001b[0;32m      1\u001b[0m arr \u001b[38;5;241m=\u001b[39m np\u001b[38;5;241m.\u001b[39marray([\u001b[38;5;241m10\u001b[39m ,\u001b[38;5;241m20\u001b[39m ,\u001b[38;5;241m30\u001b[39m, \u001b[38;5;241m40\u001b[39m])\n\u001b[1;32m----> 2\u001b[0m \u001b[38;5;28mprint\u001b[39m(arr[\u001b[38;5;241m10\u001b[39m])\n",
      "\u001b[1;31mIndexError\u001b[0m: index 10 is out of bounds for axis 0 with size 4"
     ]
    }
   ],
   "source": [
    "arr = np.array([10 ,20 ,30, 40])\n",
    "print(arr[10])"
   ]
  },
  {
   "cell_type": "code",
   "execution_count": 35,
   "id": "b729ab50-fe2d-4ae3-b3dc-930a7e728709",
   "metadata": {},
   "outputs": [
    {
     "name": "stdout",
     "output_type": "stream",
     "text": [
      "4\n",
      "8\n"
     ]
    }
   ],
   "source": [
    "arr_2d = np.array([[1,2,3],\n",
    "                   [4,5,6]])\n",
    "print(arr_2d[1,0]) #accessing element row 1 , column 2\n",
    "\n",
    "arr_3d = np.array([[[1,2,3],\n",
    "                   [4,5,6]], # depth 0\n",
    "                   \n",
    "                   [[7,8,9], # depth 1\n",
    "                   [1,2,3]]])\n",
    "\n",
    "print(arr_3d[1][0][1]) #accessing element depth 1 row 0 , column 1"
   ]
  },
  {
   "cell_type": "code",
   "execution_count": 40,
   "id": "7f3654b5-dca9-4764-b9bc-edf91f368675",
   "metadata": {},
   "outputs": [
    {
     "name": "stdout",
     "output_type": "stream",
     "text": [
      "[20 30 40 50]\n",
      "[10 20 30 40 50]\n",
      "[10 30 50 70]\n",
      "[80 70 60 50 40 30 20 10]\n"
     ]
    }
   ],
   "source": [
    "# slicing => array[start , stop , step] stop => excluded , step => default value 1\n",
    "\n",
    "# arr[start : end] , start to end -1 , negative step -1 reverse\n",
    "\n",
    "arr = np.array([10 ,20 ,30, 40,50,60,70,80])\n",
    "print(arr[1:5]) # 1 to 4\n",
    "print(arr[:5]) # start from 0\n",
    "print(arr[::2]) # start or end sy pora ho ga  and pick every second element\n",
    "print(arr[::-1]) # reverse"
   ]
  },
  {
   "cell_type": "code",
   "execution_count": 42,
   "id": "ce59d407-6992-4c91-a9a9-3d3a1f26b167",
   "metadata": {},
   "outputs": [
    {
     "name": "stdout",
     "output_type": "stream",
     "text": [
      "[10 30 50]\n"
     ]
    }
   ],
   "source": [
    "# fancy indexing => selecting multiple elements at once \n",
    "#(usually helps when you have to select no sequence element)\n",
    "# fancy element ma array as a list pass krna ha (always create copy) \n",
    "arr = np.array([10 ,20 ,30, 40,50,60,70,80])\n",
    "print(arr[[0,2,4]]) # 0 ,2 , 4 wala element chaya"
   ]
  },
  {
   "cell_type": "code",
   "execution_count": 44,
   "id": "51fba027-0d47-45a5-9d72-9d13492fddd9",
   "metadata": {},
   "outputs": [
    {
     "name": "stdout",
     "output_type": "stream",
     "text": [
      "[60 70 80]\n",
      "[]\n"
     ]
    }
   ],
   "source": [
    "# boolean masking =>  filtering data  based on condition agr condition fullfill ho ri  ha tu return ho ga wrna nahi\n",
    "arr = np.array([10 ,20 ,30, 40,50,60,70,80])\n",
    "print(arr[arr > 55 ])\n",
    "print(arr[arr > 100 ])\n"
   ]
  },
  {
   "cell_type": "code",
   "execution_count": 47,
   "id": "041db797-615c-40ef-9488-b5be572a14aa",
   "metadata": {},
   "outputs": [
    {
     "name": "stdout",
     "output_type": "stream",
     "text": [
      "[[10 20 30]\n",
      " [40 50 60]]\n"
     ]
    }
   ],
   "source": [
    "# reshapinng and manipulation => reshape(row, columns)\n",
    "arr = np.array([10 ,20 ,30, 40,50,60])\n",
    "reshape = arr.reshape(2,3)\n",
    "print(reshape)"
   ]
  },
  {
   "cell_type": "code",
   "execution_count": 48,
   "id": "1bab4733-e28d-4d9e-9e59-35f902e6e4f9",
   "metadata": {},
   "outputs": [
    {
     "ename": "ValueError",
     "evalue": "cannot reshape array of size 6 into shape (3,3)",
     "output_type": "error",
     "traceback": [
      "\u001b[1;31m---------------------------------------------------------------------------\u001b[0m",
      "\u001b[1;31mValueError\u001b[0m                                Traceback (most recent call last)",
      "Cell \u001b[1;32mIn[48], line 1\u001b[0m\n\u001b[1;32m----> 1\u001b[0m reshape \u001b[38;5;241m=\u001b[39m arr\u001b[38;5;241m.\u001b[39mreshape(\u001b[38;5;241m3\u001b[39m,\u001b[38;5;241m3\u001b[39m)\n\u001b[0;32m      2\u001b[0m \u001b[38;5;28mprint\u001b[39m(reshape)\n",
      "\u001b[1;31mValueError\u001b[0m: cannot reshape array of size 6 into shape (3,3)"
     ]
    }
   ],
   "source": [
    "reshape = arr.reshape(3,3)\n",
    "print(reshape)"
   ]
  },
  {
   "cell_type": "code",
   "execution_count": 49,
   "id": "b6c66f8a-404a-497c-9baf-fecfcbd3b469",
   "metadata": {},
   "outputs": [
    {
     "name": "stdout",
     "output_type": "stream",
     "text": [
      "[[[10 20]\n",
      "  [30 40]]\n",
      "\n",
      " [[50 60]\n",
      "  [70 80]]]\n"
     ]
    }
   ],
   "source": [
    "arr = np.array([10 ,20 ,30, 40,50,60,70,80])\n",
    "reshape = arr.reshape(2,2,2) # 2 blocks hr block ma 2 row and 2 column\n",
    "print(reshape)"
   ]
  },
  {
   "cell_type": "code",
   "execution_count": 52,
   "id": "d80f05cf-7391-4515-8bbd-ead3192e6bd5",
   "metadata": {},
   "outputs": [
    {
     "name": "stdout",
     "output_type": "stream",
     "text": [
      "[1 2 3 4 5 6]\n",
      "[1 2 3 4 5 6 7 8 9 1 2 3]\n",
      "[[1 2 3]\n",
      " [4 5 6]]\n",
      "[[[1 2 3]\n",
      "  [4 5 6]]\n",
      "\n",
      " [[7 8 9]\n",
      "  [1 2 3]]]\n"
     ]
    }
   ],
   "source": [
    "# flattening array => convert multi dimensional array into 1D array\n",
    "# raval => returns a view (original array ma modification ho ge)\n",
    "# flatten => returns a copy (original array ma modification  nahi ho ge)\n",
    "arr_2d = np.array([[1,2,3],\n",
    "                   [4,5,6]])\n",
    "print(arr_2d.ravel())\n",
    "\n",
    "arr_3d = np.array([[[1,2,3],\n",
    "                   [4,5,6]], # depth 0\n",
    "                   \n",
    "                   [[7,8,9], # depth 1\n",
    "                   [1,2,3]]])\n",
    "print(arr_3d.flatten())\n",
    "print(arr_2d)\n",
    "print(arr_3d)\n",
    "\n",
    "\n",
    "\n"
   ]
  },
  {
   "cell_type": "code",
   "execution_count": 3,
   "id": "d47c0c07-8574-4041-9046-977f32aeaafe",
   "metadata": {},
   "outputs": [
    {
     "name": "stdout",
     "output_type": "stream",
     "text": [
      "[10 20 20 30 40 50 60 70 80]\n",
      "[10 20 30 40 50 60 70 80]\n"
     ]
    }
   ],
   "source": [
    "# advanced numpy\n",
    "# add\n",
    "\n",
    "import numpy as np\n",
    "\n",
    "arr = np.array([10 ,20 ,30, 40,50,60,70,80])\n",
    "new_arr = np.insert(arr , 2, 20 )\n",
    "print(new_arr)\n",
    "print(arr) # original change nahi hota"
   ]
  },
  {
   "cell_type": "code",
   "execution_count": 5,
   "id": "30047dcc-183c-46d6-8eb9-1b44592ec773",
   "metadata": {},
   "outputs": [
    {
     "name": "stdout",
     "output_type": "stream",
     "text": [
      "[[1 2 3]\n",
      " [5 6 7]\n",
      " [4 5 6]]\n"
     ]
    }
   ],
   "source": [
    "arr_2d = np.array([[1,2,3],\n",
    "                   [4,5,6]])\n",
    "# insert a new row at index 1\n",
    "new_arr_2d = np.insert(arr_2d , 1, [5,6,7] , axis=0)\n",
    "print(new_arr_2d)"
   ]
  },
  {
   "cell_type": "code",
   "execution_count": 7,
   "id": "3efb2670-e3d1-408d-ad4c-e1c09345aea7",
   "metadata": {},
   "outputs": [
    {
     "name": "stdout",
     "output_type": "stream",
     "text": [
      "[[1 5 2 3]\n",
      " [4 6 5 6]]\n"
     ]
    }
   ],
   "source": [
    "arr_2d = np.array([[1,2,3],\n",
    "                   [4,5,6]])\n",
    "# insert a new column at index 1\n",
    "new_arr_2d = np.insert(arr_2d , 1, [5,6] , axis=1)\n",
    "print(new_arr_2d)"
   ]
  },
  {
   "cell_type": "code",
   "execution_count": 9,
   "id": "317b1425-bdf4-40ff-8e78-cf298ce44ddc",
   "metadata": {},
   "outputs": [
    {
     "name": "stdout",
     "output_type": "stream",
     "text": [
      "[1 5 6 2 3 4 5 6]\n"
     ]
    }
   ],
   "source": [
    "arr_2d = np.array([[1,2,3],\n",
    "                   [4,5,6]])\n",
    "# axis none isy flatten kr dy ga\n",
    "new_arr_2d = np.insert(arr_2d , 1, [5,6] , axis=None)\n",
    "print(new_arr_2d)"
   ]
  },
  {
   "cell_type": "code",
   "execution_count": 10,
   "id": "9edf214b-77a6-44ab-b600-a5396118d0dc",
   "metadata": {},
   "outputs": [
    {
     "name": "stdout",
     "output_type": "stream",
     "text": [
      "[10 20 30 40 50 60 70 80]\n"
     ]
    }
   ],
   "source": [
    "# append => add element at the end , original array unchanged rhy ga\n",
    "\n",
    "arr = np.array([10 ,20 ,30, 40,50])\n",
    "new = np.append(arr ,[60,70,80])\n",
    "print(new)"
   ]
  },
  {
   "cell_type": "code",
   "execution_count": 11,
   "id": "842a80ef-6847-40a5-a809-ce71bad98848",
   "metadata": {},
   "outputs": [
    {
     "name": "stdout",
     "output_type": "stream",
     "text": [
      "[10 20 30 40 50 60 70 80]\n"
     ]
    }
   ],
   "source": [
    "# concatente\n",
    "\n",
    "arr1 = np.array([10 ,20 ,30, 40])\n",
    "arr2 = np.array([50 ,60 ,70, 80])\n",
    "new = np.concatenate((arr1 , arr2))\n",
    "print(new)"
   ]
  },
  {
   "cell_type": "code",
   "execution_count": 14,
   "id": "9fbb4f43-0ae5-4bb1-ab06-c56fd5a67282",
   "metadata": {},
   "outputs": [
    {
     "name": "stdout",
     "output_type": "stream",
     "text": [
      "[[1 2 3]\n",
      " [4 5 6]\n",
      " [1 2 3]\n",
      " [4 5 6]]\n"
     ]
    }
   ],
   "source": [
    "arr1 = np.array([[1,2,3],\n",
    "                   [4,5,6]])\n",
    "arr2 = np.array([[1,2,3],\n",
    "                   [4,5,6]])\n",
    "# axis = 0 ,  vertically stacking\n",
    "new = np.concatenate((arr1 , arr2,) ,axis = 0)\n",
    "print(new)"
   ]
  },
  {
   "cell_type": "code",
   "execution_count": 15,
   "id": "1335d492-074f-468b-b792-82ac7414b94e",
   "metadata": {},
   "outputs": [
    {
     "name": "stdout",
     "output_type": "stream",
     "text": [
      "[[1 2 3 1 2 3]\n",
      " [4 5 6 4 5 6]]\n"
     ]
    }
   ],
   "source": [
    "arr1 = np.array([[1,2,3],\n",
    "                   [4,5,6]])\n",
    "arr2 = np.array([[1,2,3],\n",
    "                   [4,5,6]])\n",
    "# axis = 1 , horizontally stacking\n",
    "new = np.concatenate((arr1 , arr2,) ,axis = 1)\n",
    "print(new)"
   ]
  },
  {
   "cell_type": "code",
   "execution_count": 17,
   "id": "972c0448-21ab-42fc-aaef-9afffd343218",
   "metadata": {},
   "outputs": [
    {
     "name": "stdout",
     "output_type": "stream",
     "text": [
      "[20 30 40]\n",
      "[10 20 30 40]\n"
     ]
    }
   ],
   "source": [
    "#delete => removing elements at specific position\n",
    "arr1 = np.array([10 ,20 ,30, 40])\n",
    "new = np.delete(arr1 , 0)\n",
    "print(new)\n",
    "print(arr1) # unchanged original"
   ]
  },
  {
   "cell_type": "code",
   "execution_count": 21,
   "id": "aeb84029-ff41-492e-b9a6-583c3a372b7e",
   "metadata": {},
   "outputs": [
    {
     "name": "stdout",
     "output_type": "stream",
     "text": [
      "[[4 5 6]]\n"
     ]
    }
   ],
   "source": [
    "arr = np.array([[1,2,3],\n",
    "                   [4,5,6]])\n",
    "new = np.delete(arr , 0 , axis=0)\n",
    "print(new)"
   ]
  },
  {
   "cell_type": "code",
   "execution_count": 22,
   "id": "e0a3a733-55c1-43dc-b997-4fa97357b513",
   "metadata": {},
   "outputs": [
    {
     "name": "stdout",
     "output_type": "stream",
     "text": [
      "[[2 3]\n",
      " [5 6]]\n"
     ]
    }
   ],
   "source": [
    "arr = np.array([[1,2,3],\n",
    "                   [4,5,6]])\n",
    "new = np.delete(arr , 0 , axis=1)\n",
    "print(new)"
   ]
  },
  {
   "cell_type": "code",
   "execution_count": 23,
   "id": "78088720-903c-40af-96f1-b527984d9a94",
   "metadata": {},
   "outputs": [
    {
     "name": "stdout",
     "output_type": "stream",
     "text": [
      "[[10 20 30 40]\n",
      " [50 60 70 80]]\n"
     ]
    }
   ],
   "source": [
    "# stacking => combine multiple array , Vstack => row , hstack => column\n",
    "arr1 = np.array([10 ,20 ,30, 40])\n",
    "arr2 = np.array([50 ,60 ,70, 80])\n",
    "new = np.vstack((arr1 , arr2)) # vertically\n",
    "print(new)"
   ]
  },
  {
   "cell_type": "code",
   "execution_count": 24,
   "id": "4c8b5e3d-fd07-4246-a0b7-83afa8693fc1",
   "metadata": {},
   "outputs": [
    {
     "name": "stdout",
     "output_type": "stream",
     "text": [
      "[10 20 30 40 50 60 70 80]\n"
     ]
    }
   ],
   "source": [
    "arr1 = np.array([10 ,20 ,30, 40])\n",
    "arr2 = np.array([50 ,60 ,70, 80])\n",
    "new = np.hstack((arr1 , arr2)) # horizontally\n",
    "print(new)"
   ]
  },
  {
   "cell_type": "code",
   "execution_count": 26,
   "id": "bd03ddee-4861-4936-9a82-9a85ce1619ab",
   "metadata": {},
   "outputs": [
    {
     "name": "stdout",
     "output_type": "stream",
     "text": [
      "[array([10, 20, 30, 40]), array([50, 60, 70, 80])]\n",
      "[10 20 30 40 50 60 70 80]\n",
      "[array([10, 20]), array([30, 40]), array([50, 60]), array([70, 80])]\n"
     ]
    }
   ],
   "source": [
    "# splitting => divide into subarray  \n",
    "# np.split()\n",
    "arr = np.array([10 ,20 ,30, 40, 50 ,60 ,70, 80])\n",
    "new = np.split(arr , 2) # 2 parts am divide krp\n",
    "print(new)\n",
    "print(arr) # unchnaged originall\n",
    "\n",
    "new = np.split(arr , 4) # 4 parts am divide krp\n",
    "print(new)"
   ]
  },
  {
   "cell_type": "code",
   "execution_count": 27,
   "id": "dceed5b8-aae4-4acc-afdf-967780fff794",
   "metadata": {},
   "outputs": [
    {
     "ename": "ValueError",
     "evalue": "array split does not result in an equal division",
     "output_type": "error",
     "traceback": [
      "\u001b[1;31m---------------------------------------------------------------------------\u001b[0m",
      "\u001b[1;31mValueError\u001b[0m                                Traceback (most recent call last)",
      "Cell \u001b[1;32mIn[27], line 2\u001b[0m\n\u001b[0;32m      1\u001b[0m arr \u001b[38;5;241m=\u001b[39m np\u001b[38;5;241m.\u001b[39marray([\u001b[38;5;241m10\u001b[39m ,\u001b[38;5;241m20\u001b[39m ,\u001b[38;5;241m30\u001b[39m, \u001b[38;5;241m40\u001b[39m, \u001b[38;5;241m50\u001b[39m ,\u001b[38;5;241m60\u001b[39m ,\u001b[38;5;241m70\u001b[39m, \u001b[38;5;241m80\u001b[39m])\n\u001b[1;32m----> 2\u001b[0m new \u001b[38;5;241m=\u001b[39m np\u001b[38;5;241m.\u001b[39msplit(arr , \u001b[38;5;241m10\u001b[39m) \u001b[38;5;66;03m# array li length sy ziyada parts ma divide kia ti value error ay ga\u001b[39;00m\n\u001b[0;32m      3\u001b[0m \u001b[38;5;28mprint\u001b[39m(new)\n",
      "File \u001b[1;32m~\\anaconda3\\Lib\\site-packages\\numpy\\lib\\shape_base.py:864\u001b[0m, in \u001b[0;36msplit\u001b[1;34m(ary, indices_or_sections, axis)\u001b[0m\n\u001b[0;32m    862\u001b[0m     N \u001b[38;5;241m=\u001b[39m ary\u001b[38;5;241m.\u001b[39mshape[axis]\n\u001b[0;32m    863\u001b[0m     \u001b[38;5;28;01mif\u001b[39;00m N \u001b[38;5;241m%\u001b[39m sections:\n\u001b[1;32m--> 864\u001b[0m         \u001b[38;5;28;01mraise\u001b[39;00m \u001b[38;5;167;01mValueError\u001b[39;00m(\n\u001b[0;32m    865\u001b[0m             \u001b[38;5;124m'\u001b[39m\u001b[38;5;124marray split does not result in an equal division\u001b[39m\u001b[38;5;124m'\u001b[39m) \u001b[38;5;28;01mfrom\u001b[39;00m \u001b[38;5;28;01mNone\u001b[39;00m\n\u001b[0;32m    866\u001b[0m \u001b[38;5;28;01mreturn\u001b[39;00m array_split(ary, indices_or_sections, axis)\n",
      "\u001b[1;31mValueError\u001b[0m: array split does not result in an equal division"
     ]
    }
   ],
   "source": [
    "arr = np.array([10 ,20 ,30, 40, 50 ,60 ,70, 80])\n",
    "new = np.split(arr , 10) # array li length sy ziyada parts ma divide kia ti value error ay ga\n",
    "print(new)"
   ]
  },
  {
   "cell_type": "code",
   "execution_count": 28,
   "id": "d46128e8-33f5-495c-8cc8-9713d89e8957",
   "metadata": {},
   "outputs": [
    {
     "name": "stdout",
     "output_type": "stream",
     "text": [
      "[array([10, 20, 30, 40]), array([50, 60, 70, 80])]\n"
     ]
    }
   ],
   "source": [
    "# np.hsplit()\n",
    "arr = np.array([10 ,20 ,30, 40, 50 ,60 ,70, 80])\n",
    "new = np.hsplit(arr , 2) # 2 parts am divide krp\n",
    "print(new)"
   ]
  },
  {
   "cell_type": "code",
   "execution_count": 35,
   "id": "08d27d3f-462f-48df-b3bd-074cb3ae4fce",
   "metadata": {},
   "outputs": [
    {
     "name": "stdout",
     "output_type": "stream",
     "text": [
      "[array([[1, 2, 3, 0],\n",
      "       [4, 5, 6, 0]]), array([[1, 2, 3, 0],\n",
      "       [4, 5, 6, 0]])]\n"
     ]
    }
   ],
   "source": [
    "# np.vsplit()\n",
    "arr = np.array([[1,2,3,0],\n",
    "                   [4,5,6,0],\n",
    "                   [1,2,3,0],\n",
    "                   [4,5,6,0]])\n",
    "new = np.vsplit(arr , 2) # 2 parts am divide krp\n",
    "print(new)"
   ]
  },
  {
   "cell_type": "code",
   "execution_count": 43,
   "id": "a237d8e7-cf8e-4507-82b6-f11722b4a36c",
   "metadata": {},
   "outputs": [
    {
     "name": "stdout",
     "output_type": "stream",
     "text": [
      "[90.0, 180.0, 270.0]\n",
      "270.0\n"
     ]
    }
   ],
   "source": [
    "# brodcasting\n",
    "prices = [100,200,300]\n",
    "discount = 10\n",
    "final = []\n",
    "for price in prices:\n",
    "    discounted = price - (price * discount/100)\n",
    "    final.append(discounted)\n",
    "\n",
    "print(final)\n"
   ]
  },
  {
   "cell_type": "code",
   "execution_count": 47,
   "id": "26a3be6e-df57-4ef6-9eec-4298b2628d5c",
   "metadata": {},
   "outputs": [
    {
     "name": "stdout",
     "output_type": "stream",
     "text": [
      "[ 90. 180. 270. 360.]\n"
     ]
    }
   ],
   "source": [
    "# solution\n",
    "prices = np.array([100,200,300 , 400])\n",
    "discount = 10\n",
    "finall =  prices - (prices * discount/100)\n",
    "print(finall)"
   ]
  },
  {
   "cell_type": "code",
   "execution_count": 48,
   "id": "d65d634c-a2ce-4c35-b4b8-c9b1949d7c94",
   "metadata": {},
   "outputs": [
    {
     "name": "stdout",
     "output_type": "stream",
     "text": [
      "[200 400 600 800]\n"
     ]
    }
   ],
   "source": [
    "# single value\n",
    "arr = np.array([100,200,300 , 400])\n",
    "result = arr * 2\n",
    "print(result)"
   ]
  },
  {
   "cell_type": "code",
   "execution_count": 50,
   "id": "43d4fa48-7996-4dae-9ce4-8fd024f09eb9",
   "metadata": {},
   "outputs": [
    {
     "name": "stdout",
     "output_type": "stream",
     "text": [
      "[[11 22 33]\n",
      " [14 25 36]]\n"
     ]
    }
   ],
   "source": [
    "# 1d to 2d\n",
    "# expanding element\n",
    "arr = np.array([[1,2,3],\n",
    "                   [4,5,6]])\n",
    "vector = np.array([10,20,30])\n",
    "result =  arr + vector\n",
    "print(result)\n",
    "                "
   ]
  },
  {
   "cell_type": "code",
   "execution_count": 51,
   "id": "c03a7f9a-c7e6-4efa-8a5f-2f0eb02b49e9",
   "metadata": {},
   "outputs": [
    {
     "ename": "ValueError",
     "evalue": "operands could not be broadcast together with shapes (2,3) (2,) ",
     "output_type": "error",
     "traceback": [
      "\u001b[1;31m---------------------------------------------------------------------------\u001b[0m",
      "\u001b[1;31mValueError\u001b[0m                                Traceback (most recent call last)",
      "Cell \u001b[1;32mIn[51], line 5\u001b[0m\n\u001b[0;32m      2\u001b[0m arr1 \u001b[38;5;241m=\u001b[39m np\u001b[38;5;241m.\u001b[39marray([[\u001b[38;5;241m1\u001b[39m,\u001b[38;5;241m2\u001b[39m,\u001b[38;5;241m3\u001b[39m],\n\u001b[0;32m      3\u001b[0m                    [\u001b[38;5;241m4\u001b[39m,\u001b[38;5;241m5\u001b[39m,\u001b[38;5;241m6\u001b[39m]])\n\u001b[0;32m      4\u001b[0m arr2 \u001b[38;5;241m=\u001b[39m np\u001b[38;5;241m.\u001b[39marray([\u001b[38;5;241m1\u001b[39m,\u001b[38;5;241m2\u001b[39m])\n\u001b[1;32m----> 5\u001b[0m result \u001b[38;5;241m=\u001b[39m arr1 \u001b[38;5;241m+\u001b[39m arr2\n\u001b[0;32m      6\u001b[0m \u001b[38;5;28mprint\u001b[39m(result)\n",
      "\u001b[1;31mValueError\u001b[0m: operands could not be broadcast together with shapes (2,3) (2,) "
     ]
    }
   ],
   "source": [
    "# incompatible shape => eror\n",
    "arr1 = np.array([[1,2,3],\n",
    "                   [4,5,6]])\n",
    "arr2 = np.array([1,2])\n",
    "result = arr1 + arr2\n",
    "print(result)"
   ]
  },
  {
   "cell_type": "code",
   "execution_count": 6,
   "id": "e100f52a-be2a-4fd9-ae2f-0d390377cc3c",
   "metadata": {},
   "outputs": [
    {
     "name": "stdout",
     "output_type": "stream",
     "text": [
      "[[1]\n",
      " [2]]\n",
      "[[2 3 4]\n",
      " [6 7 8]]\n"
     ]
    }
   ],
   "source": [
    "import numpy as np\n",
    "arr1 = np.array([[1,2,3],\n",
    "                   [4,5,6]])\n",
    "\n",
    "arr2 = np.array([1,2]).reshape(2,1)\n",
    "print(arr2)\n",
    "\n",
    "result = arr1 + arr2\n",
    "print(result)"
   ]
  },
  {
   "cell_type": "code",
   "execution_count": 8,
   "id": "a4472fc3-e6d9-476b-ad12-e1b0815285b6",
   "metadata": {},
   "outputs": [
    {
     "name": "stdout",
     "output_type": "stream",
     "text": [
      "[5, 7, 9]\n"
     ]
    }
   ],
   "source": [
    "# vectorization\n",
    "l1=[1,2,3]\n",
    "l2=[4,5,6]\n",
    "result = [x + y for x,y in zip(l1 , l2) ]\n",
    "print(result)\n"
   ]
  },
  {
   "cell_type": "code",
   "execution_count": 9,
   "id": "0ab1e63e-99c3-40f6-818d-454a9c0fe321",
   "metadata": {},
   "outputs": [
    {
     "name": "stdout",
     "output_type": "stream",
     "text": [
      "[5 7 9]\n"
     ]
    }
   ],
   "source": [
    "# fast vectorization approach\n",
    "arr1=np.array([1,2,3])\n",
    "arr2=np.array([4,5,6])\n",
    "result = arr1 + arr2\n",
    "print(result)"
   ]
  },
  {
   "cell_type": "code",
   "execution_count": 11,
   "id": "633b9c66-2200-4559-96e2-1a91b1ef6518",
   "metadata": {},
   "outputs": [
    {
     "name": "stdout",
     "output_type": "stream",
     "text": [
      "[ 4 10 18]\n",
      "[3 6 9]\n"
     ]
    }
   ],
   "source": [
    "arr1=np.array([1,2,3])\n",
    "arr2=np.array([4,5,6])\n",
    "result = arr1 * arr2\n",
    "print(result)\n",
    "\n",
    "arr1=np.array([1,2,3])\n",
    "print(arr1*3)"
   ]
  },
  {
   "cell_type": "code",
   "execution_count": 13,
   "id": "d011ace2-9afe-48bb-b9e1-fe2407230c1e",
   "metadata": {},
   "outputs": [
    {
     "name": "stdout",
     "output_type": "stream",
     "text": [
      "[False False  True False  True False]\n"
     ]
    }
   ],
   "source": [
    "# handling missing values\n",
    "arr = np.array([1,2, np.nan , 4 , np.nan , 6])\n",
    "print(np.isnan(arr)) # true means is position ma value missing ha"
   ]
  },
  {
   "cell_type": "code",
   "execution_count": 14,
   "id": "d1bb4521-a940-4fd7-ac4d-6cf0e76a9038",
   "metadata": {},
   "outputs": [
    {
     "name": "stdout",
     "output_type": "stream",
     "text": [
      "[1. 2. 4. 6.]\n"
     ]
    }
   ],
   "source": [
    "# filter out nan values\n",
    "arr = np.array([1,2, np.nan , 4 , np.nan , 6])\n",
    "cleaned = arr[~np.isnan(arr)]\n",
    "print(cleaned)"
   ]
  },
  {
   "cell_type": "code",
   "execution_count": null,
   "id": "b34dc3c1-3536-4ec4-b447-9eeae06a7d95",
   "metadata": {},
   "outputs": [],
   "source": [
    "a"
   ]
  },
  {
   "cell_type": "code",
   "execution_count": 15,
   "id": "f2eab8ae-c325-4cc5-8d3c-a481ed28ed35",
   "metadata": {},
   "outputs": [
    {
     "name": "stdout",
     "output_type": "stream",
     "text": [
      "[1. 2. 0. 4. 0. 6.]\n"
     ]
    }
   ],
   "source": [
    "# replace nan values\n",
    "\n",
    "arr = np.array([1,2, np.nan , 4 , np.nan , 6])\n",
    "arr[np.isnan(arr)]=0\n",
    "print(arr)"
   ]
  },
  {
   "cell_type": "code",
   "execution_count": 18,
   "id": "745fb767-e1f3-41a9-a116-987fd5e942a9",
   "metadata": {},
   "outputs": [
    {
     "name": "stdout",
     "output_type": "stream",
     "text": [
      "[  1.   2. 100.   4. 100.   6.]\n"
     ]
    }
   ],
   "source": [
    "arr = np.array([1,2, np.nan , 4 , np.nan , 6])\n",
    "replace = np.nan_to_num(arr , nan=100)\n",
    "print(replace)"
   ]
  },
  {
   "cell_type": "code",
   "execution_count": 19,
   "id": "6cf95376-9736-43f4-9097-a7b880ba5db0",
   "metadata": {},
   "outputs": [
    {
     "name": "stdout",
     "output_type": "stream",
     "text": [
      "[False False  True False  True False]\n"
     ]
    }
   ],
   "source": [
    "# infinite number  => 10*100 1/0\n",
    "arr = np.array([1,2,np.inf , 4, -np.inf , 6])\n",
    "print(np.isinf(arr))"
   ]
  },
  {
   "cell_type": "code",
   "execution_count": 20,
   "id": "5a914ab7-93cb-4c1e-9798-7b6e6feee685",
   "metadata": {},
   "outputs": [
    {
     "name": "stdout",
     "output_type": "stream",
     "text": [
      "[False False  True False  True False]\n",
      "[    1.     2.  1000.     4. -1000.     6.]\n"
     ]
    }
   ],
   "source": [
    "# replace infinite number to a finite number\n",
    "arr = np.array([1,2,np.inf , 4, -np.inf , 6])\n",
    "print(np.isinf(arr))\n",
    "replace = np.nan_to_num(arr , posinf =1000 , neginf = -1000) # posinf => positive infinity\n",
    "print(replace)"
   ]
  }
 ],
 "metadata": {
  "kernelspec": {
   "display_name": "Python [conda env:base] *",
   "language": "python",
   "name": "conda-base-py"
  },
  "language_info": {
   "codemirror_mode": {
    "name": "ipython",
    "version": 3
   },
   "file_extension": ".py",
   "mimetype": "text/x-python",
   "name": "python",
   "nbconvert_exporter": "python",
   "pygments_lexer": "ipython3",
   "version": "3.12.7"
  }
 },
 "nbformat": 4,
 "nbformat_minor": 5
}
