{
 "cells": [
  {
   "cell_type": "code",
   "execution_count": 12,
   "id": "a72e6d5e-bc7c-41f7-a51a-3248d4873e4f",
   "metadata": {},
   "outputs": [
    {
     "name": "stdout",
     "output_type": "stream",
     "text": [
      "[0 1 2 3 4 5 6 7 8 9]\n"
     ]
    }
   ],
   "source": [
    "import numpy as np\n",
    "\n",
    " # Create a 1D NumPy array of numbers from 0 to 9.\n",
    "arr = np.arange(0 , 10)\n",
    "print(arr)\n",
    "\n",
    "\n"
   ]
  },
  {
   "cell_type": "code",
   "execution_count": 14,
   "id": "5515421f-7ac7-4cd2-8585-8fb4b84605ad",
   "metadata": {},
   "outputs": [
    {
     "name": "stdout",
     "output_type": "stream",
     "text": [
      "[[ True  True  True]\n",
      " [ True  True  True]\n",
      " [ True  True  True]]\n"
     ]
    }
   ],
   "source": [
    "# Create a 3x3 array of all True values.\n",
    "arr = np.full([3,3] , True)\n",
    "print(arr)"
   ]
  },
  {
   "cell_type": "code",
   "execution_count": 18,
   "id": "2cb5cc9b-b8c2-404b-8816-92abaef40347",
   "metadata": {},
   "outputs": [
    {
     "name": "stdout",
     "output_type": "stream",
     "text": [
      "[60 92 10 50 18  8  8 56 31 83]\n"
     ]
    }
   ],
   "source": [
    "# Create an array of 10 random integers between 1 and 100.\n",
    "arr = np.random.randint(1 , 101,size = 10)\n",
    "print(arr)"
   ]
  },
  {
   "cell_type": "code",
   "execution_count": 25,
   "id": "5950b093-f77e-40f0-9f1f-09e5e34536ea",
   "metadata": {},
   "outputs": [
    {
     "name": "stdout",
     "output_type": "stream",
     "text": [
      "Dimension :  2\n",
      "Shape  :  (3, 3)\n",
      "Size  :  9\n",
      "Data type  :  int32\n"
     ]
    }
   ],
   "source": [
    "# Print the dimension ,  shape, size, and data type of a 2D array.\n",
    "arr_2d = np.array([[1,2,3],\n",
    "                  [4,5,6],\n",
    "                  [7,8,9]])\n",
    "print(\"Dimension : \" , arr_2d.ndim)\n",
    "print(\"Shape  : \" , arr_2d.shape)\n",
    "print(\"Size  : \" , arr_2d.size)\n",
    "print(\"Data type  : \" , arr_2d.dtype)"
   ]
  },
  {
   "cell_type": "code",
   "execution_count": 30,
   "id": "6df76c0c-b19b-4dff-b775-b19674ba6338",
   "metadata": {},
   "outputs": [
    {
     "name": "stdout",
     "output_type": "stream",
     "text": [
      "[[0. 0. 0. 0.]\n",
      " [0. 0. 0. 0.]\n",
      " [0. 0. 0. 0.]\n",
      " [0. 0. 0. 0.]]\n",
      "Data type  :  float64\n",
      "Change Data type  :  [[0 0 0 0]\n",
      " [0 0 0 0]\n",
      " [0 0 0 0]\n",
      " [0 0 0 0]]\n"
     ]
    }
   ],
   "source": [
    "# Create a 4x4 array of zeros and change the data type to int32.\n",
    "arr = np.zeros([4,4])\n",
    "print(arr ) \n",
    "print(\"Data type  : \" , arr.dtype)\n",
    "print(\"Change Data type  : \" , arr.astype(int))"
   ]
  },
  {
   "cell_type": "code",
   "execution_count": 36,
   "id": "f4c8c868-1a33-44d8-8f3b-8ffe10f179cb",
   "metadata": {},
   "outputs": [
    {
     "name": "stdout",
     "output_type": "stream",
     "text": [
      "[ 1  2  3  4  5  6  7  8  9 10 11 12]\n",
      "[[ 1  2  3  4]\n",
      " [ 5  6  7  8]\n",
      " [ 9 10 11 12]]\n"
     ]
    }
   ],
   "source": [
    " # Create a 1D array of 12 elements and reshape it into a 3x4 matrix\n",
    "arr = np.arange(1,13)\n",
    "print(arr)\n",
    "reshape = arr.reshape(3,4)\n",
    "print(reshape)"
   ]
  },
  {
   "cell_type": "code",
   "execution_count": 48,
   "id": "5ced014f-7caa-4189-bd6a-138a4885fbb4",
   "metadata": {},
   "outputs": [
    {
     "name": "stdout",
     "output_type": "stream",
     "text": [
      "[[0 1 2]\n",
      " [3 4 5]\n",
      " [6 7 8]]\n",
      "\n",
      "\n",
      "[3 4 5]\n",
      "[2 5 8]\n"
     ]
    }
   ],
   "source": [
    "# Extract the second row and third column from a 3x3 array.\n",
    "arr = np.arange(9).reshape([3,3])\n",
    "print(arr)\n",
    "print(\"\\n\")\n",
    "\n",
    "row = arr[1 ,:]\n",
    "print(row)\n",
    "col = arr[: , 2]\n",
    "print(col)"
   ]
  },
  {
   "cell_type": "code",
   "execution_count": 68,
   "id": "a1e40d53-650d-4448-8c40-a1e2107f78f0",
   "metadata": {
    "scrolled": true
   },
   "outputs": [
    {
     "name": "stdout",
     "output_type": "stream",
     "text": [
      "[[0 0 0 0 0]\n",
      " [0 0 0 0 0]\n",
      " [0 0 0 0 0]\n",
      " [0 0 0 0 0]\n",
      " [0 0 0 0 0]]\n",
      "\n",
      "\n",
      "[[0 0 0 0 0]\n",
      " [0 1 1 1 0]\n",
      " [0 1 1 1 0]\n",
      " [0 1 1 1 0]\n",
      " [0 0 0 0 0]]\n"
     ]
    }
   ],
   "source": [
    "# Create a 5x5 matrix and set the inner 3x3 to ones, while keeping border as zeros.\n",
    "arr = np.zeros((5,5),dtype= int)\n",
    "print(arr)\n",
    "print(\"\\n\")\n",
    "arr[1:4 , 1:4] = 1 # Row start : row end , col start : col end\n",
    "print(arr)"
   ]
  },
  {
   "cell_type": "code",
   "execution_count": 75,
   "id": "bc8ea679-62d0-40ac-91ba-a10d1fca3572",
   "metadata": {},
   "outputs": [
    {
     "name": "stdout",
     "output_type": "stream",
     "text": [
      "add :  [[ 8 10 12]\n",
      " [ 8 10 12]]\n",
      "sun :  [[-6 -6 -6]\n",
      " [ 0  0  0]]\n",
      "mult :  [[ 7 16 27]\n",
      " [16 25 36]]\n",
      "div :  [[0.14285714 0.25       0.33333333]\n",
      " [1.         1.         1.        ]]\n"
     ]
    }
   ],
   "source": [
    "# Perform element-wise addition, subtraction, multiplication, and division\n",
    "# between two arrays of the same shape.\n",
    "arr1 = np.array([[1,2,3],\n",
    "                  [4,5,6]])\n",
    "arr2 = np.array([[7,8,9],\n",
    "                 [4,5,6]])\n",
    "print( \"add : \" , arr1 + arr2 )\n",
    "print( \"sun : \" , arr1 - arr2 )\n",
    "print( \"mult : \" , arr1 * arr2 )\n",
    "print( \"div : \" , arr1 / arr2 )\n"
   ]
  },
  {
   "cell_type": "code",
   "execution_count": 76,
   "id": "3614c5f6-fb3f-4ab2-ba21-d5de7b221bd9",
   "metadata": {},
   "outputs": [
    {
     "name": "stdout",
     "output_type": "stream",
     "text": [
      "[-1.41421356 -0.70710678  0.          0.70710678  1.41421356]\n"
     ]
    }
   ],
   "source": [
    "#Normalize a 1D array(subtract mean and divide by standard deviation).normalized_arr=(arr - mean)/std\n",
    "\n",
    "arr = np.array([10, 20, 30, 40, 50])\n",
    "mean = np.mean(arr)\n",
    "std = np.std(arr)\n",
    "normalized_arr=(arr - mean)/std\n",
    "print(normalized_arr)"
   ]
  },
  {
   "cell_type": "code",
   "execution_count": 84,
   "id": "bcc3e92f-e7a0-4784-9e80-0266a60375d1",
   "metadata": {},
   "outputs": [
    {
     "name": "stdout",
     "output_type": "stream",
     "text": [
      "mean : 30.0\n",
      "median : 30.0\n",
      "standard deviation : 14.142135623730951\n"
     ]
    }
   ],
   "source": [
    "# Find the mean, median, and standard deviation of a given array.\n",
    "arr = np.array([10, 20, 30, 40, 50])\n",
    "mean = np.mean(arr)\n",
    "median =np.median(arr)\n",
    "std = np.std(arr)\n",
    "print(f\"mean : {mean}\")\n",
    "print(f\"median : {median}\")\n",
    "print(f\"standard deviation : {std}\")"
   ]
  },
  {
   "cell_type": "code",
   "execution_count": 87,
   "id": "f1b62712-1900-4981-a755-c151de9ace8e",
   "metadata": {},
   "outputs": [
    {
     "name": "stdout",
     "output_type": "stream",
     "text": [
      "index of maximum element : 4\n",
      "index of minimum element : 0\n"
     ]
    }
   ],
   "source": [
    "# Find the indices of the maximum and minimum elements in an array.\n",
    "arr = np.array([10, 20, 30, 40, 50])\n",
    "max = np.argmax(arr)\n",
    "print(f\"index of maximum element : {max}\")\n",
    "\n",
    "min = np.argmin(arr)\n",
    "print(f\"index of minimum element : {min}\")"
   ]
  },
  {
   "cell_type": "code",
   "execution_count": 97,
   "id": "6b66d1c0-5c57-453f-a018-f402d9bd6928",
   "metadata": {},
   "outputs": [
    {
     "name": "stdout",
     "output_type": "stream",
     "text": [
      "[10 17 10  4  1  8 19  3 18 15  9  9 15 10  2]\n",
      "[False False False  True  True  True False  True False False  True  True\n",
      " False False  True]\n"
     ]
    }
   ],
   "source": [
    "# Create a random array of 15 integers and filter out all values less than 10.\n",
    "arr = np.random.randint ( 1 , 20 , size = 15)\n",
    "print(arr)\n",
    "filter = arr[arr < 10]\n",
    "print(arr < 10)"
   ]
  },
  {
   "cell_type": "code",
   "execution_count": 101,
   "id": "4aa09fdc-c1c1-4ca8-8fc5-2f0160c5f89f",
   "metadata": {},
   "outputs": [
    {
     "name": "stdout",
     "output_type": "stream",
     "text": [
      "[58 22 71 42 10 17 65 15 30 19]\n",
      "[50 22 50 42 10 17 50 15 30 19]\n"
     ]
    }
   ],
   "source": [
    "# Replace all values greater than 50 with 50 in a given array\n",
    "\n",
    "arr = np.random.randint ( 1 , 80 , size = 10)\n",
    "print(arr)\n",
    "arr[arr > 50 ] = 50\n",
    "print(arr)"
   ]
  },
  {
   "cell_type": "code",
   "execution_count": 102,
   "id": "5c1c0064-a7c4-4705-8030-5ef48f31c144",
   "metadata": {},
   "outputs": [
    {
     "name": "stdout",
     "output_type": "stream",
     "text": [
      "[[ 2  4  6]\n",
      " [ 5  7  9]\n",
      " [ 8 10 12]]\n"
     ]
    }
   ],
   "source": [
    "#  Broadcasting =>Add a 1D array [1,2,3] to each row of a 3x3 matrix.\n",
    "arr1 =np.array([1,2,3])\n",
    "arr2 = np.array([[1,2,3],\n",
    "                  [4,5,6],\n",
    "                  [7,8,9]])\n",
    "print(arr1 + arr2)\n",
    "\n"
   ]
  },
  {
   "cell_type": "code",
   "execution_count": 103,
   "id": "ce09822f-e29e-4486-958a-addd52eae2b6",
   "metadata": {},
   "outputs": [
    {
     "name": "stdout",
     "output_type": "stream",
     "text": [
      "[[19 22]\n",
      " [43 50]]\n"
     ]
    }
   ],
   "source": [
    "# Multiply two matrices using dot product\n",
    "A = np.array([[1, 2],\n",
    "              [3, 4]])\n",
    "\n",
    "B = np.array([[5, 6],\n",
    "              [7, 8]])\n",
    "# multiply using fot product\n",
    "result = np.dot(A , B)\n",
    "print(result)"
   ]
  },
  {
   "cell_type": "code",
   "execution_count": 110,
   "id": "2ccf8c10-7483-49e3-90c9-b17308841bed",
   "metadata": {},
   "outputs": [
    {
     "name": "stdout",
     "output_type": "stream",
     "text": [
      "[[8 1 5 3]\n",
      " [3 3 5 6]\n",
      " [1 6 9 1]\n",
      " [9 4 9 1]]\n",
      "Even rows : [[3 3 5 6]\n",
      " [9 4 9 1]]\n",
      "odd columns : [[8 1 5 3]\n",
      " [1 6 9 1]]\n"
     ]
    }
   ],
   "source": [
    "# Given a 4x4 matrix, extract all even-numbered rows and odd-numbered columns.\n",
    "arr = np.random.randint( 1, 10 , size = [4,4])\n",
    "print(arr)\n",
    "even_rows =arr[1::2]\n",
    "print(f\"Even rows : {even_rows}\")\n",
    "\n",
    "odd_col =arr[0::2]\n",
    "print(f\"odd columns : {odd_col}\")"
   ]
  },
  {
   "cell_type": "code",
   "execution_count": 117,
   "id": "70a8968d-ea34-4ae8-82b5-bc0c601f6b10",
   "metadata": {},
   "outputs": [
    {
     "name": "stdout",
     "output_type": "stream",
     "text": [
      "union : [0 1 2 3 4 7 8]\n",
      "intersection : [2 3]\n",
      "set_difference : [7 8]\n"
     ]
    }
   ],
   "source": [
    "# Find the union, intersection, and set difference between two 1D arrays\n",
    "arr1 = np.random.randint(1 , 10 , size = 6)\n",
    "arr1 = np.random.randint(1 , 10 , size = 6)\n",
    "\n",
    "union = np.union1d(arr1 , arr2)\n",
    "intersection = np.intersect1d(arr1 , arr2)\n",
    "set_difference = np.setdiff1d(arr1 , arr2)\n",
    "print(f\"union : {union}\")\n",
    "print(f\"intersection : {intersection}\")\n",
    "print(f\"set_difference : {set_difference}\")"
   ]
  },
  {
   "cell_type": "code",
   "execution_count": 125,
   "id": "d3454d2f-dee6-400d-b3aa-1761480051bd",
   "metadata": {},
   "outputs": [
    {
     "name": "stdout",
     "output_type": "stream",
     "text": [
      "[ 6 15 24]\n",
      "[7 8 9]\n"
     ]
    }
   ],
   "source": [
    "# Write a NumPy function that takes a 2D array and returns the row with the highest_sum\n",
    "\n",
    "arr_2d = np.array([[1,2,3],\n",
    "                  [4,5,6],\n",
    "                  [7,8,9]])\n",
    "Row_sum = np.sum(arr_2d , axis =1)\n",
    "print(Row_sum)\n",
    "max_index = np.argmax(Row_sum)\n",
    "print(arr_2d[max_index])"
   ]
  },
  {
   "cell_type": "code",
   "execution_count": 139,
   "id": "647be385-aae4-4429-bfbc-4636d9342012",
   "metadata": {},
   "outputs": [
    {
     "name": "stdout",
     "output_type": "stream",
     "text": [
      "Array:\n",
      " [[4 6 3 1 4 6 5 7 1 5]\n",
      " [5 3 5 7 4 5 7 5 8 9]\n",
      " [7 2 5 4 2 1 1 2 6 8]\n",
      " [9 4 1 7 6 9 2 4 6 8]\n",
      " [1 1 3 7 6 9 3 6 3 8]\n",
      " [7 7 3 5 6 4 7 8 3 2]\n",
      " [1 2 6 6 4 3 4 3 5 2]\n",
      " [7 1 6 5 9 4 9 6 1 4]\n",
      " [1 4 1 7 7 7 3 3 2 3]\n",
      " [2 2 2 1 2 1 4 5 9 2]]\n",
      "Flattened index of max element: 19\n",
      "Position of max element (row, column): (1, 9)\n",
      "Maximum element value: 9\n"
     ]
    }
   ],
   "source": [
    "\"\"\" Generate a 10x10 array with random values and find the \n",
    "position (row, column) of the maximum element. \"\"\"\n",
    "\n",
    "\n",
    "# Step 1\n",
    "arr = np.random.randint(1, 10, size=[10, 10])\n",
    "print(\"Array:\\n\", arr)\n",
    "\n",
    "# Step 2\n",
    "max_index = np.argmax(arr)\n",
    "print(\"Flattened index of max element:\", max_index)\n",
    "\n",
    "# Step 4\n",
    "max_position = np.unravel_index(max_index , arr.shape)\n",
    "print(\"Position of max element (row, column):\", max_position)\n",
    "\n",
    "# Step 5\n",
    "print(\"Maximum element value:\", arr[max_position])\n"
   ]
  }
 ],
 "metadata": {
  "kernelspec": {
   "display_name": "Python [conda env:base] *",
   "language": "python",
   "name": "conda-base-py"
  },
  "language_info": {
   "codemirror_mode": {
    "name": "ipython",
    "version": 3
   },
   "file_extension": ".py",
   "mimetype": "text/x-python",
   "name": "python",
   "nbconvert_exporter": "python",
   "pygments_lexer": "ipython3",
   "version": "3.12.7"
  }
 },
 "nbformat": 4,
 "nbformat_minor": 5
}
