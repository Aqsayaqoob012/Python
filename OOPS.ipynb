{
 "cells": [
  {
   "cell_type": "code",
   "execution_count": 3,
   "id": "1c5caf9d-735e-4414-97d0-032a8a9ebc78",
   "metadata": {},
   "outputs": [
    {
     "name": "stdout",
     "output_type": "stream",
     "text": [
      "<__main__.Student object at 0x0000023E468828A0>\n",
      "Aqsa\n",
      "<__main__.Student object at 0x0000023E46B43890>\n",
      "Aqsa\n"
     ]
    }
   ],
   "source": [
    "class Student:\n",
    "    name = \"Aqsa\"\n",
    "\n",
    "s1=Student()\n",
    "print(s1)\n",
    "print(s1.name)\n",
    "\n",
    "s2=Student()\n",
    "print(s2)\n",
    "print(s2.name)"
   ]
  },
  {
   "cell_type": "code",
   "execution_count": 10,
   "id": "d6714cb0-05df-4de7-93f2-d33397216a36",
   "metadata": {},
   "outputs": [
    {
     "name": "stdout",
     "output_type": "stream",
     "text": [
      "<__main__.Student object at 0x0000023E4585CFE0>\n",
      "adding new student in database\n",
      "<__main__.Student object at 0x0000023E4585CFE0>\n"
     ]
    }
   ],
   "source": [
    "class Student:\n",
    "    name = \"Aqsa\"\n",
    "    def __init__(self):\n",
    "        print(self)\n",
    "        print(\"adding new student in database\")\n",
    "   \n",
    "\n",
    "s1=Student()\n",
    "print(s1)\n"
   ]
  },
  {
   "cell_type": "code",
   "execution_count": 19,
   "id": "fccef318-53e2-487f-a9d3-3d33b822fb32",
   "metadata": {},
   "outputs": [
    {
     "name": "stdout",
     "output_type": "stream",
     "text": [
      "adding new student in database\n",
      "Aqsa 97\n",
      "adding new student in database\n",
      "erum 99\n"
     ]
    }
   ],
   "source": [
    "class Student:\n",
    "\n",
    "    def __init__(self ):\n",
    "        # print(\"default\")\n",
    "        pass\n",
    "\n",
    "    def __init__(self , fullname , marks):\n",
    "        self.name =  fullname\n",
    "        self.marks = marks\n",
    "        print(\"adding new student in database\")\n",
    "   \n",
    "\n",
    "s1=Student(\"Aqsa\" , 97)\n",
    "print(s1.name , s1.marks)\n",
    "\n",
    "s2=Student(\"erum\" ,99)\n",
    "print(s2.name , s2.marks)"
   ]
  },
  {
   "cell_type": "markdown",
   "id": "748b8a49-6bc8-4377-aeda-e53b204cf16a",
   "metadata": {},
   "source": [
    "## **Atrributes**"
   ]
  },
  {
   "cell_type": "code",
   "execution_count": 31,
   "id": "23ee427e-4304-49e4-91e2-351e6ce4adb4",
   "metadata": {},
   "outputs": [
    {
     "name": "stdout",
     "output_type": "stream",
     "text": [
      "adding new student in database\n",
      "Aqsa 97 ABC College\n",
      "adding new student in database\n",
      "erum 99 ABC College\n",
      "ABC College\n"
     ]
    }
   ],
   "source": [
    "class Student:\n",
    "    college_name = \"ABC College\"# class attribute jo hr object ky lia same ho ga\n",
    "    name = \"anonymous\" # agr kisi ny nme nahi likha tu bu default ya name ho ga \n",
    "    #jb same name ka class and object attribute hota ha tu object attribute ki precedence class attribute sy high hoti ha\n",
    "\n",
    "    def __init__(self , fullname , marks):\n",
    "        self.name =  fullname # instance attribute jo sb ky lia different ho ga\n",
    "        self.marks = marks # obj attr > class attr\n",
    "        print(\"adding new student in database\")\n",
    "   \n",
    "\n",
    "s1=Student(\"Aqsa\" , 97)\n",
    "print(s1.name , s1.marks , s1.college_name)\n",
    "\n",
    "s2=Student(\"erum\" ,99)\n",
    "print(s2.name , s2.marks , s2.college_name)\n",
    "\n",
    "\n",
    "print(Student.college_name)"
   ]
  },
  {
   "cell_type": "markdown",
   "id": "9ac92879-b637-416b-a779-02d9d54b52b1",
   "metadata": {},
   "source": [
    " ## **Methods**"
   ]
  },
  {
   "cell_type": "code",
   "execution_count": 41,
   "id": "aba3b639-f08f-48a5-8f08-ddb49cf0d776",
   "metadata": {},
   "outputs": [
    {
     "name": "stdout",
     "output_type": "stream",
     "text": [
      "Welcome Student  Aqsa\n",
      "97\n"
     ]
    }
   ],
   "source": [
    "\n",
    "class Student:\n",
    "    def __init__(self , fullname , marks):\n",
    "        self.name =  fullname\n",
    "        self.marks = marks\n",
    "    def welcome(self):\n",
    "        print(\"Welcome Student \" , self.name )\n",
    "\n",
    "    def get_marks(self):\n",
    "        return self.marks\n",
    "   \n",
    "\n",
    "s1=Student(\"Aqsa\" , 97)\n",
    "s1.welcome()\n",
    "print(s1.get_marks())\n"
   ]
  },
  {
   "cell_type": "code",
   "execution_count": 51,
   "id": "9d578bc4-1dc0-4847-9ecd-f10f8ac37630",
   "metadata": {},
   "outputs": [
    {
     "name": "stdout",
     "output_type": "stream",
     "text": [
      " hi , Aqsa , your avg marks is :  88.0\n",
      " hi , errrum , your avg marks is :  88.0\n"
     ]
    }
   ],
   "source": [
    "class student():\n",
    "    \"\"\"def __init__(self , name , bio_marks , phy_marks , chem_marks):\n",
    "        self.name = name\n",
    "        self.bio_marks = bio_marks\n",
    "        self.phy_marks = phy_marks\n",
    "        self.chem_marks = chem_marks \"\"\"\n",
    "    def __init__(self , name , marks):\n",
    "        self.name = name\n",
    "        self.marks =marks\n",
    "\n",
    "    def average(self):\n",
    "        sum = 0\n",
    "        for i in self.marks:\n",
    "            sum +=i\n",
    "            \n",
    "        print(f\" hi , {self.name} , your avg marks is :  { sum/3}\")\n",
    "\n",
    "s1=student(\"Aqsa\" , [99 , 88 , 77] )\n",
    "#print(s1.average())\n",
    "s1.average()\n",
    "\n",
    "# attr ki value ko direct bi change kr skty hain\n",
    "s1.name = \"errrum\"\n",
    "s1.average()\n",
    "\n",
    "        "
   ]
  },
  {
   "cell_type": "markdown",
   "id": "20d028d2-7826-4609-858e-66db75ab9e61",
   "metadata": {},
   "source": [
    " ## Static Methods (don't use self parameter) "
   ]
  },
  {
   "cell_type": "code",
   "execution_count": 55,
   "id": "a011e7aa-ceca-4b9d-8b4d-f16ced380470",
   "metadata": {},
   "outputs": [
    {
     "name": "stdout",
     "output_type": "stream",
     "text": [
      " hi , Aqsa , your avg marks is :  88.0\n",
      "hello\n"
     ]
    }
   ],
   "source": [
    "class student():\n",
    "    def __init__(self , name , marks):\n",
    "        self.name = name\n",
    "        self.marks =marks\n",
    "\n",
    "    @staticmethod\n",
    "    def hello():\n",
    "        print(\"hello\")\n",
    "\n",
    "    def average(self):\n",
    "        sum = 0\n",
    "        for i in self.marks:\n",
    "            sum +=i\n",
    "            \n",
    "        print(f\" hi , {self.name} , your avg marks is :  { sum/3}\")\n",
    "\n",
    "s1=student(\"Aqsa\" , [99 , 88 , 77] )\n",
    "#print(s1.average())\n",
    "s1.average()\n",
    "s1.hello()\n"
   ]
  },
  {
   "cell_type": "markdown",
   "id": "2d4956a7-652d-48eb-900c-01a48fb97ec1",
   "metadata": {},
   "source": [
    "## Abstraction"
   ]
  },
  {
   "cell_type": "code",
   "execution_count": 58,
   "id": "d628e3e3-5b24-4517-97a1-36a1ff451b61",
   "metadata": {},
   "outputs": [
    {
     "name": "stdout",
     "output_type": "stream",
     "text": [
      "car started .... \n"
     ]
    }
   ],
   "source": [
    "class Car:\n",
    "    def __init__(self):\n",
    "        self.acc = False # accelerator\n",
    "        self.brk = False # break\n",
    "        self.clutch =  False\n",
    "        \n",
    "    def start(self):\n",
    "        self.clutch =  True\n",
    "        self.acc = True\n",
    "        print(\"car started .... \")\n",
    "\n",
    "\n",
    "car1 = Car()\n",
    "car1.start()\n",
    "        "
   ]
  },
  {
   "cell_type": "markdown",
   "id": "286d29fb-9119-4f8d-b0b0-78a43237ab0d",
   "metadata": {},
   "source": [
    "## Encapsulation"
   ]
  },
  {
   "cell_type": "code",
   "execution_count": 66,
   "id": "8dd7fff6-7293-4b0e-832e-32da9899f432",
   "metadata": {},
   "outputs": [
    {
     "name": "stdout",
     "output_type": "stream",
     "text": [
      " Rs : 1000 was debited\n",
      " Total balance : 9000\n",
      " Rs : 5000 was credited\n",
      " Total balance : 14000\n"
     ]
    }
   ],
   "source": [
    "class Account:\n",
    "    def __init__(self , balance , acc_no):\n",
    "        self.balance = balance\n",
    "        self.acc_no = acc_no\n",
    "\n",
    "    def debit(self , amount):\n",
    "        self.balance -= amount\n",
    "        print(f\" Rs : {amount} was debited\")\n",
    "        print(\" Total balance :\" , self.get_balance())\n",
    "    def credit(self , amount):\n",
    "        self.balance += amount\n",
    "        print(f\" Rs : {amount} was credited\")\n",
    "        print(\" Total balance :\" , self.get_balance())\n",
    "\n",
    "    def get_balance(self):\n",
    "        return self.balance\n",
    "\n",
    "acc1 = Account(10000 , 24443)\n",
    "acc1.debit(1000)\n",
    "acc1.credit(5000)\n"
   ]
  },
  {
   "cell_type": "markdown",
   "id": "f7210e96-43ff-4832-bb37-a236c1627953",
   "metadata": {},
   "source": [
    "## del Keyword (used to delete object properties or obj itself)"
   ]
  },
  {
   "cell_type": "code",
   "execution_count": 71,
   "id": "4ae947d3-c57f-4992-9ce4-882eb91d3dbe",
   "metadata": {},
   "outputs": [
    {
     "name": "stdout",
     "output_type": "stream",
     "text": [
      "Aqsa\n"
     ]
    },
    {
     "ename": "AttributeError",
     "evalue": "'student' object has no attribute 'name'",
     "output_type": "error",
     "traceback": [
      "\u001b[1;31m---------------------------------------------------------------------------\u001b[0m",
      "\u001b[1;31mAttributeError\u001b[0m                            Traceback (most recent call last)",
      "Cell \u001b[1;32mIn[71], line 8\u001b[0m\n\u001b[0;32m      6\u001b[0m \u001b[38;5;28mprint\u001b[39m(s1\u001b[38;5;241m.\u001b[39mname)\n\u001b[0;32m      7\u001b[0m \u001b[38;5;28;01mdel\u001b[39;00m s1\u001b[38;5;241m.\u001b[39mname\n\u001b[1;32m----> 8\u001b[0m \u001b[38;5;28mprint\u001b[39m(s1\u001b[38;5;241m.\u001b[39mname)\n",
      "\u001b[1;31mAttributeError\u001b[0m: 'student' object has no attribute 'name'"
     ]
    }
   ],
   "source": [
    "class student:\n",
    "    def __init__(self , name):\n",
    "        self.name = name \n",
    "    \n",
    "s1 = student( \"Aqsa\")\n",
    "print(s1.name)\n",
    "del s1.name\n",
    "print(s1.name) # error because name deleted\n"
   ]
  },
  {
   "cell_type": "markdown",
   "id": "747388f5-a86a-4bbb-81fa-2607b5d79028",
   "metadata": {},
   "source": [
    "## private (use __ ) class ky bahir access nahi kr skty"
   ]
  },
  {
   "cell_type": "code",
   "execution_count": 74,
   "id": "ce8b61c4-30e7-4c12-a413-d4b950d2c9a9",
   "metadata": {},
   "outputs": [
    {
     "name": "stdout",
     "output_type": "stream",
     "text": [
      "12345\n"
     ]
    },
    {
     "ename": "AttributeError",
     "evalue": "'account' object has no attribute '__acc_pass'",
     "output_type": "error",
     "traceback": [
      "\u001b[1;31m---------------------------------------------------------------------------\u001b[0m",
      "\u001b[1;31mAttributeError\u001b[0m                            Traceback (most recent call last)",
      "Cell \u001b[1;32mIn[74], line 8\u001b[0m\n\u001b[0;32m      6\u001b[0m acc1 \u001b[38;5;241m=\u001b[39m account(\u001b[38;5;124m\"\u001b[39m\u001b[38;5;124m12345\u001b[39m\u001b[38;5;124m\"\u001b[39m , \u001b[38;5;124m\"\u001b[39m\u001b[38;5;124mabcd\u001b[39m\u001b[38;5;124m\"\u001b[39m)\n\u001b[0;32m      7\u001b[0m \u001b[38;5;28mprint\u001b[39m(acc1\u001b[38;5;241m.\u001b[39macc_no)\n\u001b[1;32m----> 8\u001b[0m \u001b[38;5;28mprint\u001b[39m(acc1\u001b[38;5;241m.\u001b[39m__acc_pass)\n",
      "\u001b[1;31mAttributeError\u001b[0m: 'account' object has no attribute '__acc_pass'"
     ]
    }
   ],
   "source": [
    "class account:\n",
    "    def __init__ (self, acc_no , acc_pass):\n",
    "        self.acc_no = acc_no\n",
    "        self.__acc_pass = acc_pass\n",
    "\n",
    "acc1 = account(\"12345\" , \"abcd\")\n",
    "print(acc1.acc_no)\n",
    "print(acc1.__acc_pass)"
   ]
  },
  {
   "cell_type": "code",
   "execution_count": 76,
   "id": "7e6f25be-c162-4f06-92cd-8e6a2817ff52",
   "metadata": {},
   "outputs": [
    {
     "name": "stdout",
     "output_type": "stream",
     "text": [
      "12345\n",
      "abcd\n",
      "None\n"
     ]
    }
   ],
   "source": [
    "class account:\n",
    "    def __init__ (self, acc_no , acc_pass):\n",
    "        self.acc_no = acc_no\n",
    "        self.__acc_pass = acc_pass\n",
    "\n",
    "    def reset_pass(self):\n",
    "        print(self.__acc_pass)\n",
    "\n",
    "acc1 = account(\"12345\" , \"abcd\")\n",
    "print(acc1.acc_no)\n",
    "print(acc1.reset_pass())"
   ]
  },
  {
   "cell_type": "code",
   "execution_count": 80,
   "id": "6bd8a68a-6f0c-44a5-a1e8-b38f18f14446",
   "metadata": {
    "scrolled": true
   },
   "outputs": [
    {
     "ename": "AttributeError",
     "evalue": "'person' object has no attribute 'name'",
     "output_type": "error",
     "traceback": [
      "\u001b[1;31m---------------------------------------------------------------------------\u001b[0m",
      "\u001b[1;31mAttributeError\u001b[0m                            Traceback (most recent call last)",
      "Cell \u001b[1;32mIn[80], line 7\u001b[0m\n\u001b[0;32m      4\u001b[0m         \u001b[38;5;28mprint\u001b[39m(\u001b[38;5;124m\"\u001b[39m\u001b[38;5;124mhello person\u001b[39m\u001b[38;5;124m\"\u001b[39m)\n\u001b[0;32m      6\u001b[0m p1 \u001b[38;5;241m=\u001b[39m person()\n\u001b[1;32m----> 7\u001b[0m \u001b[38;5;28mprint\u001b[39m(p1\u001b[38;5;241m.\u001b[39mname)\n\u001b[0;32m      8\u001b[0m \u001b[38;5;28mprint\u001b[39m(p1\u001b[38;5;241m.\u001b[39m__hello())\n",
      "\u001b[1;31mAttributeError\u001b[0m: 'person' object has no attribute 'name'"
     ]
    }
   ],
   "source": [
    "class person:\n",
    "    __name = \"aqsa\"\n",
    "    def __hello(self):\n",
    "        print(\"hello person\")\n",
    "\n",
    "p1 = person()\n",
    "print(p1.name)\n",
    "print(p1.__hello())\n",
    "\n",
    "\n",
    "\n",
    "\n"
   ]
  },
  {
   "cell_type": "code",
   "execution_count": 81,
   "id": "c7fcf65c-c3d4-4cdc-9c68-1bf5528e25a3",
   "metadata": {},
   "outputs": [
    {
     "name": "stdout",
     "output_type": "stream",
     "text": [
      "hello person\n",
      "None\n"
     ]
    }
   ],
   "source": [
    "class person:\n",
    "    __name = \"aqsa\"\n",
    "    def __hello(self ):\n",
    "        print(\"hello person\")\n",
    "\n",
    "    def welcome(self): # hello private ha tu hum isy welcome ky through call krwaien gain \n",
    "        self.__hello()\n",
    "\n",
    "p1 = person()\n",
    "\n",
    "print(p1.welcome())"
   ]
  },
  {
   "cell_type": "markdown",
   "id": "20740a32-1753-4db1-b12d-1c32b2f7082e",
   "metadata": {},
   "source": [
    "### Inheritance => when one class(child / derived ) derives the properties  and methods of another class ( parent / base )"
   ]
  },
  {
   "cell_type": "code",
   "execution_count": 86,
   "id": "d67d668d-f54d-4c17-9a50-dfeb743d4d6e",
   "metadata": {},
   "outputs": [
    {
     "name": "stdout",
     "output_type": "stream",
     "text": [
      "car started ...\n",
      "None\n",
      "black\n"
     ]
    }
   ],
   "source": [
    "# single inheritance\n",
    "\n",
    "\n",
    "class Car:\n",
    "    color = \"black\"\n",
    "    @staticmethod\n",
    "    def start():\n",
    "        print(\"car started ...\")\n",
    "    @staticmethod\n",
    "    def stop():\n",
    "        print(\"car stopped ... \")\n",
    "\n",
    "class Toyotacar(Car):\n",
    "    def __init__(self , name):\n",
    "        self.name = name\n",
    "\n",
    "c1 = Toyotacar(\"fortune\")\n",
    "c2 = Toyotacar(\"prius\")\n",
    "\n",
    "print(c1.start())\n",
    "print(c1.color)\n",
    "\n",
    "        "
   ]
  },
  {
   "cell_type": "code",
   "execution_count": 87,
   "id": "b68cc517-4d44-4264-8641-3663805a1a80",
   "metadata": {},
   "outputs": [
    {
     "name": "stdout",
     "output_type": "stream",
     "text": [
      "car started ...\n",
      "None\n"
     ]
    }
   ],
   "source": [
    "# Multi-Level inheritance\n",
    "\n",
    "class Car:\n",
    "    \n",
    "    @staticmethod\n",
    "    def start():\n",
    "        print(\"car started ...\")\n",
    "    @staticmethod\n",
    "    def stop():\n",
    "        print(\"car stopped ... \")\n",
    "\n",
    "class Toyotacar(Car):\n",
    "    def __init__(self , brand):\n",
    "        self.brand = brand\n",
    "\n",
    "class Fortuner(Toyotacar):\n",
    "    def __init(self , type):\n",
    "        self.type = typeT\n",
    "\n",
    "c1 = Fortuner(\"disel\")  \n",
    "\n",
    "print(c1.start())\n"
   ]
  },
  {
   "cell_type": "code",
   "execution_count": 89,
   "id": "4c1816a1-3b11-43fd-a7d6-ba9de97a481e",
   "metadata": {},
   "outputs": [
    {
     "name": "stdout",
     "output_type": "stream",
     "text": [
      "welcome to class C\n",
      "welcome to class B\n",
      "welcome to class A\n"
     ]
    }
   ],
   "source": [
    "#multiple inheritance\n",
    "class A:\n",
    "    varA = \"welcome to class A\"\n",
    "   \n",
    "class B:\n",
    "    varB = \"welcome to class B\"\n",
    "\n",
    "class C (A, B):\n",
    "    varC = \"welcome to class C\"\n",
    "\n",
    "c1 = C()\n",
    "print(c1.varC)\n",
    "print(c1.varB)\n",
    "print(c1.varA)\n",
    "    "
   ]
  },
  {
   "cell_type": "markdown",
   "id": "55dc09d7-82f4-4cc8-91c2-0f4252ea3101",
   "metadata": {},
   "source": [
    "## Super method => is used to access method of the parent class"
   ]
  },
  {
   "cell_type": "code",
   "execution_count": 6,
   "id": "6bef3589-2e79-40d6-9d4e-6a08f676e540",
   "metadata": {},
   "outputs": [
    {
     "name": "stdout",
     "output_type": "stream",
     "text": [
      "car started ...\n",
      "electric\n"
     ]
    }
   ],
   "source": [
    "\n",
    "class Car:\n",
    "    def __init__(self , type):\n",
    "        self.type = type\n",
    "    \n",
    "    @staticmethod\n",
    "    def start():\n",
    "        print(\"car started ...\")\n",
    "    @staticmethod\n",
    "    def stop():\n",
    "        print(\"car stopped ... \")\n",
    "\n",
    "class Toyotacar(Car):\n",
    "    def __init__(self , name , type):\n",
    "        super().__init__(type) # super class ky andr constructor call ho ga jis ma type method ha\n",
    "        super().start()\n",
    "        self.name = name\n",
    "        \n",
    "        \n",
    "\n",
    "c1 = Toyotacar(\"prius\" , \"electric\")\n",
    "print(c1.type)"
   ]
  },
  {
   "cell_type": "markdown",
   "id": "b2d2f0e3-0f01-4089-acf8-3ee6ca497748",
   "metadata": {},
   "source": [
    "## Class Method"
   ]
  },
  {
   "cell_type": "code",
   "execution_count": 7,
   "id": "15f8d7ca-0493-44de-8883-b7cf54bc9bee",
   "metadata": {},
   "outputs": [
    {
     "name": "stdout",
     "output_type": "stream",
     "text": [
      "aqsa\n",
      "anonymous\n"
     ]
    }
   ],
   "source": [
    "class person:\n",
    "    name = \"anonymous\"\n",
    "\n",
    "    def changename(self , name):\n",
    "        self.name = name\n",
    "\n",
    "p1 = person()\n",
    "p1.changename (\"aqsa\")\n",
    "print(p1.name)\n",
    "print(person.name)\n",
    "\n",
    "\"\"\" jb name chnage kr rhy hain tu object ka nam change ho rha ha class ka nahi \n",
    "lakin hamien class attribute ko change krna ha \n",
    "\"\"\""
   ]
  },
  {
   "cell_type": "code",
   "execution_count": 8,
   "id": "a6785e26-1c8f-4a13-932b-7b8183325284",
   "metadata": {},
   "outputs": [
    {
     "name": "stdout",
     "output_type": "stream",
     "text": [
      "aqsa\n",
      "aqsa\n"
     ]
    }
   ],
   "source": [
    "class person:\n",
    "    name = \"anonymous\"\n",
    "\n",
    "    def changename(self , name):\n",
    "        person.name = name\n",
    "\n",
    "p1 = person()\n",
    "p1.changename (\"aqsa\")\n",
    "print(p1.name)\n",
    "print(person.name)"
   ]
  },
  {
   "cell_type": "code",
   "execution_count": 9,
   "id": "805f7415-69ea-4201-b9c4-2da70230a960",
   "metadata": {},
   "outputs": [
    {
     "name": "stdout",
     "output_type": "stream",
     "text": [
      "aqsa\n",
      "aqsa\n"
     ]
    }
   ],
   "source": [
    "\"\"\" lakin agr hum chaty hain ky hamry function ky andr class ko directly acces krien tu usko\n",
    "likhny ky lia class methods hoty hain \"\"\"\n",
    "class person:\n",
    "    name = \"anonymous\"\n",
    "\n",
    "    @classmethod\n",
    "    def changename(cls , name): # cls , class ko  refer  kr ri ha\n",
    "        cls.name = name # ya chnage directly class ky attribute ma ho ga\n",
    "\n",
    "p1 = person()\n",
    "p1.changename (\"aqsa\")\n",
    "print(p1.name)\n",
    "print(person.name)"
   ]
  },
  {
   "cell_type": "markdown",
   "id": "c9900908-5bf9-468f-b115-4fd17aff64b1",
   "metadata": {},
   "source": [
    "## property"
   ]
  },
  {
   "cell_type": "code",
   "execution_count": 13,
   "id": "adc5748e-07bd-4676-9219-eed46d6ce907",
   "metadata": {},
   "outputs": [
    {
     "name": "stdout",
     "output_type": "stream",
     "text": [
      "98.0 % \n",
      "66\n",
      "98.0 % \n"
     ]
    }
   ],
   "source": [
    " class student:\n",
    "     def __init__(self , phy , chem , maths):\n",
    "         self.phy = phy\n",
    "         self.chem = chem\n",
    "         self.maths = maths\n",
    "         self.percentage = str((self.phy + self.chem + self.maths) / 3 ) + \" % \"\n",
    "\n",
    "s1 = student(98, 97,99)\n",
    "print(s1.percentage)\n",
    "\n",
    "s1.phy = 66\n",
    "print(s1.phy)\n",
    "print(s1.percentage) \n",
    "# is sy marks tu chage hun gain lakin percentage nahi ho geee qky wo original numbers sy calculate hp rii ha "
   ]
  },
  {
   "cell_type": "code",
   "execution_count": 15,
   "id": "d728e4fe-2bbd-4095-bad4-682a2c023e5c",
   "metadata": {},
   "outputs": [
    {
     "name": "stdout",
     "output_type": "stream",
     "text": [
      "98.0 % \n",
      "66\n",
      "87.33333333333333 % \n"
     ]
    }
   ],
   "source": [
    " class student:\n",
    "     def __init__(self , phy , chem , maths):\n",
    "         self.phy = phy\n",
    "         self.chem = chem\n",
    "         self.maths = maths\n",
    "         self.percentage = str((self.phy + self.chem + self.maths) / 3 ) + \" % \"\n",
    "         \n",
    "\n",
    "     def calculate(self):\n",
    "         self.percentage = str((self.phy + self.chem + self.maths) / 3 ) + \" % \"\n",
    "\n",
    "s1 = student(98, 97,99)\n",
    "print(s1.percentage)\n",
    "\n",
    "s1.phy = 66\n",
    "print(s1.phy)\n",
    "s1.calculate()\n",
    "print(s1.percentage)"
   ]
  },
  {
   "cell_type": "code",
   "execution_count": 25,
   "id": "b47bfe2c-d944-4db9-a822-32aeaf3d2e00",
   "metadata": {},
   "outputs": [
    {
     "name": "stdout",
     "output_type": "stream",
     "text": [
      "98.0 % \n",
      "66\n",
      "87.33333333333333 % \n"
     ]
    }
   ],
   "source": [
    "\"\"\" better way to use property decorator\n",
    " jb ak attribute ki value ksi fun pr depend kr ri ha tu usy hum property bana skty hain\n",
    "\"\"\"\n",
    "class student:\n",
    "     def __init__(self , phy , chem , maths):\n",
    "         \n",
    "         self.phy = phy\n",
    "         self.chem = chem\n",
    "         self.maths = maths\n",
    "         \n",
    "     @property\n",
    "     def calculate(self):\n",
    "         return str((self.phy + self.chem + self.maths) / 3 ) + \" % \"\n",
    "             \n",
    "            \n",
    "         # jo bi value return ho gee wo property ma change ho ge mtlb attribute ma\n",
    "# ab jb bi hum calculate krien gain tu jo latest value ho gee us sy calculate ho ga\n",
    "\n",
    "s1 = student(98, 97,99)\n",
    "print(s1.calculate)\n",
    "\n",
    "s1.phy = 66\n",
    "print(s1.phy)\n",
    "print(s1.calculate)\n"
   ]
  },
  {
   "cell_type": "markdown",
   "id": "0b7b5233-b846-4968-a4dd-4c4194cefde7",
   "metadata": {},
   "source": [
    "## Polymorphism  ( poly => many , morp => forms )  mtlb ak hi chez ko alag alag way sy use kia jay "
   ]
  },
  {
   "cell_type": "code",
   "execution_count": 31,
   "id": "16c19395-9723-46db-95f3-0cc1df007641",
   "metadata": {},
   "outputs": [
    {
     "name": "stdout",
     "output_type": "stream",
     "text": [
      "3\n",
      "aqsa yaqoob\n",
      "[1, 2, 3, 4, 5, 6]\n",
      "aqsa123\n"
     ]
    }
   ],
   "source": [
    "\"\"\" in python best example is operator overloading => when the same operator\n",
    "is allowed to have different meaning according to the context \"\"\"\n",
    "\n",
    "print(1 + 2) # 3\n",
    "print(\"aqsa\" + \" yaqoob\") # concatenate\n",
    "print([1,2,3] + [4,5,6]) # merge\n",
    "\n",
    "\n",
    "# same operator but differnt kam"
   ]
  },
  {
   "cell_type": "code",
   "execution_count": 37,
   "id": "c1594317-fb98-452d-9ec9-a0898d54c28f",
   "metadata": {},
   "outputs": [
    {
     "name": "stdout",
     "output_type": "stream",
     "text": [
      "1 i + 3 j\n",
      "4 i + 6 j\n",
      "5 i + 9 j\n"
     ]
    }
   ],
   "source": [
    "class complex:\n",
    "    def __init__(self , real , img):\n",
    "        self.real = real\n",
    "        self.img =img\n",
    "\n",
    "    def shownumber(self):\n",
    "        print(self.real , \"i +\" , self.img , \"j\")\n",
    "\n",
    "    def add(self, n2):\n",
    "        newReal = self.real + n2.real\n",
    "        newImg = self.img + n2.img\n",
    "        return complex ( newReal , newImg)\n",
    "\n",
    "n1 = complex(1 , 3 )\n",
    "n1.shownumber()\n",
    "\n",
    "n2 = complex(4 , 6 )\n",
    "n2.shownumber()\n",
    "\n",
    "n3 = n1.add(n2)\n",
    "n3.shownumber()\n",
    "        "
   ]
  },
  {
   "cell_type": "code",
   "execution_count": 38,
   "id": "77cee080-7e8b-4c38-a748-925215546f8d",
   "metadata": {},
   "outputs": [
    {
     "name": "stdout",
     "output_type": "stream",
     "text": [
      "1 i + 3 j\n",
      "4 i + 6 j\n"
     ]
    },
    {
     "ename": "TypeError",
     "evalue": "unsupported operand type(s) for +: 'complex' and 'complex'",
     "output_type": "error",
     "traceback": [
      "\u001b[1;31m---------------------------------------------------------------------------\u001b[0m",
      "\u001b[1;31mTypeError\u001b[0m                                 Traceback (most recent call last)",
      "Cell \u001b[1;32mIn[38], line 20\u001b[0m\n\u001b[0;32m     17\u001b[0m n2 \u001b[38;5;241m=\u001b[39m \u001b[38;5;28mcomplex\u001b[39m(\u001b[38;5;241m4\u001b[39m , \u001b[38;5;241m6\u001b[39m )\n\u001b[0;32m     18\u001b[0m n2\u001b[38;5;241m.\u001b[39mshownumber()\n\u001b[1;32m---> 20\u001b[0m n3 \u001b[38;5;241m=\u001b[39m n1 \u001b[38;5;241m+\u001b[39m n2\n\u001b[0;32m     21\u001b[0m n3\u001b[38;5;241m.\u001b[39mshownumber()\n",
      "\u001b[1;31mTypeError\u001b[0m: unsupported operand type(s) for +: 'complex' and 'complex'"
     ]
    }
   ],
   "source": [
    "class complex:\n",
    "    def __init__(self , real , img):\n",
    "        self.real = real\n",
    "        self.img =img\n",
    "\n",
    "    def shownumber(self):\n",
    "        print(self.real , \"i +\" , self.img , \"j\")\n",
    "\n",
    "    def add(self, n2):\n",
    "        newReal = self.real + n2.real\n",
    "        newImg = self.img + n2.img\n",
    "        return complex ( newReal , newImg)\n",
    "\n",
    "n1 = complex(1 , 3 )\n",
    "n1.shownumber()\n",
    "\n",
    "n2 = complex(4 , 6 )\n",
    "n2.shownumber()\n",
    "\n",
    "n3 = n1 + n2 # error ay ga because complex number ko add krny ky lia fun nahi ha tu hamien dunder fun banana pry ga \n",
    "n3.shownumber()"
   ]
  },
  {
   "cell_type": "code",
   "execution_count": 40,
   "id": "62d3d9bc-90aa-4b25-9cf3-5961409a337c",
   "metadata": {},
   "outputs": [
    {
     "name": "stdout",
     "output_type": "stream",
     "text": [
      "1 i + 3 j\n",
      "4 i + 6 j\n",
      "5 i + 9 j\n",
      "-3 i + -3 j\n"
     ]
    }
   ],
   "source": [
    "class complex:\n",
    "    def __init__(self , real , img):\n",
    "        self.real = real\n",
    "        self.img =img\n",
    "\n",
    "    def shownumber(self):\n",
    "        print(self.real , \"i +\" , self.img , \"j\")\n",
    "\n",
    "    def __add__(self, n2): # dunder function\n",
    "        newReal = self.real + n2.real\n",
    "        newImg = self.img + n2.img\n",
    "        return complex ( newReal , newImg)\n",
    "\n",
    "    def __sub__(self, n2): # dunder function\n",
    "        newReal = self.real - n2.real\n",
    "        newImg = self.img - n2.img\n",
    "        return complex ( newReal , newImg)\n",
    "\n",
    "n1 = complex(1 , 3 )\n",
    "n1.shownumber()\n",
    "\n",
    "n2 = complex(4 , 6 )\n",
    "n2.shownumber()\n",
    "\n",
    "n3 = n1 + n2\n",
    "n3.shownumber()\n",
    "\n",
    "n3 = n1 - n2\n",
    "n3.shownumber()"
   ]
  },
  {
   "cell_type": "code",
   "execution_count": null,
   "id": "ec32aaa2-e319-4e34-b703-d4381d9b21e4",
   "metadata": {},
   "outputs": [],
   "source": []
  }
 ],
 "metadata": {
  "kernelspec": {
   "display_name": "Python [conda env:base] *",
   "language": "python",
   "name": "conda-base-py"
  },
  "language_info": {
   "codemirror_mode": {
    "name": "ipython",
    "version": 3
   },
   "file_extension": ".py",
   "mimetype": "text/x-python",
   "name": "python",
   "nbconvert_exporter": "python",
   "pygments_lexer": "ipython3",
   "version": "3.12.7"
  }
 },
 "nbformat": 4,
 "nbformat_minor": 5
}
